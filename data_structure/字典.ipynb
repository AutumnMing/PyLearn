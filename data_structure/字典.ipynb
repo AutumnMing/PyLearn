{
 "cells": [
  {
   "cell_type": "code",
   "execution_count": 1,
   "metadata": {},
   "outputs": [],
   "source": [
    "from collections import OrderedDict"
   ]
  },
  {
   "cell_type": "markdown",
   "metadata": {},
   "source": [
    "#### 字典方法"
   ]
  },
  {
   "cell_type": "markdown",
   "metadata": {},
   "source": [
    "##### 1.1 pop测试"
   ]
  },
  {
   "cell_type": "code",
   "execution_count": 2,
   "metadata": {},
   "outputs": [
    {
     "name": "stdout",
     "output_type": "stream",
     "text": [
      "None\n"
     ]
    }
   ],
   "source": [
    "dicta = {'a':1, 'b':2, 'c':3}\n",
    "value = dicta.get('d') # 不给出default值, 则会返回None\n",
    "if not value:\n",
    "    print(value)"
   ]
  },
  {
   "cell_type": "markdown",
   "metadata": {},
   "source": [
    "##### 1.2 string通过dict进行格式化"
   ]
  },
  {
   "cell_type": "code",
   "execution_count": 3,
   "metadata": {},
   "outputs": [
    {
     "name": "stdout",
     "output_type": "stream",
     "text": [
      "江苏省南通市数据统计结果\n"
     ]
    }
   ],
   "source": [
    "stringa = \"{prov}省{city}数据统计结果\"\n",
    "dicta = {'prov':'江苏', 'city':'南通市', 'distirct':'海门区'}\n",
    "print(stringa.format(**dicta))\n",
    "dicta.pop('prov')"
   ]
  },
  {
   "cell_type": "markdown",
   "metadata": {},
   "source": [
    "#### 有序字典"
   ]
  },
  {
   "cell_type": "code",
   "execution_count": 23,
   "metadata": {},
   "outputs": [
    {
     "name": "stdout",
     "output_type": "stream",
     "text": [
      "一般字典方法\n",
      "['clear', 'copy', 'fromkeys', 'get', 'items', 'keys', 'pop', 'popitem', 'setdefault', 'update', 'values']\n",
      "有序字典方法\n",
      "OrderedDict([('prov', '江苏'), ('city', '南通市'), ('distirct', '海门区')])\n",
      "['clear', 'copy', 'fromkeys', 'get', 'items', 'keys', 'move_to_end', 'pop', 'popitem', 'setdefault', 'update', 'values']\n"
     ]
    }
   ],
   "source": [
    "dicta = {'prov':'江苏', 'city':'南通市', 'distirct':'海门区'} # 一般字典\n",
    "print('一般字典方法')\n",
    "print([ each for each in dir(dicta) if not each.endswith('__')])\n",
    "print('有序字典方法')\n",
    "order_dicta = OrderedDict(dicta) # 有序字典\n",
    "print(order_dicta)\n",
    "print([ each for each in dir(order_dicta) if not each.endswith('__')]) # 有序字典方法"
   ]
  },
  {
   "cell_type": "code",
   "execution_count": 28,
   "metadata": {},
   "outputs": [
    {
     "name": "stdout",
     "output_type": "stream",
     "text": [
      "['prov', 'city', 'distirct']\n",
      "['distirct', 'city', 'prov']\n"
     ]
    }
   ],
   "source": [
    "print(list(dicta))\n",
    "print(list(reversed(dicta)))"
   ]
  },
  {
   "cell_type": "code",
   "execution_count": null,
   "metadata": {},
   "outputs": [],
   "source": []
  }
 ],
 "metadata": {
  "kernelspec": {
   "display_name": "Python 3.8.5 ('base')",
   "language": "python",
   "name": "python3"
  },
  "language_info": {
   "codemirror_mode": {
    "name": "ipython",
    "version": 3
   },
   "file_extension": ".py",
   "mimetype": "text/x-python",
   "name": "python",
   "nbconvert_exporter": "python",
   "pygments_lexer": "ipython3",
   "version": "3.8.5"
  },
  "orig_nbformat": 4,
  "vscode": {
   "interpreter": {
    "hash": "91bb753b057673435fb8d6f6a083e6c818364728098c7ae050ca3a25357dd754"
   }
  }
 },
 "nbformat": 4,
 "nbformat_minor": 2
}

{
 "cells": [
  {
   "cell_type": "code",
   "execution_count": 24,
   "metadata": {
    "collapsed": true,
    "pycharm": {
     "name": "#%%\n"
    }
   },
   "outputs": [],
   "source": [
    "from pprint import pprint\n",
    "import requests\n",
    "import pandas as pd\n",
    "import numpy as np\n",
    "from time import sleep\n",
    "from tqdm import tqdm\n",
    "import warnings\n",
    "from urllib3.exceptions import InsecureRequestWarning # 针对ssl验证产生警告的错书"
   ]
  },
  {
   "cell_type": "code",
   "execution_count": 25,
   "outputs": [],
   "source": [
    "warnings.filterwarnings(\"ignore\", category=InsecureRequestWarning)"
   ],
   "metadata": {
    "collapsed": false,
    "pycharm": {
     "name": "#%%\n"
    }
   }
  },
  {
   "cell_type": "code",
   "execution_count": 26,
   "outputs": [
    {
     "name": "stdout",
     "output_type": "stream",
     "text": [
      "[{'code': 'zb', 'fsort': 1, 'issj': False, 'name': '指标'},\n",
      " {'code': 'reg', 'fsort': 2, 'issj': False, 'name': '地区'},\n",
      " {'code': 'sj', 'fsort': 3, 'issj': True, 'name': '时间'}]\n"
     ]
    }
   ],
   "source": [
    "base_url = 'https://data.stats.gov.cn/adv.htm'\n",
    "param = {'m':'wd', 'db':'fsnd'}\n",
    "r = requests.get(base_url, params=param, verify=False)\n",
    "pprint(r.json())"
   ],
   "metadata": {
    "collapsed": false,
    "pycharm": {
     "name": "#%%\n"
    }
   }
  },
  {
   "cell_type": "markdown",
   "source": [
    "### 一级指标"
   ],
   "metadata": {
    "collapsed": false,
    "pycharm": {
     "name": "#%% md\n"
    }
   }
  },
  {
   "cell_type": "code",
   "execution_count": 27,
   "outputs": [],
   "source": [
    "base_url = 'https://data.stats.gov.cn/adv.htm'\n",
    "param = {'m':'findZbXl', 'wd':'zb', 'db':'fsnd'}\n",
    "r = requests.get(base_url, params=param, verify=False)\n",
    "level1 = pd.DataFrame(r.json())"
   ],
   "metadata": {
    "collapsed": false,
    "pycharm": {
     "name": "#%%\n"
    }
   }
  },
  {
   "cell_type": "code",
   "execution_count": 28,
   "outputs": [
    {
     "data": {
      "text/plain": "  dbcode exp   id  isParent    name   open pid  wd\n0   fsnd      A01      True      综合  False      zb\n1   fsnd      A02      True  国民经济核算  False      zb",
      "text/html": "<div>\n<style scoped>\n    .dataframe tbody tr th:only-of-type {\n        vertical-align: middle;\n    }\n\n    .dataframe tbody tr th {\n        vertical-align: top;\n    }\n\n    .dataframe thead th {\n        text-align: right;\n    }\n</style>\n<table border=\"1\" class=\"dataframe\">\n  <thead>\n    <tr style=\"text-align: right;\">\n      <th></th>\n      <th>dbcode</th>\n      <th>exp</th>\n      <th>id</th>\n      <th>isParent</th>\n      <th>name</th>\n      <th>open</th>\n      <th>pid</th>\n      <th>wd</th>\n    </tr>\n  </thead>\n  <tbody>\n    <tr>\n      <th>0</th>\n      <td>fsnd</td>\n      <td></td>\n      <td>A01</td>\n      <td>True</td>\n      <td>综合</td>\n      <td>False</td>\n      <td></td>\n      <td>zb</td>\n    </tr>\n    <tr>\n      <th>1</th>\n      <td>fsnd</td>\n      <td></td>\n      <td>A02</td>\n      <td>True</td>\n      <td>国民经济核算</td>\n      <td>False</td>\n      <td></td>\n      <td>zb</td>\n    </tr>\n  </tbody>\n</table>\n</div>"
     },
     "execution_count": 28,
     "metadata": {},
     "output_type": "execute_result"
    }
   ],
   "source": [
    "level1.to_csv('./data/level1.csv', index=False, encoding='utf-8')\n",
    "level1.head(2)"
   ],
   "metadata": {
    "collapsed": false,
    "pycharm": {
     "name": "#%%\n"
    }
   }
  },
  {
   "cell_type": "markdown",
   "source": [
    "### 二级指标"
   ],
   "metadata": {
    "collapsed": false,
    "pycharm": {
     "name": "#%% md\n"
    }
   }
  },
  {
   "cell_type": "code",
   "execution_count": 29,
   "outputs": [
    {
     "name": "stderr",
     "output_type": "stream",
     "text": [
      "100%|██████████| 28/28 [00:13<00:00,  2.02it/s]\n"
     ]
    }
   ],
   "source": [
    "base_url = 'https://data.stats.gov.cn/adv.htm'\n",
    "params = {'m':'findZbXl', 'wd':'zb', 'db':'fsnd'}\n",
    "list_data = []\n",
    "for each_dict in tqdm(level1.to_dict('records')):\n",
    "    params['treeId'] = each_dict.get('id')\n",
    "    r = requests.get(base_url, params=params, verify=False).json()\n",
    "    list_data.append(pd.DataFrame(r))\n",
    "    sleep(np.random.rand() * 0.1)\n",
    "level2 = pd.concat(list_data, ignore_index=True)"
   ],
   "metadata": {
    "collapsed": false,
    "pycharm": {
     "name": "#%%\n"
    }
   }
  },
  {
   "cell_type": "code",
   "execution_count": 30,
   "outputs": [
    {
     "data": {
      "text/plain": "  dbcode exp     id  isParent   name   open  pid  wd\n0   fsnd      A0101     False   行政区划  False  A01  zb\n1   fsnd      A0102      True  法人单位数  False  A01  zb",
      "text/html": "<div>\n<style scoped>\n    .dataframe tbody tr th:only-of-type {\n        vertical-align: middle;\n    }\n\n    .dataframe tbody tr th {\n        vertical-align: top;\n    }\n\n    .dataframe thead th {\n        text-align: right;\n    }\n</style>\n<table border=\"1\" class=\"dataframe\">\n  <thead>\n    <tr style=\"text-align: right;\">\n      <th></th>\n      <th>dbcode</th>\n      <th>exp</th>\n      <th>id</th>\n      <th>isParent</th>\n      <th>name</th>\n      <th>open</th>\n      <th>pid</th>\n      <th>wd</th>\n    </tr>\n  </thead>\n  <tbody>\n    <tr>\n      <th>0</th>\n      <td>fsnd</td>\n      <td></td>\n      <td>A0101</td>\n      <td>False</td>\n      <td>行政区划</td>\n      <td>False</td>\n      <td>A01</td>\n      <td>zb</td>\n    </tr>\n    <tr>\n      <th>1</th>\n      <td>fsnd</td>\n      <td></td>\n      <td>A0102</td>\n      <td>True</td>\n      <td>法人单位数</td>\n      <td>False</td>\n      <td>A01</td>\n      <td>zb</td>\n    </tr>\n  </tbody>\n</table>\n</div>"
     },
     "execution_count": 30,
     "metadata": {},
     "output_type": "execute_result"
    }
   ],
   "source": [
    "level2.to_csv('./data/level2.csv',index=False, encoding='utf-8')\n",
    "level2.head(2)"
   ],
   "metadata": {
    "collapsed": false,
    "pycharm": {
     "name": "#%%\n"
    }
   }
  },
  {
   "cell_type": "code",
   "execution_count": 30,
   "outputs": [],
   "source": [],
   "metadata": {
    "collapsed": false,
    "pycharm": {
     "name": "#%%\n"
    }
   }
  }
 ],
 "metadata": {
  "kernelspec": {
   "display_name": "Python 3",
   "language": "python",
   "name": "python3"
  },
  "language_info": {
   "codemirror_mode": {
    "name": "ipython",
    "version": 2
   },
   "file_extension": ".py",
   "mimetype": "text/x-python",
   "name": "python",
   "nbconvert_exporter": "python",
   "pygments_lexer": "ipython2",
   "version": "2.7.6"
  }
 },
 "nbformat": 4,
 "nbformat_minor": 0
}
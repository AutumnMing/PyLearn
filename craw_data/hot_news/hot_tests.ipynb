{
 "cells": [
  {
   "cell_type": "code",
   "execution_count": 1,
   "metadata": {
    "collapsed": true
   },
   "outputs": [],
   "source": [
    "from requests import get as res_get\n",
    "from parsel import Selector"
   ]
  },
  {
   "cell_type": "markdown",
   "source": [
    "#### 百度热搜"
   ],
   "metadata": {
    "collapsed": false
   }
  },
  {
   "cell_type": "code",
   "execution_count": 2,
   "outputs": [],
   "source": [
    "url = '''https://top.baidu.com/board?tab=realtime'''\n",
    "headers = {\n",
    "    'User-Agent':'''Mozilla/5.0 (Windows NT 10.0; Win64; x64) \\\n",
    "AppleWebKit/537.36 (KHTML, like Gecko) Chrome/108.0.0.0 Safari/537.36 Edg/108.0.1462.54'''\n",
    "}"
   ],
   "metadata": {
    "collapsed": false
   }
  },
  {
   "cell_type": "code",
   "execution_count": 3,
   "outputs": [
    {
     "name": "stdout",
     "output_type": "stream",
     "text": [
      "200\n",
      "utf-8\n"
     ]
    }
   ],
   "source": [
    "r = res_get(url, headers=headers)\n",
    "print(r.status_code)\n",
    "print(r.encoding)"
   ],
   "metadata": {
    "collapsed": false
   }
  },
  {
   "cell_type": "code",
   "execution_count": 4,
   "outputs": [
    {
     "name": "stdout",
     "output_type": "stream",
     "text": [
      "1 :   31省份新增5例死亡病例 均在北京 \n",
      "2 :   多地宣布无症状或轻症可上班 \n",
      "3 :   我阳了，我好了 \n",
      "4 :   何祚庥院士染疫无人问津?中科院回应 \n",
      "5 :   多地拆零销售退烧药 \n",
      "6 :   男童哭着戴护具坚持要照顾阳性爸爸 \n",
      "7 :   “阳”了多久可以出门？ \n",
      "8 :   产妇突然临盆好在助产士多看了一眼 \n",
      "9 :   以岭药业称连花清瘟可与布洛芬联用 \n",
      "10 :   35岁本泽马宣布从法国队退役 ​ \n",
      "11 :   法国队3名黑人球员遭网暴 \n",
      "12 :   目前还没阳性的人的生活状态 \n",
      "13 :   两架飞机在韩国仁川机场相撞 \n",
      "14 :   布洛芬和布洛芬缓释有啥区别 \n",
      "15 :   阿根廷门将领奖台做不雅动作惹争议 \n",
      "16 :   “球王”的商业版图有多庞大？ \n",
      "17 :   女子肇事致人死亡假装路人报警获刑 \n",
      "18 :   得了新冠肺快咳出来了怎么办 \n",
      "19 :   奔驰车主免费赠药：孩子曾高烧缺药 \n",
      "20 :   周围人全阳了 他们为何至今未感染？ \n",
      "21 :   挑温和的毒株感染产生抗体可行吗 \n",
      "22 :   国家要求快递业1月8日停业?真相来了 \n",
      "23 :   转阴15天后才能产生抗体？专家解读 \n",
      "24 :   援乌最卖力国家是爱沙尼亚 \n",
      "25 :   韩专家回应朝鲜卫星拍到韩总统府 \n",
      "26 :   N95口罩为何重演一罩难求 \n",
      "27 :   小红书成人使用美林攻略引争议 \n",
      "28 :   梅西晒飞机上与大力神杯合影 \n",
      "29 :   苏州一健康驿站推出阳性隔离套餐 \n",
      "30 :   阳了的弟弟凌晨两点起来写作业 \n"
     ]
    }
   ],
   "source": [
    "selector = Selector(r.text)\n",
    "items = selector.xpath('//div[@class=\"c-single-text-ellipsis\"]/text()')\n",
    "items = items[1:] # 去除默认置顶帖\n",
    "for index, title in enumerate(items, start=1):\n",
    "    print(index, ':', title.get())"
   ],
   "metadata": {
    "collapsed": false
   }
  },
  {
   "cell_type": "markdown",
   "source": [
    "#### 今日头条"
   ],
   "metadata": {
    "collapsed": false
   }
  },
  {
   "cell_type": "code",
   "execution_count": 5,
   "outputs": [
    {
     "name": "stdout",
     "output_type": "stream",
     "text": [
      "200\n",
      "utf-8\n"
     ]
    }
   ],
   "source": [
    "url = '''https://www.toutiao.com/hot-event/hot-board/?origin=toutiao_pc'''\n",
    "headers = {\n",
    "    'User-Agent':'''Mozilla/5.0 (Windows NT 10.0; Win64; x64) \\\n",
    "AppleWebKit/537.36 (KHTML, like Gecko) Chrome/108.0.0.0 Safari/537.36 Edg/108.0.1462.54'''\n",
    "}\n",
    "r = res_get(url, headers=headers)\n",
    "print(r.status_code)\n",
    "print(r.encoding)"
   ],
   "metadata": {
    "collapsed": false
   }
  },
  {
   "cell_type": "code",
   "execution_count": 6,
   "outputs": [
    {
     "data": {
      "text/plain": "['data', 'fixed_top_data', 'fixed_top_style', 'impr_id', 'status']"
     },
     "execution_count": 6,
     "metadata": {},
     "output_type": "execute_result"
    }
   ],
   "source": [
    "r = r.json()\n",
    "list(r)"
   ],
   "metadata": {
    "collapsed": false
   }
  },
  {
   "cell_type": "code",
   "execution_count": 7,
   "outputs": [
    {
     "name": "stdout",
     "output_type": "stream",
     "text": [
      "{'HotValue': '5970499', 'Title': '31省份新增5例死亡病例 在北京', 'ClusterType': 2, 'InterestCategory': ['health']}\n",
      "{'HotValue': '4423054', 'Title': '直播：阿根廷队回国 球迷在机场欢呼', 'ClusterType': 1, 'InterestCategory': None}\n",
      "{'HotValue': '4888231', 'Title': '多地药企马力全开 药品流转加快', 'ClusterType': 2, 'InterestCategory': None}\n",
      "{'HotValue': '5402331', 'Title': '曝部分法国球员指责帕瓦尔是内奸', 'ClusterType': 6, 'InterestCategory': ['football']}\n",
      "{'HotValue': '4002145', 'Title': '多地官宣：无症状和轻症可上班', 'ClusterType': 8, 'InterestCategory': ['health']}\n",
      "{'HotValue': '3621291', 'Title': '何祚庥院士染疫无人问津？官方回应', 'ClusterType': 5, 'InterestCategory': None}\n",
      "{'HotValue': '3276679', 'Title': '媒体：肖亚庆被“断崖式”降级', 'ClusterType': 8, 'InterestCategory': None}\n",
      "{'HotValue': '2964862', 'Title': '马丁内斯晒最后时刻扑救单刀瞬间', 'ClusterType': 6, 'InterestCategory': ['football']}\n",
      "{'HotValue': '2682718', 'Title': '专家：北京或在一两周内迎来重症高峰', 'ClusterType': 10, 'InterestCategory': ['health']}\n",
      "{'HotValue': '2427424', 'Title': '奔驰车主免费赠40盒退烧药', 'ClusterType': 1, 'InterestCategory': None}\n",
      "{'HotValue': '2196424', 'Title': '庆祝世界杯夺冠 阿根廷全国放假一天', 'ClusterType': 2, 'InterestCategory': ['football', 'international']}\n",
      "{'HotValue': '1987406', 'Title': '国家要求快递业1月8日停业？假的', 'ClusterType': 6, 'InterestCategory': None}\n",
      "{'HotValue': '1798279', 'Title': '梅西飞机上晒出与大力神杯合影', 'ClusterType': 8, 'InterestCategory': ['football']}\n",
      "{'HotValue': '1627150', 'Title': '阳性转阴后多久才不传染人', 'ClusterType': 4, 'InterestCategory': None}\n",
      "{'HotValue': '1472307', 'Title': '马斯克称将卸任推特CEO', 'ClusterType': 1, 'InterestCategory': ['technology']}\n",
      "{'HotValue': '1332198', 'Title': '男子买房救济弟弟被侄女起诉争房', 'ClusterType': 0, 'InterestCategory': None}\n",
      "{'HotValue': '1205423', 'Title': '“阳康”后15天才有抗体？专家解读', 'ClusterType': 2, 'InterestCategory': None}\n",
      "{'HotValue': '1090711', 'Title': '女子肇事致人死亡假装路人报警获刑', 'ClusterType': 0, 'InterestCategory': None}\n",
      "{'HotValue': '986916', 'Title': '本泽马宣布从法国国家队退役', 'ClusterType': 7, 'InterestCategory': ['football']}\n",
      "{'HotValue': '892999', 'Title': '东北制药涨停 此前为何被罚1.33亿', 'ClusterType': 1, 'InterestCategory': None}\n",
      "{'HotValue': '808019', 'Title': '张伯礼：警惕奥密克戎的多个亚型', 'ClusterType': 0, 'InterestCategory': None}\n",
      "{'HotValue': '731126', 'Title': '捧起大力神杯 阿根廷经济能获益吗', 'ClusterType': 6, 'InterestCategory': ['finance']}\n",
      "{'HotValue': '661550', 'Title': '内蒙古现巨大不明发光飞行物', 'ClusterType': 8, 'InterestCategory': None}\n",
      "{'HotValue': '598595', 'Title': '多地推行退烧药拆零销售', 'ClusterType': 5, 'InterestCategory': None}\n",
      "{'HotValue': '541631', 'Title': '六旬业主被保安打 家属物业各执一词', 'ClusterType': 1, 'InterestCategory': None}\n",
      "{'HotValue': '490088', 'Title': '珠海拆零销售布洛芬等药品', 'ClusterType': 8, 'InterestCategory': None}\n",
      "{'HotValue': '443450', 'Title': '“阳”了多久可以出门', 'ClusterType': 4, 'InterestCategory': None}\n",
      "{'HotValue': '401250', 'Title': '博士回应父亲寄6斤布洛芬：送人了', 'ClusterType': 2, 'InterestCategory': None}\n",
      "{'HotValue': '363066', 'Title': '杨丽萍疑感染新冠仍坚持演出遭质疑', 'ClusterType': 2, 'InterestCategory': ['entertainment']}\n",
      "{'HotValue': '328516', 'Title': 'N95口罩为何重演一罩难求', 'ClusterType': 1, 'InterestCategory': None}\n",
      "{'HotValue': '297253', 'Title': '一个人可能感染多次吗', 'ClusterType': 9, 'InterestCategory': ['health']}\n",
      "{'HotValue': '268966', 'Title': '争议声中的《县委大院》', 'ClusterType': 4, 'InterestCategory': ['entertainment']}\n",
      "{'HotValue': '243370', 'Title': '梅西穿的黑袍是什么意思', 'ClusterType': 9, 'InterestCategory': ['football']}\n",
      "{'HotValue': '220210', 'Title': '保定正在痛中恢复', 'ClusterType': 1, 'InterestCategory': None}\n",
      "{'HotValue': '199255', 'Title': '梅西夺冠苏醒激动捶地', 'ClusterType': 4, 'InterestCategory': ['entertainment', 'football']}\n",
      "{'HotValue': '180293', 'Title': '阳性女子“荒野隔离”：大棚里打地铺', 'ClusterType': 8, 'InterestCategory': None}\n",
      "{'HotValue': '163136', 'Title': '李欣然任中央纪委秘书长', 'ClusterType': 4, 'InterestCategory': None}\n",
      "{'HotValue': '147611', 'Title': '刀片株干饭株 你得的是啥“毒株”', 'ClusterType': 1, 'InterestCategory': None}\n",
      "{'HotValue': '133564', 'Title': '专家解释感染新冠后为何浑身疼', 'ClusterType': 6, 'InterestCategory': ['health']}\n",
      "{'HotValue': '120854', 'Title': '曝法足协人士称有问题可以怪本泽马', 'ClusterType': 6, 'InterestCategory': ['football']}\n",
      "{'HotValue': '109353', 'Title': '专家：橘子水更适合目前新冠用药特点', 'ClusterType': 2, 'InterestCategory': ['health']}\n",
      "{'HotValue': '98947', 'Title': '阳了之后能洗澡吗', 'ClusterType': 4, 'InterestCategory': ['health']}\n",
      "{'HotValue': '89531', 'Title': '打工妹为转行学英语 如今在美国建厂', 'ClusterType': 1, 'InterestCategory': None}\n",
      "{'HotValue': '81011', 'Title': '记者：洛里格列兹曼不愿本泽马回归', 'ClusterType': 6, 'InterestCategory': ['football']}\n",
      "{'HotValue': '73301', 'Title': '北京新冠二次感染率20%？专家辟谣', 'ClusterType': 9, 'InterestCategory': None}\n",
      "{'HotValue': '66326', 'Title': '张文宏：此轮疫情要做好2到4个月准备', 'ClusterType': 3, 'InterestCategory': ['health']}\n",
      "{'HotValue': '60014', 'Title': '重庆：倡导无症状不采样、不用药', 'ClusterType': 4, 'InterestCategory': None}\n",
      "{'HotValue': '54303', 'Title': '《阿凡达：水之道》视效有多震撼', 'ClusterType': 1, 'InterestCategory': None}\n",
      "{'HotValue': '49135', 'Title': '阳了去酒店隔离致工作人员感染', 'ClusterType': 0, 'InterestCategory': None}\n",
      "{'HotValue': '44459', 'Title': '阿根廷夺冠球王梅西能分多少钱', 'ClusterType': 2, 'InterestCategory': None}\n"
     ]
    }
   ],
   "source": [
    "datas = r['data']\n",
    "for data in datas:\n",
    "    each = {\n",
    "        'HotValue':data.get('HotValue'),\n",
    "        'Title':data.get('Title'),\n",
    "        'ClusterType':data.get('ClusterType'),\n",
    "        'InterestCategory':data.get('InterestCategory')\n",
    "    }\n",
    "    print(each)"
   ],
   "metadata": {
    "collapsed": false
   }
  },
  {
   "cell_type": "markdown",
   "source": [
    "#### 哔哩哔哩热搜"
   ],
   "metadata": {
    "collapsed": false
   }
  },
  {
   "cell_type": "code",
   "execution_count": 12,
   "outputs": [
    {
     "name": "stdout",
     "output_type": "stream",
     "text": [
      "200\n",
      "utf-8\n"
     ]
    }
   ],
   "source": [
    "url = '''https://app.bilibili.com/x/v2/search/trending/ranking?csrf=41405242d98a541d453f8b879e276b84&limit=30'''\n",
    "headers = {\n",
    "    'User-Agent':'''Mozilla/5.0 (Windows NT 10.0; Win64; x64) \\\n",
    "AppleWebKit/537.36 (KHTML, like Gecko) Chrome/108.0.0.0 Safari/537.36 Edg/108.0.1462.54'''\n",
    "}\n",
    "r = res_get(url, headers=headers)\n",
    "print(r.status_code)\n",
    "print(r.encoding)"
   ],
   "metadata": {
    "collapsed": false
   }
  },
  {
   "cell_type": "code",
   "execution_count": 13,
   "outputs": [
    {
     "data": {
      "text/plain": "['code', 'message', 'ttl', 'data']"
     },
     "execution_count": 13,
     "metadata": {},
     "output_type": "execute_result"
    }
   ],
   "source": [
    "res = r.json()\n",
    "list(res)"
   ],
   "metadata": {
    "collapsed": false
   }
  },
  {
   "cell_type": "code",
   "execution_count": 14,
   "outputs": [
    {
     "name": "stdout",
     "output_type": "stream",
     "text": [
      "{'position': 1, 'show_name': '超一半网友让马斯克辞去推特CEO'}\n",
      "{'position': 2, 'show_name': '男生打游戏和不打游戏的区别'}\n",
      "{'position': 3, 'show_name': '阿根廷队启程回国'}\n",
      "{'position': 4, 'show_name': '目前还没阳性的人的生活状态'}\n",
      "{'position': 5, 'show_name': '你的B站年度报告即将上线'}\n",
      "{'position': 6, 'show_name': '梅西抱的不是母亲是阿根廷队女厨师'}\n",
      "{'position': 7, 'show_name': '多地宣布无症状和轻症可正常上班'}\n",
      "{'position': 8, 'show_name': '张伯礼建议将新冠肺炎分三类'}\n",
      "{'position': 9, 'show_name': '女子阳性后头发一夜变白'}\n",
      "{'position': 10, 'show_name': '锻造菱帅王 '}\n",
      "{'position': 11, 'show_name': '母亲临终前为儿子准备一冰箱饭菜'}\n",
      "{'position': 12, 'show_name': '大马丁回应不雅庆祝动作'}\n",
      "{'position': 13, 'show_name': '克罗地亚国家队回国民众热烈欢迎'}\n",
      "{'position': 14, 'show_name': '本泽马宣布退出法国国家队'}\n",
      "{'position': 15, 'show_name': '北京出现火箭夜光云奇观'}\n",
      "{'position': 16, 'show_name': '王广发说一两周内迎来重症高峰'}\n",
      "{'position': 17, 'show_name': '马丁 无限猖狂'}\n",
      "{'position': 18, 'show_name': '阿根廷全国放假一天'}\n",
      "{'position': 19, 'show_name': '上海全市2594间发热诊间全部启用'}\n",
      "{'position': 20, 'show_name': '西安一人阳后乱用药致肝衰竭'}\n",
      "{'position': 21, 'show_name': '不同布洛芬作用大不同'}\n",
      "{'position': 22, 'show_name': '阿根廷烤肉'}\n",
      "{'position': 23, 'show_name': '阳康后多久能产生抗体'}\n",
      "{'position': 24, 'show_name': '我可能遇到了救星甜哭了'}\n",
      "{'position': 25, 'show_name': 'LV6和LV5谈崩了 LV4调解'}\n",
      "{'position': 26, 'show_name': '全家人阳了的不同症状'}\n",
      "{'position': 27, 'show_name': '口罩选择和佩戴全指南'}\n",
      "{'position': 28, 'show_name': '海贼王情报更新'}\n",
      "{'position': 29, 'show_name': '专家称橘子煮水更适合新冠用药'}\n",
      "{'position': 30, 'show_name': '倪虹洁是中国拍内衣广告第一人'}\n"
     ]
    }
   ],
   "source": [
    "datas = res['data']['list']\n",
    "for data in datas:\n",
    "    each = {'position':data.get('position'),'show_name':data.get('show_name')}\n",
    "    print(each)"
   ],
   "metadata": {
    "collapsed": false
   }
  },
  {
   "cell_type": "code",
   "execution_count": 10,
   "outputs": [],
   "source": [],
   "metadata": {
    "collapsed": false
   }
  }
 ],
 "metadata": {
  "kernelspec": {
   "display_name": "Python 3",
   "language": "python",
   "name": "python3"
  },
  "language_info": {
   "codemirror_mode": {
    "name": "ipython",
    "version": 2
   },
   "file_extension": ".py",
   "mimetype": "text/x-python",
   "name": "python",
   "nbconvert_exporter": "python",
   "pygments_lexer": "ipython2",
   "version": "2.7.6"
  }
 },
 "nbformat": 4,
 "nbformat_minor": 0
}

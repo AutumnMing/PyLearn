{
 "cells": [
  {
   "cell_type": "code",
   "execution_count": 2,
   "metadata": {
    "collapsed": true
   },
   "outputs": [],
   "source": [
    "from requests import get as res_get\n",
    "from parsel import Selector"
   ]
  },
  {
   "cell_type": "markdown",
   "source": [
    "#### 百度热搜"
   ],
   "metadata": {
    "collapsed": false
   }
  },
  {
   "cell_type": "code",
   "execution_count": 4,
   "outputs": [],
   "source": [
    "url = '''https://top.baidu.com/board?tab=realtime'''\n",
    "headers = {\n",
    "    'User-Agent':'''Mozilla/5.0 (Windows NT 10.0; Win64; x64) \\\n",
    "AppleWebKit/537.36 (KHTML, like Gecko) Chrome/108.0.0.0 Safari/537.36 Edg/108.0.1462.54'''\n",
    "}"
   ],
   "metadata": {
    "collapsed": false
   }
  },
  {
   "cell_type": "code",
   "execution_count": 36,
   "outputs": [
    {
     "name": "stdout",
     "output_type": "stream",
     "text": [
      "200\n",
      "utf-8\n"
     ]
    }
   ],
   "source": [
    "r = res_get(url, headers=headers)\n",
    "print(r.status_code)\n",
    "print(r.encoding)"
   ],
   "metadata": {
    "collapsed": false
   }
  },
  {
   "cell_type": "code",
   "execution_count": 38,
   "outputs": [
    {
     "name": "stdout",
     "output_type": "stream",
     "text": [
      "30\n",
      "<class 'parsel.selector.SelectorList'>\n",
      "<class 'parsel.selector.Selector'>\n",
      "<Selector xpath='//div[@class=\"c-single-text-ellipsis\"]/text()' data='  复阳的人是因为没有扔牙刷？别信 '>\n"
     ]
    }
   ],
   "source": [
    "selector = Selector(r.text)\n",
    "items = selector.xpath('//div[@class=\"c-single-text-ellipsis\"]/text()')\n",
    "items = items[1:] # 去除默认置顶帖\n",
    "for index, title in enumerate(items, start=1):\n",
    "    print(index, ':', title.get())"
   ],
   "metadata": {
    "collapsed": false
   }
  },
  {
   "cell_type": "markdown",
   "source": [
    "#### 今日头条"
   ],
   "metadata": {
    "collapsed": false
   }
  },
  {
   "cell_type": "code",
   "execution_count": 14,
   "outputs": [
    {
     "name": "stdout",
     "output_type": "stream",
     "text": [
      "200\n",
      "utf-8\n"
     ]
    }
   ],
   "source": [
    "url = '''https://www.toutiao.com/hot-event/hot-board/?origin=toutiao_pc'''\n",
    "headers = {\n",
    "    'User-Agent':'''Mozilla/5.0 (Windows NT 10.0; Win64; x64) \\\n",
    "AppleWebKit/537.36 (KHTML, like Gecko) Chrome/108.0.0.0 Safari/537.36 Edg/108.0.1462.54'''\n",
    "}\n",
    "r = res_get(url, headers=headers)\n",
    "print(r.status_code)\n",
    "print(r.encoding)"
   ],
   "metadata": {
    "collapsed": false
   }
  },
  {
   "cell_type": "code",
   "execution_count": 15,
   "outputs": [
    {
     "data": {
      "text/plain": "['data', 'fixed_top_data', 'fixed_top_style', 'impr_id', 'status']"
     },
     "execution_count": 15,
     "metadata": {},
     "output_type": "execute_result"
    }
   ],
   "source": [
    "r = r.json()\n",
    "list(r)"
   ],
   "metadata": {
    "collapsed": false
   }
  },
  {
   "cell_type": "code",
   "execution_count": 16,
   "outputs": [
    {
     "name": "stdout",
     "output_type": "stream",
     "text": [
      "{'HotValue': '7631338', 'Title': '广西贺州回应小学生离世：阳性高烧', 'ClusterType': 2, 'InterestCategory': None}\n",
      "{'HotValue': '6905120', 'Title': '周围人全阳了 他们为何至今未感染', 'ClusterType': 2, 'InterestCategory': None}\n",
      "{'HotValue': '6248011', 'Title': '多地药企马力全开 药品流转加快', 'ClusterType': 2, 'InterestCategory': None}\n",
      "{'HotValue': '5653434', 'Title': '工信部原部长肖亚庆被开除党籍', 'ClusterType': 2, 'InterestCategory': None}\n",
      "{'HotValue': '4628640', 'Title': '退烧药布洛芬为何一药难求', 'ClusterType': 1, 'InterestCategory': None}\n",
      "{'HotValue': '5115439', 'Title': '媒体：肖亚庆被“断崖式”降级', 'ClusterType': 8, 'InterestCategory': None}\n",
      "{'HotValue': '4188167', 'Title': '北京恢复堂食', 'ClusterType': 9, 'InterestCategory': None}\n",
      "{'HotValue': '3789610', 'Title': '梅西穿上卡塔尔王室薄纱外套', 'ClusterType': 0, 'InterestCategory': ['sports', 'football']}\n",
      "{'HotValue': '3428981', 'Title': '女子13岁被拐 父亲解救后嫌丢人', 'ClusterType': 1, 'InterestCategory': None}\n",
      "{'HotValue': '3102670', 'Title': '北京：返岗复工无需核酸和抗原检测', 'ClusterType': 2, 'InterestCategory': None}\n",
      "{'HotValue': '2807412', 'Title': '李欣然任中央纪委秘书长', 'ClusterType': 4, 'InterestCategory': None}\n",
      "{'HotValue': '2540251', 'Title': '“阳康”后15天才有抗体？专家解读', 'ClusterType': 2, 'InterestCategory': None}\n",
      "{'HotValue': '2298515', 'Title': '麦田长出十层高楼？官方：立案查处', 'ClusterType': 1, 'InterestCategory': ['agriculture']}\n",
      "{'HotValue': '2079782', 'Title': '女生头痛妈妈在额头拔火罐治疗', 'ClusterType': 0, 'InterestCategory': None}\n",
      "{'HotValue': '1881864', 'Title': '法媒：阿根廷第三粒进球应被判无效', 'ClusterType': 6, 'InterestCategory': ['football']}\n",
      "{'HotValue': '1702781', 'Title': '马克龙安慰姆巴佩被批作秀', 'ClusterType': 6, 'InterestCategory': ['football']}\n",
      "{'HotValue': '1540740', 'Title': '21岁恩佐获最佳年轻球员奖杯', 'ClusterType': 2, 'InterestCategory': ['sports', 'football']}\n",
      "{'HotValue': '1261451', 'Title': '澳大利亚外长黄英贤将访华', 'ClusterType': 6, 'InterestCategory': ['international']}\n",
      "{'HotValue': '1141408', 'Title': '世界杯决赛后法国街头爆发球迷骚乱', 'ClusterType': 0, 'InterestCategory': ['football']}\n",
      "{'HotValue': '1032789', 'Title': '珠海拆零销售布洛芬等药品', 'ClusterType': 8, 'InterestCategory': None}\n",
      "{'HotValue': '1394119', 'Title': '阿根廷球迷街头疯狂庆祝', 'ClusterType': 1, 'InterestCategory': ['sports', 'football']}\n",
      "{'HotValue': '934506', 'Title': '保定正在痛中恢复', 'ClusterType': 1, 'InterestCategory': None}\n",
      "{'HotValue': '845576', 'Title': '普京将在国防部会议上发布重大消息', 'ClusterType': 6, 'InterestCategory': ['international']}\n",
      "{'HotValue': '765109', 'Title': '中央财办：继续免征车辆购置税政策', 'ClusterType': 0, 'InterestCategory': ['car']}\n",
      "{'HotValue': '692299', 'Title': '商人在县委书记母亲葬礼上行跪拜礼', 'ClusterType': 0, 'InterestCategory': None}\n",
      "{'HotValue': '626418', 'Title': '专家解释感染新冠后为何浑身疼', 'ClusterType': 6, 'InterestCategory': ['health']}\n",
      "{'HotValue': '566806', 'Title': '北京：发烧感染者数量持续高位增加', 'ClusterType': 1, 'InterestCategory': None}\n",
      "{'HotValue': '512868', 'Title': '马鞍山一药房免费发一万颗退烧药', 'ClusterType': 2, 'InterestCategory': None}\n",
      "{'HotValue': '464062', 'Title': '恩佐晒与梅西捧杯合照：历史最佳', 'ClusterType': 4, 'InterestCategory': ['football']}\n",
      "{'HotValue': '419900', 'Title': '直-20飞行员投放上吨物资精确到米', 'ClusterType': 6, 'InterestCategory': ['military']}\n",
      "{'HotValue': '379941', 'Title': '乌军担心俄将发动新一轮导弹袭击', 'ClusterType': 6, 'InterestCategory': ['military']}\n",
      "{'HotValue': '281467', 'Title': '泰国载106名官兵军舰沉没', 'ClusterType': 6, 'InterestCategory': ['military']}\n",
      "{'HotValue': '343785', 'Title': '众星祝贺梅西世界杯夺冠', 'ClusterType': 1, 'InterestCategory': ['entertainment']}\n",
      "{'HotValue': '254682', 'Title': '卡德罗夫中文发帖呼吁团结对抗北约', 'ClusterType': 6, 'InterestCategory': ['international']}\n",
      "{'HotValue': '208516', 'Title': '马斯克称将卸任推特CEO', 'ClusterType': 1, 'InterestCategory': ['technology']}\n",
      "{'HotValue': '188673', 'Title': '普京三年半以来首次出访白俄罗斯', 'ClusterType': 6, 'InterestCategory': ['international']}\n",
      "{'HotValue': '311070', 'Title': '世界杯32强最终排名出炉', 'ClusterType': 6, 'InterestCategory': ['football']}\n",
      "{'HotValue': '170718', 'Title': '研究：锻炼越多感染新冠后症状越轻', 'ClusterType': 8, 'InterestCategory': ['health']}\n",
      "{'HotValue': '139772', 'Title': '此轮新冠感染潮何时能退', 'ClusterType': 1, 'InterestCategory': None}\n",
      "{'HotValue': '126471', 'Title': '北京发热门诊从94家增至1263家', 'ClusterType': 6, 'InterestCategory': ['health']}\n",
      "{'HotValue': '230446', 'Title': '法国名记质疑裁判判罚：把冠军给梅西', 'ClusterType': 2, 'InterestCategory': ['sports', 'football']}\n",
      "{'HotValue': '103546', 'Title': '专家：橘子水更适合目前新冠用药特点', 'ClusterType': 2, 'InterestCategory': ['health']}\n",
      "{'HotValue': '93692', 'Title': '曝小米开启年底大裁员 补偿N+2', 'ClusterType': 1, 'InterestCategory': ['technology']}\n",
      "{'HotValue': '84776', 'Title': '25岁患癌男子阳了只能硬撑', 'ClusterType': 10, 'InterestCategory': None}\n",
      "{'HotValue': '154472', 'Title': '梅西成首位两夺世界杯金球奖球员', 'ClusterType': 2, 'InterestCategory': ['football']}\n",
      "{'HotValue': '76708', 'Title': '“阳”了多久可以出门', 'ClusterType': 4, 'InterestCategory': None}\n",
      "{'HotValue': '69409', 'Title': '女童发烧39度在家狂奔', 'ClusterType': 4, 'InterestCategory': None}\n",
      "{'HotValue': '62803', 'Title': '以岭药业回应连花清瘟安全性问题', 'ClusterType': 6, 'InterestCategory': ['stock']}\n",
      "{'HotValue': '114436', 'Title': '阿根廷队拿下的大力神杯值多少钱', 'ClusterType': 2, 'InterestCategory': ['sports', 'football']}\n",
      "{'HotValue': '56827', 'Title': '东北制药涨停 此前为何被罚1.33亿', 'ClusterType': 1, 'InterestCategory': None}\n"
     ]
    }
   ],
   "source": [
    "datas = r['data']\n",
    "for data in datas:\n",
    "    each = {\n",
    "        'HotValue':data.get('HotValue'),\n",
    "        'Title':data.get('Title'),\n",
    "        'ClusterType':data.get('ClusterType'),\n",
    "        'InterestCategory':data.get('InterestCategory')\n",
    "    }\n",
    "    print(each)"
   ],
   "metadata": {
    "collapsed": false
   }
  },
  {
   "cell_type": "markdown",
   "source": [
    "#### 哔哩哔哩热搜"
   ],
   "metadata": {
    "collapsed": false
   }
  },
  {
   "cell_type": "code",
   "execution_count": 33,
   "outputs": [
    {
     "name": "stdout",
     "output_type": "stream",
     "text": [
      "200\n",
      "utf-8\n"
     ]
    }
   ],
   "source": [
    "url = '''https://app.bilibili.com/x/v2/search/trending/ranking?csrf=41405242d98a541d453f8b879e276b84&limit=30'''\n",
    "headers = {\n",
    "    'User-Agent':'''Mozilla/5.0 (Windows NT 10.0; Win64; x64) \\\n",
    "AppleWebKit/537.36 (KHTML, like Gecko) Chrome/108.0.0.0 Safari/537.36 Edg/108.0.1462.54'''\n",
    "}\n",
    "r = res_get(url, headers=headers)\n",
    "print(r.status_code)\n",
    "print(r.encoding)"
   ],
   "metadata": {
    "collapsed": false
   }
  },
  {
   "cell_type": "code",
   "execution_count": 38,
   "outputs": [
    {
     "data": {
      "text/plain": "['code', 'message', 'ttl', 'data']"
     },
     "execution_count": 38,
     "metadata": {},
     "output_type": "execute_result"
    }
   ],
   "source": [
    "res = r.json()\n",
    "list(res)"
   ],
   "metadata": {
    "collapsed": false
   }
  },
  {
   "cell_type": "code",
   "execution_count": 39,
   "outputs": [
    {
     "name": "stdout",
     "output_type": "stream",
     "text": [
      "{'position': 1, 'show_name': 'LV6和LV5谈崩了 LV4调解'}\n",
      "{'position': 2, 'show_name': '上海全市2594间发热诊间全部启用'}\n",
      "{'position': 3, 'show_name': '英国拟派上千军人填补罢工空缺岗位'}\n",
      "{'position': 4, 'show_name': '女子阳性后头发一夜变白'}\n",
      "{'position': 5, 'show_name': '西安一人阳后乱用药致肝衰竭'}\n",
      "{'position': 6, 'show_name': '女子结婚途中上厕所被忘在服务区'}\n",
      "{'position': 7, 'show_name': '马克龙掐脖式安慰法国队'}\n",
      "{'position': 8, 'show_name': '倪虹洁是中国拍内衣广告第一人'}\n",
      "{'position': 9, 'show_name': '药店免费送5000片布洛芬'}\n",
      "{'position': 10, 'show_name': '布洛芬巨头称月底前产能翻番'}\n",
      "{'position': 11, 'show_name': '阿根廷夺冠约3.6亿奖金到账'}\n",
      "{'position': 12, 'show_name': '男子花117万为准儿媳买编制被骗'}\n",
      "{'position': 13, 'show_name': '央视跟拍业余女足训练赛'}\n",
      "{'position': 14, 'show_name': '阿根廷整个国家都在欢呼'}\n",
      "{'position': 15, 'show_name': '七圣召唤构筑分享'}\n",
      "{'position': 16, 'show_name': '马克龙称姆巴佩让法国骄傲'}\n",
      "{'position': 17, 'show_name': '谭sir的小阳人日记'}\n",
      "{'position': 18, 'show_name': '做早操的尴尬瞬间'}\n",
      "{'position': 19, 'show_name': '一招缓解水泥封鼻'}\n",
      "{'position': 20, 'show_name': '吴镇宇帮沈月解围'}\n",
      "{'position': 21, 'show_name': '阳性期间身上痒千万别不当回事'}\n",
      "{'position': 22, 'show_name': '世界杯闭幕式出现中国国旗'}\n",
      "{'position': 23, 'show_name': '原来梅西就是小智'}\n",
      "{'position': 24, 'show_name': '范志毅看梅西夺冠哭了'}\n",
      "{'position': 25, 'show_name': '阿根廷夺冠男子哭着说16万的门票值了'}\n",
      "{'position': 26, 'show_name': '努比亚Z50测评'}\n",
      "{'position': 27, 'show_name': '得了新冠嗓子重回变声期'}\n",
      "{'position': 28, 'show_name': '这一脚踢走了整个发烧'}\n",
      "{'position': 29, 'show_name': '全球约30国家和地区报告霍乱疫情'}\n",
      "{'position': 30, 'show_name': '魔笛表白中国球迷'}\n"
     ]
    }
   ],
   "source": [
    "datas = res['data']['list']\n",
    "for data in datas:\n",
    "    try:\n",
    "        data.pop('hot_id') # hot_id\n",
    "        data.pop('keyword') # keyword\n",
    "        data.pop('word_type')\n",
    "        data.pop('icon') # 并非每个都有\n",
    "    except KeyError:\n",
    "        pass\n",
    "    finally:\n",
    "        print(data)"
   ],
   "metadata": {
    "collapsed": false
   }
  },
  {
   "cell_type": "code",
   "execution_count": null,
   "outputs": [],
   "source": [],
   "metadata": {
    "collapsed": false
   }
  }
 ],
 "metadata": {
  "kernelspec": {
   "display_name": "Python 3",
   "language": "python",
   "name": "python3"
  },
  "language_info": {
   "codemirror_mode": {
    "name": "ipython",
    "version": 2
   },
   "file_extension": ".py",
   "mimetype": "text/x-python",
   "name": "python",
   "nbconvert_exporter": "python",
   "pygments_lexer": "ipython2",
   "version": "2.7.6"
  }
 },
 "nbformat": 4,
 "nbformat_minor": 0
}

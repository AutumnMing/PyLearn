{
 "cells": [
  {
   "cell_type": "code",
   "execution_count": 1,
   "metadata": {
    "collapsed": true,
    "pycharm": {
     "name": "#%%\n"
    }
   },
   "outputs": [],
   "source": [
    "from parsel import Selector\n",
    "import requests"
   ]
  },
  {
   "cell_type": "markdown",
   "source": [
    "#### 博雅特产网 ———— http://shop.bytravel.cn"
   ],
   "metadata": {
    "collapsed": false,
    "pycharm": {
     "name": "#%% md\n"
    }
   }
  },
  {
   "cell_type": "markdown",
   "source": [
    "#### 省级信息采集"
   ],
   "metadata": {
    "collapsed": false,
    "pycharm": {
     "name": "#%% md\n"
    }
   }
  },
  {
   "cell_type": "code",
   "execution_count": 3,
   "outputs": [
    {
     "name": "stdout",
     "output_type": "stream",
     "text": [
      "原编码:  ISO-8859-1\n",
      "200\n",
      "现编码:  gb2312\n"
     ]
    }
   ],
   "source": [
    "# step1 省份链接采集\n",
    "base_url = 'http://shop.bytravel.cn'\n",
    "r = requests.get(base_url)\n",
    "print('原编码: ', r.encoding) # 原编码乱码\n",
    "r.encoding = 'gb2312' # 从网页elements看到网页编码\n",
    "print(r.status_code)\n",
    "print('现编码: ', r.encoding)"
   ],
   "metadata": {
    "collapsed": false,
    "pycharm": {
     "name": "#%%\n"
    }
   }
  },
  {
   "cell_type": "code",
   "execution_count": 4,
   "outputs": [
    {
     "name": "stdout",
     "output_type": "stream",
     "text": [
      "{'province': '北京', 'href': 'http://shop.bytravel.cn/produce/index109.html'}\n",
      "{'province': '天津', 'href': 'http://shop.bytravel.cn/produce/index110.html'}\n",
      "{'province': '河北', 'href': 'http://shop.bytravel.cn/produce/index111.html'}\n",
      "{'province': '山西', 'href': 'http://shop.bytravel.cn/produce/index112.html'}\n",
      "{'province': '内蒙古', 'href': 'http://shop.bytravel.cn/produce/index113.html'}\n",
      "{'province': '辽宁', 'href': 'http://shop.bytravel.cn/produce/index114.html'}\n",
      "{'province': '吉林', 'href': 'http://shop.bytravel.cn/produce/index115.html'}\n",
      "{'province': '黑龙江', 'href': 'http://shop.bytravel.cn/produce/index116.html'}\n",
      "{'province': '上海', 'href': 'http://shop.bytravel.cn/produce/index117.html'}\n",
      "{'province': '江苏', 'href': 'http://shop.bytravel.cn/produce/index118.html'}\n",
      "{'province': '浙江省', 'href': 'http://shop.bytravel.cn/produce/index119.html'}\n",
      "{'province': '安徽', 'href': 'http://shop.bytravel.cn/produce/index120.html'}\n",
      "{'province': '福建', 'href': 'http://shop.bytravel.cn/produce/index121.html'}\n",
      "{'province': '江西', 'href': 'http://shop.bytravel.cn/produce/index122.html'}\n",
      "{'province': '山东', 'href': 'http://shop.bytravel.cn/produce/index123.html'}\n",
      "{'province': '河南', 'href': 'http://shop.bytravel.cn/produce/index124.html'}\n",
      "{'province': '湖北', 'href': 'http://shop.bytravel.cn/produce/index125.html'}\n",
      "{'province': '湖南', 'href': 'http://shop.bytravel.cn/produce/index126.html'}\n",
      "{'province': '广东', 'href': 'http://shop.bytravel.cn/produce/index127.html'}\n",
      "{'province': '广西', 'href': 'http://shop.bytravel.cn/produce/index128.html'}\n",
      "{'province': '海南', 'href': 'http://shop.bytravel.cn/produce/index129.html'}\n",
      "{'province': '重庆', 'href': 'http://shop.bytravel.cn/produce/index130.html'}\n",
      "{'province': '四川', 'href': 'http://shop.bytravel.cn/produce/index131.html'}\n",
      "{'province': '贵州', 'href': 'http://shop.bytravel.cn/produce/index132.html'}\n",
      "{'province': '云南', 'href': 'http://shop.bytravel.cn/produce/index133.html'}\n",
      "{'province': '西藏', 'href': 'http://shop.bytravel.cn/produce/index134.html'}\n",
      "{'province': '陕西', 'href': 'http://shop.bytravel.cn/produce/index135.html'}\n",
      "{'province': '甘肃省', 'href': 'http://shop.bytravel.cn/produce/index136.html'}\n",
      "{'province': '青海', 'href': 'http://shop.bytravel.cn/produce/index137.html'}\n",
      "{'province': '宁夏', 'href': 'http://shop.bytravel.cn/produce/index138.html'}\n",
      "{'province': '新疆', 'href': 'http://shop.bytravel.cn/produce/index139.html'}\n",
      "{'province': '香港', 'href': 'http://shop.bytravel.cn/produce/index140.html'}\n",
      "{'province': '澳门', 'href': 'http://shop.bytravel.cn/produce/index141.html'}\n",
      "{'province': '台湾', 'href': 'http://shop.bytravel.cn/produce/index142.html'}\n"
     ]
    }
   ],
   "source": [
    "# 采集省份链接\n",
    "select = Selector(r.text)\n",
    "# 获取所有省份 -- 发现有特产热点这个选项 -- 换方式\n",
    "# items = select.xpath('//div[@class=\"ht\"]')\n",
    "items = select.xpath('//div/div[@class=\"ht\"]/b')\n",
    "# 省级url -- http://shop.bytravel.cn/produce/index109.html\n",
    "prov_list = [\n",
    "    {\n",
    "        'province': item.xpath('./a/text()').get().replace('特产',''),\n",
    "        'href': 'http://shop.bytravel.cn' + item.xpath('./a/@href').get()\n",
    "    }\n",
    "    for item in items\n",
    "]\n",
    "for each in prov_list:print(each)"
   ],
   "metadata": {
    "collapsed": false,
    "pycharm": {
     "name": "#%%\n"
    }
   }
  },
  {
   "cell_type": "markdown",
   "source": [
    "#### 城市信息采集"
   ],
   "metadata": {
    "collapsed": false,
    "pycharm": {
     "name": "#%% md\n"
    }
   }
  },
  {
   "cell_type": "code",
   "execution_count": 6,
   "outputs": [],
   "source": [
    "# step2: 通过省获取地级市的url\n",
    "# -- {'province': '江苏', 'href': 'http://shop.bytravel.cn/produce/index118.html'}\n",
    "url = 'http://shop.bytravel.cn/produce/index118.html'\n",
    "r = requests.get(url)\n",
    "r.encoding = 'gb2312'\n",
    "select = Selector(r.text)\n",
    "items = select.xpath('//div[@class=\"ht\"]/a')\n",
    "# 获取城市相关信息\n",
    "city_list = [\n",
    "    {\n",
    "        'province': '江苏',\n",
    "        'city': item.xpath('./text()').get(),\n",
    "        'href': item.xpath('./@href').get()\n",
    "    }\n",
    "    for item in items\n",
    "]"
   ],
   "metadata": {
    "collapsed": false,
    "pycharm": {
     "name": "#%%\n"
    }
   }
  },
  {
   "cell_type": "code",
   "execution_count": 7,
   "outputs": [],
   "source": [
    "# 清除掉非城市的url\n",
    "clean_city_list = []\n",
    "for each in city_list:\n",
    "    condition = '_list' in each['href'] or 'http' in each['href'] or '十大特产' in each['city']\n",
    "    if not condition:\n",
    "        each['href'] = 'http://shop.bytravel.cn' + each['href']\n",
    "        clean_city_list.append(each)"
   ],
   "metadata": {
    "collapsed": false,
    "pycharm": {
     "name": "#%%\n"
    }
   }
  },
  {
   "cell_type": "code",
   "execution_count": 8,
   "outputs": [
    {
     "name": "stdout",
     "output_type": "stream",
     "text": [
      "{'province': '江苏', 'city': '苏州市', 'href': 'http://shop.bytravel.cn/produce/index203.html'}\n",
      "{'province': '江苏', 'city': '常州市', 'href': 'http://shop.bytravel.cn/produce/index375.html'}\n",
      "{'province': '江苏', 'city': '南京市', 'href': 'http://shop.bytravel.cn/produce/index238.html'}\n",
      "{'province': '江苏', 'city': '宿迁市', 'href': 'http://shop.bytravel.cn/produce/index372.html'}\n",
      "{'province': '江苏', 'city': '淮安市', 'href': 'http://shop.bytravel.cn/produce/index373.html'}\n",
      "{'province': '江苏', 'city': '徐州市', 'href': 'http://shop.bytravel.cn/produce/index370.html'}\n",
      "{'province': '江苏', 'city': '扬州市', 'href': 'http://shop.bytravel.cn/produce/index212.html'}\n",
      "{'province': '江苏', 'city': '盐城市', 'href': 'http://shop.bytravel.cn/produce/index374.html'}\n",
      "{'province': '江苏', 'city': '连云港市', 'href': 'http://shop.bytravel.cn/produce/index371.html'}\n",
      "{'province': '江苏', 'city': '南通市', 'href': 'http://shop.bytravel.cn/produce/index376.html'}\n",
      "{'province': '江苏', 'city': '无锡市', 'href': 'http://shop.bytravel.cn/produce/index239.html'}\n",
      "{'province': '江苏', 'city': '泰州市', 'href': 'http://shop.bytravel.cn/produce/index377.html'}\n",
      "{'province': '江苏', 'city': '镇江市', 'href': 'http://shop.bytravel.cn/produce/index240.html'}\n"
     ]
    }
   ],
   "source": [
    "for each in clean_city_list:print(each)"
   ],
   "metadata": {
    "collapsed": false,
    "pycharm": {
     "name": "#%%\n"
    }
   }
  },
  {
   "cell_type": "markdown",
   "source": [
    "#### 区县信息采集"
   ],
   "metadata": {
    "collapsed": false,
    "pycharm": {
     "name": "#%% md\n"
    }
   }
  },
  {
   "cell_type": "code",
   "execution_count": 18,
   "outputs": [
    {
     "name": "stdout",
     "output_type": "stream",
     "text": [
      "{'province': '江苏', 'city': '苏州市', 'district': '江苏省', 'href': '/produce/index118.html'}\n",
      "{'province': '江苏', 'city': '苏州市', 'district': '姑苏区', 'href': '/produce/index2895.html'}\n",
      "{'province': '江苏', 'city': '苏州市', 'district': '常熟', 'href': '/produce/index683.html'}\n",
      "{'province': '江苏', 'city': '苏州市', 'district': '吴江', 'href': '/produce/index1400.html'}\n",
      "{'province': '江苏', 'city': '苏州市', 'district': '吴中', 'href': '/produce/index1401.html'}\n",
      "{'province': '江苏', 'city': '苏州市', 'district': '昆山', 'href': '/produce/index685.html'}\n",
      "{'province': '江苏', 'city': '苏州市', 'district': '虎丘', 'href': '/produce/index1402.html'}\n",
      "{'province': '江苏', 'city': '苏州市', 'district': '张家港', 'href': '/produce/index684.html'}\n",
      "{'province': '江苏', 'city': '苏州市', 'district': '太仓', 'href': '/produce/index1399.html'}\n",
      "{'province': '江苏', 'city': '苏州市', 'district': '相城区', 'href': '/produce/index2897.html'}\n",
      "{'province': '江苏', 'city': '苏州市', 'district': '美食小吃', 'href': '/produce/food/index203_list.html'}\n",
      "{'province': '江苏', 'city': '苏州市', 'district': '老字号', 'href': '/produce/lzh/index203_list.html'}\n",
      "{'province': '江苏', 'city': '苏州市', 'district': '民俗文化', 'href': '/produce/ms/index203_list.html'}\n",
      "{'province': '江苏', 'city': '苏州市', 'district': '十大特产', 'href': '/produce/top10/index203.html'}\n",
      "{'province': '江苏', 'city': '苏州市', 'district': '全部', 'href': '/produce/index203_list.html'}\n",
      "{'province': '江苏', 'city': '苏州市', 'district': '地理标志', 'href': '/produce/db/index203_list.html'}\n",
      "{'province': '江苏', 'city': '苏州市', 'district': '苏州市旅游景点', 'href': 'http://www.bytravel.cn/view/index203.html'}\n",
      "{'province': '江苏', 'city': '苏州市', 'district': '苏州市十大景点', 'href': 'http://www.bytravel.cn/view/top10/index203.html'}\n",
      "{'province': '江苏', 'city': '苏州市', 'district': '苏州市地名网', 'href': 'http://www.tcmap.com.cn/jiangsu/suzhou.html'}\n",
      "{'province': '江苏', 'city': '苏州市', 'district': '苏州市名人', 'href': 'http://ren.bytravel.cn/Celebrity/index203.html'}\n",
      "{'province': '江苏', 'city': '苏州市', 'district': '[移动版]', 'href': 'http://m.bytravel.cn/produce/index203.html'}\n"
     ]
    }
   ],
   "source": [
    "# step3: {'province': '江苏', 'city': '苏州市', 'href': 'http://shop.bytravel.cn/produce/index203.html'}\n",
    "# 通过城市获取区县信息\n",
    "url = 'http://shop.bytravel.cn/produce/index203.html'\n",
    "r = requests.get(url)\n",
    "r.encoding = 'gb2312'\n",
    "select = Selector(r.text)\n",
    "items = select.xpath('//div[@class=\"ht\"]/a')\n",
    "# 获取区县相关信息\n",
    "district_list = [\n",
    "    {\n",
    "        'province': '江苏',\n",
    "        'city': '苏州市',\n",
    "        'district': item.xpath('./text()').get(),\n",
    "        'href': item.xpath('./@href').get()\n",
    "    }\n",
    "    for item in items\n",
    "]\n",
    "for each in district_list:print(each)"
   ],
   "metadata": {
    "collapsed": false,
    "pycharm": {
     "name": "#%%\n"
    }
   }
  },
  {
   "cell_type": "code",
   "execution_count": 19,
   "outputs": [
    {
     "name": "stdout",
     "output_type": "stream",
     "text": [
      "{'province': '江苏', 'city': '苏州市', 'district': '江苏省', 'href': 'http://shop.bytravel.cn/produce/index118.html'}\n",
      "{'province': '江苏', 'city': '苏州市', 'district': '姑苏区', 'href': 'http://shop.bytravel.cn/produce/index2895.html'}\n",
      "{'province': '江苏', 'city': '苏州市', 'district': '常熟', 'href': 'http://shop.bytravel.cn/produce/index683.html'}\n",
      "{'province': '江苏', 'city': '苏州市', 'district': '吴江', 'href': 'http://shop.bytravel.cn/produce/index1400.html'}\n",
      "{'province': '江苏', 'city': '苏州市', 'district': '吴中', 'href': 'http://shop.bytravel.cn/produce/index1401.html'}\n",
      "{'province': '江苏', 'city': '苏州市', 'district': '昆山', 'href': 'http://shop.bytravel.cn/produce/index685.html'}\n",
      "{'province': '江苏', 'city': '苏州市', 'district': '虎丘', 'href': 'http://shop.bytravel.cn/produce/index1402.html'}\n",
      "{'province': '江苏', 'city': '苏州市', 'district': '张家港', 'href': 'http://shop.bytravel.cn/produce/index684.html'}\n",
      "{'province': '江苏', 'city': '苏州市', 'district': '太仓', 'href': 'http://shop.bytravel.cn/produce/index1399.html'}\n",
      "{'province': '江苏', 'city': '苏州市', 'district': '相城区', 'href': 'http://shop.bytravel.cn/produce/index2897.html'}\n"
     ]
    }
   ],
   "source": [
    "# 清除掉非城市的url\n",
    "clean_district_list = []\n",
    "for each in district_list:\n",
    "    condition = '_list' in each['href'] or 'http' in each['href'] or '十大特产' in each['district'] or '省' in each['district']\n",
    "    if not condition:\n",
    "        each['href'] = 'http://shop.bytravel.cn' + each['href']\n",
    "        clean_district_list.append(each)\n",
    "for each in clean_district_list:print(each)"
   ],
   "metadata": {
    "collapsed": false,
    "pycharm": {
     "name": "#%%\n"
    }
   }
  },
  {
   "cell_type": "code",
   "execution_count": null,
   "outputs": [],
   "source": [],
   "metadata": {
    "collapsed": false,
    "pycharm": {
     "name": "#%%\n"
    }
   }
  }
 ],
 "metadata": {
  "kernelspec": {
   "display_name": "Python 3",
   "language": "python",
   "name": "python3"
  },
  "language_info": {
   "codemirror_mode": {
    "name": "ipython",
    "version": 2
   },
   "file_extension": ".py",
   "mimetype": "text/x-python",
   "name": "python",
   "nbconvert_exporter": "python",
   "pygments_lexer": "ipython2",
   "version": "2.7.6"
  }
 },
 "nbformat": 4,
 "nbformat_minor": 0
}
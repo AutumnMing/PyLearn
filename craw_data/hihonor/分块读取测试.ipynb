{
 "cells": [
  {
   "cell_type": "code",
   "execution_count": 5,
   "metadata": {
    "collapsed": true
   },
   "outputs": [],
   "source": [
    "from pandas import read_csv\n",
    "from os import chdir, remove\n",
    "from os.path import exists\n",
    "from pc_honor import scrape_space, parse_space_info\n",
    "from csv import DictWriter"
   ]
  },
  {
   "cell_type": "code",
   "execution_count": 6,
   "outputs": [],
   "source": [
    "def save_user_data(user_data, filename, mode):\n",
    "    fieldnames = list(user_data)\n",
    "    with open(filename, mode, newline='', encoding='utf-8') as f:\n",
    "        writer = DictWriter(f, fieldnames=fieldnames)\n",
    "        writer.writerow(user_data)\n",
    "        print(user_data)"
   ],
   "metadata": {
    "collapsed": false
   }
  },
  {
   "cell_type": "code",
   "execution_count": 7,
   "outputs": [],
   "source": [
    "def check_file(filename, filepath, remove_file=False):\n",
    "    chdir(filepath)\n",
    "    if exists(filename) and remove_file:\n",
    "        print(f'{filename}文件已存在, 删除')\n",
    "        remove(filename)\n",
    "    if exists(filename) and not remove_file:\n",
    "        print(f'{filename}文件已存在, 保留')\n"
   ],
   "metadata": {
    "collapsed": false
   }
  },
  {
   "cell_type": "code",
   "execution_count": 8,
   "outputs": [
    {
     "name": "stdout",
     "output_type": "stream",
     "text": [
      "test_1.csv文件已存在, 删除\n",
      "{'uid': '8282385', 'user_name': '荣耀粉丝8282385', 'user_lv': '用户组 : LV10', 'province': '广西', 'active_value': '36074', 'post_num': '183', 'replies': '6542', 'friends': '22', 'total_sign': '913', 'continue_sign': '1', 'month_sign': '0', 'last_sign': '2021-01-08 20:21', 'agg_score': '12', 'last_score': '4', 'sign_lv': '[LV.10]以坛为家III', 'medal_num': 1}\n",
      "{'uid': '30147236', 'user_name': '荣耀粉丝30147236', 'user_lv': '用户组 : LV10', 'province': '浙江', 'active_value': '44076', 'post_num': '178', 'replies': '8776', 'friends': '335', 'total_sign': '1642', 'continue_sign': '1', 'month_sign': '0', 'last_sign': '2021-11-09 10:10', 'agg_score': '616', 'last_score': '4', 'sign_lv': '[LV.m]', 'medal_num': 37}\n",
      "{'uid': '12701964', 'user_name': '荣耀粉丝12701964', 'user_lv': '用户组 : LV10', 'province': '福建', 'active_value': '674897', 'post_num': '758', 'replies': '6978', 'friends': '1000', 'total_sign': '1576', 'continue_sign': '2', 'month_sign': '0', 'last_sign': '2020-12-31 17:30', 'agg_score': '8', 'last_score': '4', 'sign_lv': '[LV.m]', 'medal_num': 25}\n",
      "{'uid': '39550353', 'user_name': '荣耀粉丝39550353', 'user_lv': '用户组 : LV10', 'province': '广东', 'active_value': '84737', 'post_num': '315', 'replies': '13793', 'friends': '31', 'total_sign': '975', 'continue_sign': '37', 'month_sign': '0', 'last_sign': '2021-02-12 14:12', 'agg_score': '204', 'last_score': '4', 'sign_lv': '[LV.10]以坛为家III', 'medal_num': 8}\n",
      "{'uid': '7433099', 'user_name': '荣耀粉丝7433099', 'user_lv': '用户组 : LV9', 'province': '马来西亚', 'active_value': '19361', 'post_num': '900', 'replies': '1374', 'friends': '222', 'total_sign': '84', 'continue_sign': '1', 'month_sign': '0', 'last_sign': '2021-03-24 18:36', 'agg_score': '16', 'last_score': '4', 'sign_lv': '[LV.6]常住居民II', 'medal_num': 7}\n",
      "{'uid': '7902408', 'user_name': '博弈战士', 'user_lv': '用户组 : 设计达人', 'province': '广西', 'active_value': '2900623', 'post_num': '605', 'replies': '60927', 'friends': '135', 'total_sign': '2748', 'continue_sign': '47', 'month_sign': '22', 'last_sign': '2022-12-22 01:57', 'agg_score': '3577', 'last_score': '6', 'sign_lv': '[LV.m]', 'medal_num': 61}\n",
      "{'uid': '216870838', 'user_name': '荣耀粉丝216870838', 'user_lv': '用户组 : LV5', 'province': '属地未知', 'active_value': '632', 'post_num': '3', 'replies': '93', 'friends': '0', 'total_sign': '25', 'continue_sign': '9', 'month_sign': '0', 'last_sign': '2022-02-10 23:03', 'agg_score': '114', 'last_score': '4', 'sign_lv': '[LV.4]偶尔看看III', 'medal_num': 11}\n",
      "{'uid': '740', 'user_name': '荣耀粉丝740', 'user_lv': '用户组 : LV10', 'province': '四川', 'active_value': '38634', 'post_num': '806', 'replies': '3756', 'friends': '583', 'total_sign': '994', 'continue_sign': '1', 'month_sign': '0', 'last_sign': '2021-01-09 21:20', 'agg_score': '12', 'last_score': '4', 'sign_lv': '[LV.10]以坛为家III', 'medal_num': 5}\n",
      "{'uid': '7362857', 'user_name': '荣耀粉丝7362857', 'user_lv': '用户组 : LV9', 'province': '上海', 'active_value': '17604', 'post_num': '138', 'replies': '7252', 'friends': '109', 'total_sign': '1090', 'continue_sign': '1', 'month_sign': '0', 'last_sign': '2021-06-09 18:11', 'agg_score': '5', 'last_score': '4', 'sign_lv': '[LV.10]以坛为家III', 'medal_num': 1}\n",
      "{'uid': '214028456', 'user_name': 'sWeeT___', 'user_lv': '用户组 : ', 'province': '北京', 'active_value': '1025', 'post_num': '22', 'replies': '97', 'friends': '3', 'total_sign': '95', 'continue_sign': '1', 'month_sign': '0', 'last_sign': '2022-09-01 14:43', 'agg_score': '405', 'last_score': '4', 'sign_lv': '[LV.6]常住居民II', 'medal_num': 11}\n"
     ]
    }
   ],
   "source": [
    "    # 优先检查 -- 最终输出文件是否存在\n",
    "    check_file('test_1.csv', filepath='./data', remove_file=True)\n",
    "    # 返回 TextFileReader 生成器对象, 可以使用next进行迭代, 或者for循环迭代\n",
    "    reader = read_csv('space_urls_active.csv', chunksize=1000)\n",
    "    # print(type(reader))\n",
    "    data = next(reader)\n",
    "    # print(type(data))\n",
    "\n",
    "    # 解析url, 获取数据并保存\n",
    "    headers = {\n",
    "        'User-Agent': '''Mozilla/5.0 (Windows NT 10.0; Win64; x64) AppleWebKit/537.36 \\\n",
    "        (KHTML, like Gecko) Chrome/107.0.0.0 Safari/537.36 Edg/107.0.1418.62'''\n",
    "    }\n",
    "    for each_url in data.head(10).loc[:, 'space_url'].tolist():\n",
    "        text = scrape_space(each_url, headers)\n",
    "        dict_data = parse_space_info(text)\n",
    "        save_user_data(dict_data, 'test_1.csv', 'a')\n"
   ],
   "metadata": {
    "collapsed": false
   }
  },
  {
   "cell_type": "code",
   "execution_count": 8,
   "outputs": [],
   "source": [],
   "metadata": {
    "collapsed": false
   }
  }
 ],
 "metadata": {
  "kernelspec": {
   "display_name": "Python 3",
   "language": "python",
   "name": "python3"
  },
  "language_info": {
   "codemirror_mode": {
    "name": "ipython",
    "version": 2
   },
   "file_extension": ".py",
   "mimetype": "text/x-python",
   "name": "python",
   "nbconvert_exporter": "python",
   "pygments_lexer": "ipython2",
   "version": "2.7.6"
  }
 },
 "nbformat": 4,
 "nbformat_minor": 0
}

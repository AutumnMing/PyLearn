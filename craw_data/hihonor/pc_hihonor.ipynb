{
 "cells": [
  {
   "cell_type": "code",
   "execution_count": 4,
   "metadata": {
    "collapsed": true,
    "pycharm": {
     "name": "#%%\n"
    }
   },
   "outputs": [],
   "source": [
    "import requests\n",
    "from parsel import Selector\n",
    "from time import strftime, localtime, time"
   ]
  },
  {
   "cell_type": "markdown",
   "source": [
    "### 单页提取"
   ],
   "metadata": {
    "collapsed": false,
    "pycharm": {
     "name": "#%% md\n"
    }
   }
  },
  {
   "cell_type": "code",
   "execution_count": 7,
   "outputs": [
    {
     "name": "stdout",
     "output_type": "stream",
     "text": [
      "2022-12-05-11\n",
      "2022120511\n"
     ]
    }
   ],
   "source": [
    "# 时间测试\n",
    "t1 = strftime('%Y-%m-%d-%H', localtime(time()))\n",
    "print(t1)\n",
    "t2 = strftime('%Y%m%d%H', localtime(time()))\n",
    "print(t2)"
   ],
   "metadata": {
    "collapsed": false,
    "pycharm": {
     "name": "#%%\n"
    }
   }
  },
  {
   "cell_type": "code",
   "execution_count": 6,
   "outputs": [
    {
     "data": {
      "text/plain": "time.struct_time(tm_year=2022, tm_mon=12, tm_mday=5, tm_hour=11, tm_min=11, tm_sec=12, tm_wday=0, tm_yday=339, tm_isdst=0)"
     },
     "execution_count": 6,
     "metadata": {},
     "output_type": "execute_result"
    }
   ],
   "source": [
    "localtime(time())"
   ],
   "metadata": {
    "collapsed": false,
    "pycharm": {
     "name": "#%%\n"
    }
   }
  },
  {
   "cell_type": "code",
   "execution_count": 12,
   "outputs": [
    {
     "name": "stdout",
     "output_type": "stream",
     "text": [
      "utf-8\n",
      "200\n",
      "<class 'str'>\n",
      "https://club.hihonor.com/cn/forum-3965-10.html?filter=dateline\n"
     ]
    }
   ],
   "source": [
    "url = 'https://club.hihonor.com/cn/forum-3965-10.html?filter=dateline'\n",
    "headers = {\n",
    "    'User-Agent':'''Mozilla/5.0 (Windows NT 10.0; Win64; x64) AppleWebKit/537.36 (KHTML, like Gecko) Chrome/107.0.0.0 Safari/537.36 Edg/107.0.1418.62'''\n",
    "}\n",
    "r = requests.get(url, headers=headers)\n",
    "print(r.encoding)\n",
    "print(r.status_code)\n",
    "print(type(r.text))\n",
    "print(r.url)"
   ],
   "metadata": {
    "collapsed": false,
    "pycharm": {
     "name": "#%%\n"
    }
   }
  },
  {
   "cell_type": "code",
   "execution_count": 13,
   "outputs": [
    {
     "name": "stdout",
     "output_type": "stream",
     "text": [
      "<class 'parsel.selector.Selector'>\n"
     ]
    }
   ],
   "source": [
    "selector= Selector(r.text)\n",
    "print(type(selector))"
   ],
   "metadata": {
    "collapsed": false,
    "pycharm": {
     "name": "#%%\n"
    }
   }
  },
  {
   "cell_type": "code",
   "execution_count": 4,
   "outputs": [
    {
     "name": "stdout",
     "output_type": "stream",
     "text": [
      "[<Selector xpath='//a[@class=\"avatar-name\"]' data='<a rel=\"nofollow\" class=\"avatar-name\"...'>, <Selector xpath='//a[@class=\"avatar-name\"]' data='<a rel=\"nofollow\" class=\"avatar-name\"...'>, <Selector xpath='//a[@class=\"avatar-name\"]' data='<a rel=\"nofollow\" class=\"avatar-name\"...'>, <Selector xpath='//a[@class=\"avatar-name\"]' data='<a rel=\"nofollow\" class=\"avatar-name\"...'>, <Selector xpath='//a[@class=\"avatar-name\"]' data='<a rel=\"nofollow\" class=\"avatar-name\"...'>, <Selector xpath='//a[@class=\"avatar-name\"]' data='<a rel=\"nofollow\" class=\"avatar-name\"...'>, <Selector xpath='//a[@class=\"avatar-name\"]' data='<a rel=\"nofollow\" class=\"avatar-name\"...'>, <Selector xpath='//a[@class=\"avatar-name\"]' data='<a rel=\"nofollow\" class=\"avatar-name\"...'>, <Selector xpath='//a[@class=\"avatar-name\"]' data='<a rel=\"nofollow\" class=\"avatar-name\"...'>, <Selector xpath='//a[@class=\"avatar-name\"]' data='<a rel=\"nofollow\" class=\"avatar-name\"...'>, <Selector xpath='//a[@class=\"avatar-name\"]' data='<a rel=\"nofollow\" class=\"avatar-name\"...'>, <Selector xpath='//a[@class=\"avatar-name\"]' data='<a rel=\"nofollow\" class=\"avatar-name\"...'>, <Selector xpath='//a[@class=\"avatar-name\"]' data='<a rel=\"nofollow\" class=\"avatar-name\"...'>, <Selector xpath='//a[@class=\"avatar-name\"]' data='<a rel=\"nofollow\" class=\"avatar-name\"...'>, <Selector xpath='//a[@class=\"avatar-name\"]' data='<a rel=\"nofollow\" class=\"avatar-name\"...'>, <Selector xpath='//a[@class=\"avatar-name\"]' data='<a rel=\"nofollow\" class=\"avatar-name\"...'>, <Selector xpath='//a[@class=\"avatar-name\"]' data='<a rel=\"nofollow\" class=\"avatar-name\"...'>, <Selector xpath='//a[@class=\"avatar-name\"]' data='<a rel=\"nofollow\" class=\"avatar-name\"...'>, <Selector xpath='//a[@class=\"avatar-name\"]' data='<a rel=\"nofollow\" class=\"avatar-name\"...'>, <Selector xpath='//a[@class=\"avatar-name\"]' data='<a rel=\"nofollow\" class=\"avatar-name\"...'>, <Selector xpath='//a[@class=\"avatar-name\"]' data='<a rel=\"nofollow\" class=\"avatar-name\"...'>, <Selector xpath='//a[@class=\"avatar-name\"]' data='<a rel=\"nofollow\" class=\"avatar-name\"...'>, <Selector xpath='//a[@class=\"avatar-name\"]' data='<a rel=\"nofollow\" class=\"avatar-name\"...'>, <Selector xpath='//a[@class=\"avatar-name\"]' data='<a rel=\"nofollow\" class=\"avatar-name\"...'>, <Selector xpath='//a[@class=\"avatar-name\"]' data='<a rel=\"nofollow\" class=\"avatar-name\"...'>, <Selector xpath='//a[@class=\"avatar-name\"]' data='<a rel=\"nofollow\" class=\"avatar-name\"...'>, <Selector xpath='//a[@class=\"avatar-name\"]' data='<a rel=\"nofollow\" class=\"avatar-name\"...'>, <Selector xpath='//a[@class=\"avatar-name\"]' data='<a rel=\"nofollow\" class=\"avatar-name\"...'>, <Selector xpath='//a[@class=\"avatar-name\"]' data='<a rel=\"nofollow\" class=\"avatar-name\"...'>, <Selector xpath='//a[@class=\"avatar-name\"]' data='<a rel=\"nofollow\" class=\"avatar-name\"...'>, <Selector xpath='//a[@class=\"avatar-name\"]' data='<a rel=\"nofollow\" class=\"avatar-name\"...'>]\n"
     ]
    }
   ],
   "source": [
    "items = selector.xpath('//a[@class=\"avatar-name\"]')\n",
    "print(items)"
   ],
   "metadata": {
    "collapsed": false,
    "pycharm": {
     "name": "#%%\n"
    }
   }
  },
  {
   "cell_type": "markdown",
   "source": [
    "### 空间地址拼接 https://club.hihonor.com/cn/"
   ],
   "metadata": {
    "collapsed": false,
    "pycharm": {
     "name": "#%% md\n"
    }
   }
  },
  {
   "cell_type": "code",
   "execution_count": 5,
   "outputs": [
    {
     "name": "stdout",
     "output_type": "stream",
     "text": [
      "https://club.hihonor.com/cn/space-uid-216436039.html\n",
      "https://club.hihonor.com/cn/space-uid-237011064.html\n",
      "https://club.hihonor.com/cn/space-uid-221034309.html\n",
      "https://club.hihonor.com/cn/space-uid-60342172.html\n",
      "https://club.hihonor.com/cn/space-uid-121374627.html\n",
      "https://club.hihonor.com/cn/space-uid-217270586.html\n",
      "https://club.hihonor.com/cn/space-uid-222268453.html\n",
      "https://club.hihonor.com/cn/space-uid-232460324.html\n",
      "https://club.hihonor.com/cn/space-uid-216951088.html\n",
      "https://club.hihonor.com/cn/space-uid-216373080.html\n",
      "https://club.hihonor.com/cn/space-uid-221660117.html\n",
      "https://club.hihonor.com/cn/space-uid-236496322.html\n",
      "https://club.hihonor.com/cn/space-uid-20719270.html\n",
      "https://club.hihonor.com/cn/space-uid-213611299.html\n",
      "https://club.hihonor.com/cn/space-uid-23869269.html\n",
      "https://club.hihonor.com/cn/space-uid-221039370.html\n",
      "https://club.hihonor.com/cn/space-uid-212434463.html\n",
      "https://club.hihonor.com/cn/space-uid-227290881.html\n",
      "https://club.hihonor.com/cn/space-uid-221447727.html\n",
      "https://club.hihonor.com/cn/space-uid-215448017.html\n",
      "https://club.hihonor.com/cn/space-uid-5471696.html\n",
      "https://club.hihonor.com/cn/space-uid-134889847.html\n",
      "https://club.hihonor.com/cn/space-uid-27583541.html\n",
      "https://club.hihonor.com/cn/space-uid-212360907.html\n",
      "https://club.hihonor.com/cn/space-uid-219830837.html\n",
      "https://club.hihonor.com/cn/space-uid-117350213.html\n",
      "https://club.hihonor.com/cn/space-uid-219495670.html\n",
      "https://club.hihonor.com/cn/space-uid-220728723.html\n",
      "https://club.hihonor.com/cn/space-uid-219830837.html\n",
      "https://club.hihonor.com/cn/space-uid-220802935.html\n",
      "https://club.hihonor.com/cn/space-uid-235911252.html\n",
      "31\n"
     ]
    }
   ],
   "source": [
    "for item in items:\n",
    "    # print(item.xpath('.//text()')) # 返回selector对象\n",
    "    # print('用户昵称: ',item.xpath('./text()').get()) # 返回文本\n",
    "    # 空间主页 + uid + 用户昵称\n",
    "    print('https://club.hihonor.com/cn/' + item.xpath('./@href').get())\n",
    "print(len(items))\n"
   ],
   "metadata": {
    "collapsed": false,
    "pycharm": {
     "name": "#%%\n"
    }
   }
  },
  {
   "cell_type": "markdown",
   "source": [
    "#### 空间信息采集"
   ],
   "metadata": {
    "collapsed": false,
    "pycharm": {
     "name": "#%% md\n"
    }
   }
  },
  {
   "cell_type": "code",
   "execution_count": 6,
   "outputs": [
    {
     "name": "stdout",
     "output_type": "stream",
     "text": [
      "utf-8\n",
      "200\n",
      "<class 'str'>\n",
      "https://club.hihonor.com/cn/space-uid-215007611.html\n"
     ]
    }
   ],
   "source": [
    "url = 'https://club.hihonor.com/cn/space-uid-215007611.html'\n",
    "r = requests.get(url, headers=headers)\n",
    "print(r.encoding)\n",
    "print(r.status_code)\n",
    "print(type(r.text))\n",
    "print(r.url)\n",
    "selector= Selector(r.text)"
   ],
   "metadata": {
    "collapsed": false,
    "pycharm": {
     "name": "#%%\n"
    }
   }
  },
  {
   "cell_type": "code",
   "execution_count": 7,
   "outputs": [
    {
     "data": {
      "text/plain": "['Magic UI 6.0纪念勋章',\n '牛气冲天',\n '青铜帖王',\n '幻紫级捧场王',\n '白银级捧场王',\n '青铜级捧场王',\n '大寒',\n '连续签到7天',\n '小寒',\n '元旦',\n '冬至',\n '金牛迎春',\n '大雪',\n '小雪',\n '牛年鸿运',\n '立冬',\n '白露',\n '荣耀Magic3系列专属勋章',\n '霜降']"
     },
     "execution_count": 7,
     "metadata": {},
     "output_type": "execute_result"
    }
   ],
   "source": [
    "# 用户等级、活跃值、积分、勋章数、累计签到天数、好友数、粉丝数、关注量、发帖数量、回帖量\n",
    "pcb_name = selector.xpath('//div[@class=\"pc-brief\"]/h1/text()').get() # 用户昵称\n",
    "pcb_acc = selector.xpath('//div[@class=\"pc-brief\"]/p/text()').get() # 用户等级\n",
    "prov = selector.xpath('//div[@class=\"pc-brief\"]/p/span/text()').get() # 所在省份\n",
    "pcb_sum = selector.xpath('//ul[@class=\"pcb-sum\"]/li/span/text()').get() # 发帖数量\n",
    "uid = selector.xpath('//tbody/tr[1]/td/text()').get() # uid\n",
    "friends = selector.xpath('//tbody/tr[3]/td/text()').get() # 好友数\n",
    "selector.xpath('//tbody/tr[4]/td/p[1]/b/text()').get() # 累计算签到总天数\n",
    "selector.xpath('//tbody/tr[4]/td/p[2]/b/text()').get() # 连续签到天数\n",
    "selector.xpath('//tbody/tr[4]/td/p[3]/b/text()').get() # 本月签到天数\n",
    "selector.xpath('//tbody/tr[4]/td/p[4]/font/text()').get() # 上次签到时间\n",
    "selector.xpath('//tbody/tr[4]/td/p[5]/span[1]/b/text()').get() # 签到总积分\n",
    "selector.xpath('//tbody/tr[4]/td/p[5]/span[2]/b/text()').get() # 上次获得的奖励积分\n",
    "selector.xpath('//tbody/tr[4]/td/p[6]/span/b/text()').get() # 目前签到等级\n",
    "selector.xpath('//tbody/tr[6]/td/text()').get() # 回帖数\n",
    "selector.xpath('//tbody/tr[7]/td/text()').get() # 活跃值\n",
    "selector.xpath('//tbody/tr[5]/td/ul/li/p/text()').getall() # 勋章名称列表"
   ],
   "metadata": {
    "collapsed": false,
    "pycharm": {
     "name": "#%%\n"
    }
   }
  },
  {
   "cell_type": "code",
   "execution_count": 8,
   "outputs": [
    {
     "data": {
      "text/plain": "'名称jk'"
     },
     "execution_count": 8,
     "metadata": {},
     "output_type": "execute_result"
    }
   ],
   "source": [
    "name = 'jk'\n",
    "f'名称{name}'"
   ],
   "metadata": {
    "collapsed": false,
    "pycharm": {
     "name": "#%%\n"
    }
   }
  },
  {
   "cell_type": "code",
   "execution_count": 11,
   "outputs": [
    {
     "data": {
      "text/plain": "'215007611'"
     },
     "execution_count": 11,
     "metadata": {},
     "output_type": "execute_result"
    }
   ],
   "source": [
    "'space-uid-215007611.html'.partition('space-uid-')[-1].replace('.html','')"
   ],
   "metadata": {
    "collapsed": false,
    "pycharm": {
     "name": "#%%\n"
    }
   }
  },
  {
   "cell_type": "code",
   "execution_count": null,
   "outputs": [],
   "source": [],
   "metadata": {
    "collapsed": false,
    "pycharm": {
     "name": "#%%\n"
    }
   }
  }
 ],
 "metadata": {
  "kernelspec": {
   "display_name": "Python 3",
   "language": "python",
   "name": "python3"
  },
  "language_info": {
   "codemirror_mode": {
    "name": "ipython",
    "version": 2
   },
   "file_extension": ".py",
   "mimetype": "text/x-python",
   "name": "python",
   "nbconvert_exporter": "python",
   "pygments_lexer": "ipython2",
   "version": "2.7.6"
  }
 },
 "nbformat": 4,
 "nbformat_minor": 0
}
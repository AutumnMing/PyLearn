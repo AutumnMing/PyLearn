{
 "cells": [
  {
   "cell_type": "markdown",
   "source": [
    "### 查看每日已经采集到的space_url,对原始的space_urls做清洗"
   ],
   "metadata": {
    "collapsed": false,
    "pycharm": {
     "name": "#%% md\n"
    }
   }
  },
  {
   "cell_type": "code",
   "execution_count": 22,
   "outputs": [],
   "source": [
    "from pandas import DataFrame, read_excel, read_csv\n",
    "from os import chdir, getcwd\n",
    "from numpy import setdiff1d"
   ],
   "metadata": {
    "collapsed": false,
    "pycharm": {
     "name": "#%%\n"
    }
   }
  },
  {
   "cell_type": "code",
   "execution_count": 7,
   "outputs": [
    {
     "data": {
      "text/plain": "'F:\\\\Github\\\\PyLearn\\\\craw_data\\\\hihonor\\\\data'"
     },
     "execution_count": 7,
     "metadata": {},
     "output_type": "execute_result"
    }
   ],
   "source": [
    "chdir('./data')\n",
    "getcwd()"
   ],
   "metadata": {
    "collapsed": false,
    "pycharm": {
     "name": "#%%\n"
    }
   }
  },
  {
   "cell_type": "markdown",
   "source": [
    "#### 分析上个采集时间点采集的数据包含的uid个数"
   ],
   "metadata": {
    "collapsed": false,
    "pycharm": {
     "name": "#%% md\n"
    }
   }
  },
  {
   "cell_type": "code",
   "execution_count": 8,
   "outputs": [
    {
     "name": "stdout",
     "output_type": "stream",
     "text": [
      "45078\n"
     ]
    },
    {
     "data": {
      "text/plain": "        uid     user_name     user_lv province  active_value  post_num  \\\n0   8282385   荣耀粉丝8282385  用户组 : LV10       广西         36074       183   \n1  30147236  荣耀粉丝30147236  用户组 : LV10       浙江         44076       178   \n2  12701964  荣耀粉丝12701964  用户组 : LV10       福建        674897       758   \n3  39550353  荣耀粉丝39550353  用户组 : LV10       广东         84737       315   \n4   7433099   荣耀粉丝7433099   用户组 : LV9     马来西亚         19361       900   \n\n   replies  friends  total_sign  continue_sign  month_sign         last_sign  \\\n0     6542       22         913              1           0  2021-01-08 20:21   \n1     8776      335        1642              1           0  2021-11-09 10:10   \n2     6978     1000        1576              2           0  2020-12-31 17:30   \n3    13793       31         975             37           0  2021-02-12 14:12   \n4     1374      222          84              1           0  2021-03-24 18:36   \n\n   agg_score  last_score         sign_lv  medal_num        date  \n0         12           4  [LV.10]以坛为家III          1  2022-12-04  \n1        616           4          [LV.m]         37  2022-12-04  \n2          8           4          [LV.m]         25  2022-12-04  \n3        204           4  [LV.10]以坛为家III          8  2022-12-04  \n4         16           4    [LV.6]常住居民II          7  2022-12-04  ",
      "text/html": "<div>\n<style scoped>\n    .dataframe tbody tr th:only-of-type {\n        vertical-align: middle;\n    }\n\n    .dataframe tbody tr th {\n        vertical-align: top;\n    }\n\n    .dataframe thead th {\n        text-align: right;\n    }\n</style>\n<table border=\"1\" class=\"dataframe\">\n  <thead>\n    <tr style=\"text-align: right;\">\n      <th></th>\n      <th>uid</th>\n      <th>user_name</th>\n      <th>user_lv</th>\n      <th>province</th>\n      <th>active_value</th>\n      <th>post_num</th>\n      <th>replies</th>\n      <th>friends</th>\n      <th>total_sign</th>\n      <th>continue_sign</th>\n      <th>month_sign</th>\n      <th>last_sign</th>\n      <th>agg_score</th>\n      <th>last_score</th>\n      <th>sign_lv</th>\n      <th>medal_num</th>\n      <th>date</th>\n    </tr>\n  </thead>\n  <tbody>\n    <tr>\n      <th>0</th>\n      <td>8282385</td>\n      <td>荣耀粉丝8282385</td>\n      <td>用户组 : LV10</td>\n      <td>广西</td>\n      <td>36074</td>\n      <td>183</td>\n      <td>6542</td>\n      <td>22</td>\n      <td>913</td>\n      <td>1</td>\n      <td>0</td>\n      <td>2021-01-08 20:21</td>\n      <td>12</td>\n      <td>4</td>\n      <td>[LV.10]以坛为家III</td>\n      <td>1</td>\n      <td>2022-12-04</td>\n    </tr>\n    <tr>\n      <th>1</th>\n      <td>30147236</td>\n      <td>荣耀粉丝30147236</td>\n      <td>用户组 : LV10</td>\n      <td>浙江</td>\n      <td>44076</td>\n      <td>178</td>\n      <td>8776</td>\n      <td>335</td>\n      <td>1642</td>\n      <td>1</td>\n      <td>0</td>\n      <td>2021-11-09 10:10</td>\n      <td>616</td>\n      <td>4</td>\n      <td>[LV.m]</td>\n      <td>37</td>\n      <td>2022-12-04</td>\n    </tr>\n    <tr>\n      <th>2</th>\n      <td>12701964</td>\n      <td>荣耀粉丝12701964</td>\n      <td>用户组 : LV10</td>\n      <td>福建</td>\n      <td>674897</td>\n      <td>758</td>\n      <td>6978</td>\n      <td>1000</td>\n      <td>1576</td>\n      <td>2</td>\n      <td>0</td>\n      <td>2020-12-31 17:30</td>\n      <td>8</td>\n      <td>4</td>\n      <td>[LV.m]</td>\n      <td>25</td>\n      <td>2022-12-04</td>\n    </tr>\n    <tr>\n      <th>3</th>\n      <td>39550353</td>\n      <td>荣耀粉丝39550353</td>\n      <td>用户组 : LV10</td>\n      <td>广东</td>\n      <td>84737</td>\n      <td>315</td>\n      <td>13793</td>\n      <td>31</td>\n      <td>975</td>\n      <td>37</td>\n      <td>0</td>\n      <td>2021-02-12 14:12</td>\n      <td>204</td>\n      <td>4</td>\n      <td>[LV.10]以坛为家III</td>\n      <td>8</td>\n      <td>2022-12-04</td>\n    </tr>\n    <tr>\n      <th>4</th>\n      <td>7433099</td>\n      <td>荣耀粉丝7433099</td>\n      <td>用户组 : LV9</td>\n      <td>马来西亚</td>\n      <td>19361</td>\n      <td>900</td>\n      <td>1374</td>\n      <td>222</td>\n      <td>84</td>\n      <td>1</td>\n      <td>0</td>\n      <td>2021-03-24 18:36</td>\n      <td>16</td>\n      <td>4</td>\n      <td>[LV.6]常住居民II</td>\n      <td>7</td>\n      <td>2022-12-04</td>\n    </tr>\n  </tbody>\n</table>\n</div>"
     },
     "execution_count": 8,
     "metadata": {},
     "output_type": "execute_result"
    }
   ],
   "source": [
    "user_info1 = read_excel('user_info1.xlsx', dtype={'uid':str})\n",
    "print(len(user_info1))\n",
    "user_info1.head()"
   ],
   "metadata": {
    "collapsed": false,
    "pycharm": {
     "name": "#%%\n"
    }
   }
  },
  {
   "cell_type": "code",
   "execution_count": 21,
   "outputs": [
    {
     "name": "stdout",
     "output_type": "stream",
     "text": [
      "上个时间采集的url数为:  45070\n"
     ]
    }
   ],
   "source": [
    "uid_last = user_info1['uid'].unique()\n",
    "print('上个时间采集的url数为: ', len(uid_last))"
   ],
   "metadata": {
    "collapsed": false,
    "pycharm": {
     "name": "#%%\n"
    }
   }
  },
  {
   "cell_type": "markdown",
   "source": [
    "#### 相对有信息的用户空间url"
   ],
   "metadata": {
    "collapsed": false,
    "pycharm": {
     "name": "#%% md\n"
    }
   }
  },
  {
   "cell_type": "code",
   "execution_count": 31,
   "outputs": [
    {
     "data": {
      "text/plain": "        uid                                    left  right  \\\n0   8282385  https://club.hihonor.com/cn/space-uid-  .html   \n1  30147236  https://club.hihonor.com/cn/space-uid-  .html   \n2  12701964  https://club.hihonor.com/cn/space-uid-  .html   \n3  39550353  https://club.hihonor.com/cn/space-uid-  .html   \n4   7433099  https://club.hihonor.com/cn/space-uid-  .html   \n\n                                           space_url  \n0  https://club.hihonor.com/cn/space-uid-8282385....  \n1  https://club.hihonor.com/cn/space-uid-30147236...  \n2  https://club.hihonor.com/cn/space-uid-12701964...  \n3  https://club.hihonor.com/cn/space-uid-39550353...  \n4  https://club.hihonor.com/cn/space-uid-7433099....  ",
      "text/html": "<div>\n<style scoped>\n    .dataframe tbody tr th:only-of-type {\n        vertical-align: middle;\n    }\n\n    .dataframe tbody tr th {\n        vertical-align: top;\n    }\n\n    .dataframe thead th {\n        text-align: right;\n    }\n</style>\n<table border=\"1\" class=\"dataframe\">\n  <thead>\n    <tr style=\"text-align: right;\">\n      <th></th>\n      <th>uid</th>\n      <th>left</th>\n      <th>right</th>\n      <th>space_url</th>\n    </tr>\n  </thead>\n  <tbody>\n    <tr>\n      <th>0</th>\n      <td>8282385</td>\n      <td>https://club.hihonor.com/cn/space-uid-</td>\n      <td>.html</td>\n      <td>https://club.hihonor.com/cn/space-uid-8282385....</td>\n    </tr>\n    <tr>\n      <th>1</th>\n      <td>30147236</td>\n      <td>https://club.hihonor.com/cn/space-uid-</td>\n      <td>.html</td>\n      <td>https://club.hihonor.com/cn/space-uid-30147236...</td>\n    </tr>\n    <tr>\n      <th>2</th>\n      <td>12701964</td>\n      <td>https://club.hihonor.com/cn/space-uid-</td>\n      <td>.html</td>\n      <td>https://club.hihonor.com/cn/space-uid-12701964...</td>\n    </tr>\n    <tr>\n      <th>3</th>\n      <td>39550353</td>\n      <td>https://club.hihonor.com/cn/space-uid-</td>\n      <td>.html</td>\n      <td>https://club.hihonor.com/cn/space-uid-39550353...</td>\n    </tr>\n    <tr>\n      <th>4</th>\n      <td>7433099</td>\n      <td>https://club.hihonor.com/cn/space-uid-</td>\n      <td>.html</td>\n      <td>https://club.hihonor.com/cn/space-uid-7433099....</td>\n    </tr>\n  </tbody>\n</table>\n</div>"
     },
     "execution_count": 31,
     "metadata": {},
     "output_type": "execute_result"
    }
   ],
   "source": [
    "active_space_urls = user_info1.loc[:,['uid']]\n",
    "# https://club.hihonor.com/cn/space-uid-212638451.html\n",
    "active_space_urls['left'] = 'https://club.hihonor.com/cn/space-uid-'\n",
    "active_space_urls['right'] = '.html'\n",
    "active_space_urls['space_url'] = active_space_urls['left'] + active_space_urls['uid'] + active_space_urls['right']\n",
    "active_space_urls.head()"
   ],
   "metadata": {
    "collapsed": false,
    "pycharm": {
     "name": "#%%\n"
    }
   }
  },
  {
   "cell_type": "code",
   "execution_count": 32,
   "outputs": [
    {
     "data": {
      "text/plain": "       uid                                    left  right  \\\n0  8282385  https://club.hihonor.com/cn/space-uid-  .html   \n\n                                           space_url  \n0  https://club.hihonor.com/cn/space-uid-8282385....  ",
      "text/html": "<div>\n<style scoped>\n    .dataframe tbody tr th:only-of-type {\n        vertical-align: middle;\n    }\n\n    .dataframe tbody tr th {\n        vertical-align: top;\n    }\n\n    .dataframe thead th {\n        text-align: right;\n    }\n</style>\n<table border=\"1\" class=\"dataframe\">\n  <thead>\n    <tr style=\"text-align: right;\">\n      <th></th>\n      <th>uid</th>\n      <th>left</th>\n      <th>right</th>\n      <th>space_url</th>\n    </tr>\n  </thead>\n  <tbody>\n    <tr>\n      <th>0</th>\n      <td>8282385</td>\n      <td>https://club.hihonor.com/cn/space-uid-</td>\n      <td>.html</td>\n      <td>https://club.hihonor.com/cn/space-uid-8282385....</td>\n    </tr>\n  </tbody>\n</table>\n</div>"
     },
     "execution_count": 32,
     "metadata": {},
     "output_type": "execute_result"
    }
   ],
   "source": [
    "# 导出为活跃的space_urls_active.csv\n",
    "active_space_urls.loc[:,['space_url']].to_csv('space_urls_active.csv', index=False, encoding='utf-8')\n",
    "active_space_urls.head(1)"
   ],
   "metadata": {
    "collapsed": false,
    "pycharm": {
     "name": "#%%\n"
    }
   }
  },
  {
   "cell_type": "markdown",
   "source": [
    "##### 分析全部的空间space_urls"
   ],
   "metadata": {
    "collapsed": false,
    "pycharm": {
     "name": "#%% md\n"
    }
   }
  },
  {
   "cell_type": "code",
   "execution_count": 14,
   "outputs": [
    {
     "name": "stdout",
     "output_type": "stream",
     "text": [
      "106200\n"
     ]
    },
    {
     "data": {
      "text/plain": "                                           space_url\n0  https://club.hihonor.com/cn/space-uid-21263845...\n1  https://club.hihonor.com/cn/space-uid-21357981...\n2  https://club.hihonor.com/cn/space-uid-21981006...\n3  https://club.hihonor.com/cn/space-uid-21946001...\n4  https://club.hihonor.com/cn/space-uid-15900584...",
      "text/html": "<div>\n<style scoped>\n    .dataframe tbody tr th:only-of-type {\n        vertical-align: middle;\n    }\n\n    .dataframe tbody tr th {\n        vertical-align: top;\n    }\n\n    .dataframe thead th {\n        text-align: right;\n    }\n</style>\n<table border=\"1\" class=\"dataframe\">\n  <thead>\n    <tr style=\"text-align: right;\">\n      <th></th>\n      <th>space_url</th>\n    </tr>\n  </thead>\n  <tbody>\n    <tr>\n      <th>0</th>\n      <td>https://club.hihonor.com/cn/space-uid-21263845...</td>\n    </tr>\n    <tr>\n      <th>1</th>\n      <td>https://club.hihonor.com/cn/space-uid-21357981...</td>\n    </tr>\n    <tr>\n      <th>2</th>\n      <td>https://club.hihonor.com/cn/space-uid-21981006...</td>\n    </tr>\n    <tr>\n      <th>3</th>\n      <td>https://club.hihonor.com/cn/space-uid-21946001...</td>\n    </tr>\n    <tr>\n      <th>4</th>\n      <td>https://club.hihonor.com/cn/space-uid-15900584...</td>\n    </tr>\n  </tbody>\n</table>\n</div>"
     },
     "execution_count": 14,
     "metadata": {},
     "output_type": "execute_result"
    }
   ],
   "source": [
    "space_urls = read_csv('space_urls.csv')\n",
    "print(len(space_urls))\n",
    "space_urls.head()"
   ],
   "metadata": {
    "collapsed": false,
    "pycharm": {
     "name": "#%%\n"
    }
   }
  },
  {
   "cell_type": "code",
   "execution_count": 18,
   "outputs": [
    {
     "data": {
      "text/plain": "                                           space_url        uid  \\\n0  https://club.hihonor.com/cn/space-uid-21263845...  212638451   \n1  https://club.hihonor.com/cn/space-uid-21357981...  213579811   \n2  https://club.hihonor.com/cn/space-uid-21981006...  219810068   \n3  https://club.hihonor.com/cn/space-uid-21946001...  219460012   \n4  https://club.hihonor.com/cn/space-uid-15900584...  159005845   \n\n             html  \n0  212638451.html  \n1  213579811.html  \n2  219810068.html  \n3  219460012.html  \n4  159005845.html  ",
      "text/html": "<div>\n<style scoped>\n    .dataframe tbody tr th:only-of-type {\n        vertical-align: middle;\n    }\n\n    .dataframe tbody tr th {\n        vertical-align: top;\n    }\n\n    .dataframe thead th {\n        text-align: right;\n    }\n</style>\n<table border=\"1\" class=\"dataframe\">\n  <thead>\n    <tr style=\"text-align: right;\">\n      <th></th>\n      <th>space_url</th>\n      <th>uid</th>\n      <th>html</th>\n    </tr>\n  </thead>\n  <tbody>\n    <tr>\n      <th>0</th>\n      <td>https://club.hihonor.com/cn/space-uid-21263845...</td>\n      <td>212638451</td>\n      <td>212638451.html</td>\n    </tr>\n    <tr>\n      <th>1</th>\n      <td>https://club.hihonor.com/cn/space-uid-21357981...</td>\n      <td>213579811</td>\n      <td>213579811.html</td>\n    </tr>\n    <tr>\n      <th>2</th>\n      <td>https://club.hihonor.com/cn/space-uid-21981006...</td>\n      <td>219810068</td>\n      <td>219810068.html</td>\n    </tr>\n    <tr>\n      <th>3</th>\n      <td>https://club.hihonor.com/cn/space-uid-21946001...</td>\n      <td>219460012</td>\n      <td>219460012.html</td>\n    </tr>\n    <tr>\n      <th>4</th>\n      <td>https://club.hihonor.com/cn/space-uid-15900584...</td>\n      <td>159005845</td>\n      <td>159005845.html</td>\n    </tr>\n  </tbody>\n</table>\n</div>"
     },
     "execution_count": 18,
     "metadata": {},
     "output_type": "execute_result"
    }
   ],
   "source": [
    "space_urls['html'] = space_urls['space_url'].str.rsplit('-uid-').str.get(1)\n",
    "space_urls['uid'] = space_urls['html'].str.split('.').str.get(0)\n",
    "space_urls.head()"
   ],
   "metadata": {
    "collapsed": false,
    "pycharm": {
     "name": "#%%\n"
    }
   }
  },
  {
   "cell_type": "code",
   "execution_count": 20,
   "outputs": [
    {
     "name": "stdout",
     "output_type": "stream",
     "text": [
      "106188\n",
      "<class 'numpy.ndarray'>\n"
     ]
    }
   ],
   "source": [
    "uid_all = space_urls['uid'].unique()\n",
    "print(len(uid_all))\n",
    "print(type(uid_all))"
   ],
   "metadata": {
    "collapsed": false,
    "pycharm": {
     "name": "#%%\n"
    }
   }
  },
  {
   "cell_type": "markdown",
   "source": [
    "##### 由于上个时间采集的url肯定市uid_all的子集, 所以我们做差集运算获取未采集的uid"
   ],
   "metadata": {
    "collapsed": false,
    "pycharm": {
     "name": "#%% md\n"
    }
   }
  },
  {
   "cell_type": "code",
   "execution_count": 25,
   "outputs": [
    {
     "name": "stdout",
     "output_type": "stream",
     "text": [
      "<class 'numpy.ndarray'>\n",
      "[1 2]\n"
     ]
    }
   ],
   "source": [
    "test = setdiff1d([1,2,3,4],[3,4])\n",
    "print(type(test))\n",
    "print(test)"
   ],
   "metadata": {
    "collapsed": false,
    "pycharm": {
     "name": "#%%\n"
    }
   }
  },
  {
   "cell_type": "code",
   "execution_count": 27,
   "outputs": [
    {
     "name": "stdout",
     "output_type": "stream",
     "text": [
      "未采集uid数:  61118\n"
     ]
    }
   ],
   "source": [
    "uid_others = setdiff1d(uid_all, uid_last, assume_unique=True)\n",
    "print('未采集uid数: ', len(uid_others))"
   ],
   "metadata": {
    "collapsed": false,
    "pycharm": {
     "name": "#%%\n"
    }
   }
  },
  {
   "cell_type": "code",
   "execution_count": 28,
   "outputs": [
    {
     "data": {
      "text/plain": "                                                   space_url            html\nuid                                                                         \n219810068  https://club.hihonor.com/cn/space-uid-21981006...  219810068.html\n219795973  https://club.hihonor.com/cn/space-uid-21979597...  219795973.html\n219461796  https://club.hihonor.com/cn/space-uid-21946179...  219461796.html\n217543772  https://club.hihonor.com/cn/space-uid-21754377...  217543772.html\n219806064  https://club.hihonor.com/cn/space-uid-21980606...  219806064.html",
      "text/html": "<div>\n<style scoped>\n    .dataframe tbody tr th:only-of-type {\n        vertical-align: middle;\n    }\n\n    .dataframe tbody tr th {\n        vertical-align: top;\n    }\n\n    .dataframe thead th {\n        text-align: right;\n    }\n</style>\n<table border=\"1\" class=\"dataframe\">\n  <thead>\n    <tr style=\"text-align: right;\">\n      <th></th>\n      <th>space_url</th>\n      <th>html</th>\n    </tr>\n    <tr>\n      <th>uid</th>\n      <th></th>\n      <th></th>\n    </tr>\n  </thead>\n  <tbody>\n    <tr>\n      <th>219810068</th>\n      <td>https://club.hihonor.com/cn/space-uid-21981006...</td>\n      <td>219810068.html</td>\n    </tr>\n    <tr>\n      <th>219795973</th>\n      <td>https://club.hihonor.com/cn/space-uid-21979597...</td>\n      <td>219795973.html</td>\n    </tr>\n    <tr>\n      <th>219461796</th>\n      <td>https://club.hihonor.com/cn/space-uid-21946179...</td>\n      <td>219461796.html</td>\n    </tr>\n    <tr>\n      <th>217543772</th>\n      <td>https://club.hihonor.com/cn/space-uid-21754377...</td>\n      <td>217543772.html</td>\n    </tr>\n    <tr>\n      <th>219806064</th>\n      <td>https://club.hihonor.com/cn/space-uid-21980606...</td>\n      <td>219806064.html</td>\n    </tr>\n  </tbody>\n</table>\n</div>"
     },
     "execution_count": 28,
     "metadata": {},
     "output_type": "execute_result"
    }
   ],
   "source": [
    "other_space_urls = space_urls.set_index('uid').loc[uid_others]\n",
    "other_space_urls.head() # 经过测试, 这里的url基本为无效用户"
   ],
   "metadata": {
    "collapsed": false,
    "pycharm": {
     "name": "#%%\n"
    }
   }
  },
  {
   "cell_type": "code",
   "execution_count": 33,
   "outputs": [],
   "source": [
    "other_space_urls.loc[:,['space_url']].to_csv('space_urls_sleep.csv', index=False, encoding='utf-8')"
   ],
   "metadata": {
    "collapsed": false,
    "pycharm": {
     "name": "#%%\n"
    }
   }
  },
  {
   "cell_type": "code",
   "execution_count": null,
   "outputs": [],
   "source": [],
   "metadata": {
    "collapsed": false,
    "pycharm": {
     "name": "#%%\n"
    }
   }
  }
 ],
 "metadata": {
  "kernelspec": {
   "display_name": "Python 3",
   "language": "python",
   "name": "python3"
  },
  "language_info": {
   "codemirror_mode": {
    "name": "ipython",
    "version": 2
   },
   "file_extension": ".py",
   "mimetype": "text/x-python",
   "name": "python",
   "nbconvert_exporter": "python",
   "pygments_lexer": "ipython2",
   "version": "2.7.6"
  }
 },
 "nbformat": 4,
 "nbformat_minor": 0
}
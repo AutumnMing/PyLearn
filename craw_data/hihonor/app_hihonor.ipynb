{
 "cells": [
  {
   "cell_type": "code",
   "execution_count": 8,
   "metadata": {
    "collapsed": true
   },
   "outputs": [],
   "source": [
    "from textwrap import dedent\n",
    "from pprint import pprint\n",
    "from requests import get as res_get\n",
    "from requests.cookies import RequestsCookieJar"
   ]
  },
  {
   "cell_type": "code",
   "execution_count": 9,
   "outputs": [
    {
     "name": "stdout",
     "output_type": "stream",
     "text": [
      "['荣耀magic', '荣耀V系列', '荣耀数字系列', '荣耀X系列', '荣耀Play系列', '荣耀畅玩系列']\n"
     ]
    }
   ],
   "source": [
    "# 板块类型\n",
    "fid_dict = {\n",
    "    '荣耀magic': '3965',\n",
    "    '荣耀V系列': '3159',\n",
    "    '荣耀数字系列': '3484',\n",
    "    '荣耀X系列': '4280',\n",
    "    '荣耀Play系列': '3666',\n",
    "    '荣耀畅玩系列': '4526'\n",
    "}\n",
    "# for each in fid_dict.values():print(each)\n",
    "print(list(fid_dict))"
   ],
   "metadata": {
    "collapsed": false
   }
  },
  {
   "cell_type": "code",
   "execution_count": 10,
   "outputs": [],
   "source": [
    "base_url = 'https://club-api.c.hihonor.com/honor/apk/clientreq.php'\n",
    "params = {\n",
    "    'ver': '1',\n",
    "    'seq': '1',\n",
    "    'MagicUIVer': '',\n",
    "    'MachineID': 'SM-G955N',\n",
    "    'versionCode': '10019010',\n",
    "    'club_id': 'CLUB_1670503696484',\n",
    "    'interface': 'gethome',\n",
    "    'uid': '35589253'\n",
    "}\n",
    "cookies_dict = {\n",
    "    'a3ps_2132_auth': '''WafJucVRHm%2BPYXRr6bII2kdPT3PY4jFKrYoPt%2BlU8A89l36CAS%2FeIr47r4EFQTxLylDR2gLuM%\\\n",
    "2BtKUC2G8aR77SdCTcpC9Mwg3Dd2Ki17Qz1ahRSvgMi2mFBaWWjVH4gBTwhLitwrSkGJxv87lbk7kI148aDbfAdjccFzW3wzh4%2BkzZA6\\\n",
    "Aj9koXDtaQ7bvVGPQJmcLLl8OnxhdXRoY29kZXw6fG9wZW5zc2xfMnw6fKCK2SB765JBuRwhrXw6fLXYX8l8oWAqfzpV%2FxWltVE%3D''',\n",
    "    'a3ps_2132_saltkey': '''3JuXGubcA28n53ft%2F8%2FsSh87Cgn%2BNuK9tlgKxJaFnjXsaoH7N0bgQjQ9kHM2l6DKWTMJYYWvZ%2B2q6\\\n",
    "%2FTb%2FsAWznw6fGF1dGhrZXl8OnxvcGVuc3NsXzJ8OnxtEtAnM4XSiKes9cx8OnwqbOn3VR2O%2BoRF%2FSifk5Jw'''\n",
    "}\n",
    "jar = RequestsCookieJar()\n",
    "for key, value in cookies_dict.items():\n",
    "    # print('=' * 150)\n",
    "    # print(key)\n",
    "    # print(value)\n",
    "    jar.set(key, value)\n",
    "\n",
    "headers = {\n",
    "    'User-Agent': dedent('''Mozilla/5.0 (Linux; U; Android 7.1.2; zh; SM-G955N Build/NRD90M.G955NKSU1AQDC) \\\n",
    "AppleWebKit/534.30 (KHTML, like Gecko) Version/4.0 Mobile Safari/534.30'''),\n",
    "    'AUTHORIZATION': dedent('''HUAFANS-HMAC-SHA256 appid=7910,timestamp=1670852417,\\\n",
    "signature=\"PMcnJ0WUxWPL+/jl4guzEYvYjoRmYBovtIaaNcHru2o=\"''')\n",
    "}\n",
    "r = res_get(base_url, params=params, cookies=jar, headers=headers)"
   ],
   "metadata": {
    "collapsed": false
   }
  },
  {
   "cell_type": "code",
   "execution_count": 11,
   "outputs": [
    {
     "name": "stdout",
     "output_type": "stream",
     "text": [
      "200\n",
      "https://club-api.c.hihonor.com/honor/apk/clientreq.php?ver=1&seq=1&MagicUIVer=&MachineID=SM-G955N&versionCode=10019010&club_id=CLUB_1670503696484&interface=gethome&uid=35589253\n",
      "utf-8\n",
      "{'result': '1001', 'resultmsg': 'Timestamp expired，本地时间和系统时间不一致'}\n"
     ]
    }
   ],
   "source": [
    "print(r.status_code)\n",
    "print(r.url)\n",
    "print(r.encoding)\n",
    "print(r.json())"
   ],
   "metadata": {
    "collapsed": false
   }
  },
  {
   "cell_type": "code",
   "execution_count": 12,
   "outputs": [],
   "source": [],
   "metadata": {
    "collapsed": false
   }
  }
 ],
 "metadata": {
  "kernelspec": {
   "display_name": "Python 3",
   "language": "python",
   "name": "python3"
  },
  "language_info": {
   "codemirror_mode": {
    "name": "ipython",
    "version": 2
   },
   "file_extension": ".py",
   "mimetype": "text/x-python",
   "name": "python",
   "nbconvert_exporter": "python",
   "pygments_lexer": "ipython2",
   "version": "2.7.6"
  }
 },
 "nbformat": 4,
 "nbformat_minor": 0
}

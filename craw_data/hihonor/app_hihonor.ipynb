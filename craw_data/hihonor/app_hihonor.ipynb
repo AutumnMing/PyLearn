{
 "cells": [
  {
   "cell_type": "code",
   "execution_count": 11,
   "metadata": {
    "collapsed": true,
    "pycharm": {
     "name": "#%%\n"
    }
   },
   "outputs": [],
   "source": [
    "from requests import get as res_get"
   ]
  },
  {
   "cell_type": "code",
   "execution_count": 9,
   "outputs": [
    {
     "name": "stdout",
     "output_type": "stream",
     "text": [
      "3965\n",
      "3159\n",
      "3484\n",
      "4280\n",
      "3666\n",
      "4526\n",
      "['荣耀magic', '荣耀V系列', '荣耀数字系列', '荣耀X系列', '荣耀Play系列', '荣耀畅玩系列']\n"
     ]
    }
   ],
   "source": [
    "# 板块类型\n",
    "fid_dict = {\n",
    "    '荣耀magic': '3965',\n",
    "    '荣耀V系列': '3159',\n",
    "    '荣耀数字系列': '3484',\n",
    "    '荣耀X系列': '4280',\n",
    "    '荣耀Play系列': '3666',\n",
    "    '荣耀畅玩系列': '4526'\n",
    "}\n",
    "# for each in fid_dict.values():print(each)\n",
    "print(list(fid_dict))"
   ],
   "metadata": {
    "collapsed": false,
    "pycharm": {
     "name": "#%%\n"
    }
   }
  },
  {
   "cell_type": "code",
   "execution_count": null,
   "outputs": [],
   "source": [],
   "metadata": {
    "collapsed": false,
    "pycharm": {
     "name": "#%%\n"
    }
   }
  },
  {
   "cell_type": "code",
   "execution_count": null,
   "outputs": [],
   "source": [],
   "metadata": {
    "collapsed": false,
    "pycharm": {
     "name": "#%%\n"
    }
   }
  },
  {
   "cell_type": "code",
   "execution_count": null,
   "outputs": [],
   "source": [],
   "metadata": {
    "collapsed": false,
    "pycharm": {
     "name": "#%%\n"
    }
   }
  }
 ],
 "metadata": {
  "kernelspec": {
   "display_name": "Python 3",
   "language": "python",
   "name": "python3"
  },
  "language_info": {
   "codemirror_mode": {
    "name": "ipython",
    "version": 2
   },
   "file_extension": ".py",
   "mimetype": "text/x-python",
   "name": "python",
   "nbconvert_exporter": "python",
   "pygments_lexer": "ipython2",
   "version": "2.7.6"
  }
 },
 "nbformat": 4,
 "nbformat_minor": 0
}
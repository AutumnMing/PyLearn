{
 "cells": [
  {
   "cell_type": "code",
   "execution_count": 6,
   "metadata": {
    "collapsed": true
   },
   "outputs": [],
   "source": [
    "from textwrap import dedent\n",
    "from pprint import pprint\n",
    "from requests import get as res_get\n",
    "from requests.cookies import RequestsCookieJar\n",
    "from datetime import datetime"
   ]
  },
  {
   "cell_type": "code",
   "execution_count": 10,
   "outputs": [
    {
     "name": "stdout",
     "output_type": "stream",
     "text": [
      "['荣耀magic', '荣耀V系列', '荣耀数字系列', '荣耀X系列', '荣耀Play系列', '荣耀畅玩系列']\n"
     ]
    }
   ],
   "source": [
    "# 板块类型\n",
    "fid_dict = {\n",
    "    '荣耀magic': '3965',\n",
    "    '荣耀V系列': '3159',\n",
    "    '荣耀数字系列': '3484',\n",
    "    '荣耀X系列': '4280',\n",
    "    '荣耀Play系列': '3666',\n",
    "    '荣耀畅玩系列': '4526'\n",
    "}\n",
    "# for each in fid_dict.values():print(each)\n",
    "print(list(fid_dict))"
   ],
   "metadata": {
    "collapsed": false
   }
  },
  {
   "cell_type": "code",
   "execution_count": 11,
   "outputs": [],
   "source": [
    "base_url = 'https://club-api.c.hihonor.com/honor/apk/clientreq.php'\n",
    "params = {\n",
    "    'ver': '1',\n",
    "    'seq': '1',\n",
    "    'MagicUIVer': '',\n",
    "    'MachineID': 'SM-G955N',\n",
    "    'versionCode': '10019010',\n",
    "    'club_id': 'CLUB_1670503696484',\n",
    "    'interface': 'gethome',\n",
    "    'uid': '35589253'\n",
    "}\n",
    "cookies_dict = {\n",
    "    'a3ps_2132_auth': '''WafJucVRHm%2BPYXRr6bII2kdPT3PY4jFKrYoPt%2BlU8A89l36CAS%2FeIr47r4EFQTxLylDR2gLuM%\\\n",
    "2BtKUC2G8aR77SdCTcpC9Mwg3Dd2Ki17Qz1ahRSvgMi2mFBaWWjVH4gBTwhLitwrSkGJxv87lbk7kI148aDbfAdjccFzW3wzh4%2BkzZA6\\\n",
    "Aj9koXDtaQ7bvVGPQJmcLLl8OnxhdXRoY29kZXw6fG9wZW5zc2xfMnw6fKCK2SB765JBuRwhrXw6fLXYX8l8oWAqfzpV%2FxWltVE%3D''',\n",
    "    'a3ps_2132_saltkey': '''3JuXGubcA28n53ft%2F8%2FsSh87Cgn%2BNuK9tlgKxJaFnjXsaoH7N0bgQjQ9kHM2l6DKWTMJYYWvZ%2B2q6\\\n",
    "%2FTb%2FsAWznw6fGF1dGhrZXl8OnxvcGVuc3NsXzJ8OnxtEtAnM4XSiKes9cx8OnwqbOn3VR2O%2BoRF%2FSifk5Jw'''\n",
    "}\n",
    "jar = RequestsCookieJar()\n",
    "for key, value in cookies_dict.items():\n",
    "    # print('=' * 150)\n",
    "    # print(key)\n",
    "    # print(value)\n",
    "    jar.set(key, value)"
   ],
   "metadata": {
    "collapsed": false
   }
  },
  {
   "cell_type": "code",
   "execution_count": 34,
   "outputs": [
    {
     "data": {
      "text/plain": "'HUAFANS-HMAC-SHA256 appid=7910,timestamp=1670854476, signature=\"PMcnJ0WUxWPL+/jl4guzEYvYjoRmYBovtIaaNcHru2o=\"'"
     },
     "execution_count": 34,
     "metadata": {},
     "output_type": "execute_result"
    }
   ],
   "source": [
    "t1 = str(int(datetime.now().timestamp()))\n",
    "s1 = f'''HUAFANS-HMAC-SHA256 appid=7910,timestamp={t1}, signature=\"PMcnJ0WUxWPL+/jl4guzEYvYjoRmYBovtIaaNcHru2o=\"'''\n",
    "s1"
   ],
   "metadata": {
    "collapsed": false
   }
  },
  {
   "cell_type": "code",
   "execution_count": 32,
   "outputs": [],
   "source": [
    "# headers 包含了时间戳用于系统时间验证\n",
    "t1 = str(int(datetime.now().timestamp()))\n",
    "s1 = f'''HUAFANS-HMAC-SHA256 appid=7910,timestamp={t1}, signature=\"PMcnJ0WUxWPL+/jl4guzEYvYjoRmYBovtIaaNcHru2o=\"'''\n",
    "headers = {\n",
    "    'User-Agent': dedent('''Mozilla/5.0 (Linux; U; Android 7.1.2; zh; SM-G955N Build/NRD90M.G955NKSU1AQDC) \\\n",
    "AppleWebKit/534.30 (KHTML, like Gecko) Version/4.0 Mobile Safari/534.30'''),\n",
    "    'AUTHORIZATION':s1}"
   ],
   "metadata": {
    "collapsed": false
   }
  },
  {
   "cell_type": "code",
   "execution_count": 29,
   "outputs": [
    {
     "name": "stdout",
     "output_type": "stream",
     "text": [
      "200\n",
      "https://club-api.c.hihonor.com/honor/apk/clientreq.php?ver=1&seq=1&MagicUIVer=&MachineID=SM-G955N&versionCode=10019010&club_id=CLUB_1670503696484&interface=gethome&uid=35589253\n",
      "utf-8\n",
      "{'result': '1002', 'resultmsg': 'Authorization failure'}\n"
     ]
    }
   ],
   "source": [
    "r = res_get(base_url, params=params, cookies=jar, headers=headers)\n",
    "print(r.status_code)\n",
    "print(r.url)\n",
    "print(r.encoding)\n",
    "print(r.json())"
   ],
   "metadata": {
    "collapsed": false
   }
  },
  {
   "cell_type": "code",
   "execution_count": null,
   "outputs": [],
   "source": [],
   "metadata": {
    "collapsed": false
   }
  },
  {
   "cell_type": "code",
   "execution_count": 1,
   "outputs": [],
   "source": [
    "# 系统时间获取测试"
   ],
   "metadata": {
    "collapsed": false
   }
  },
  {
   "cell_type": "code",
   "execution_count": 2,
   "outputs": [],
   "source": [],
   "metadata": {
    "collapsed": false
   }
  },
  {
   "cell_type": "code",
   "execution_count": 27,
   "outputs": [
    {
     "data": {
      "text/plain": "1670854361"
     },
     "execution_count": 27,
     "metadata": {},
     "output_type": "execute_result"
    }
   ],
   "source": [
    "t1 = int(datetime.now().timestamp())\n",
    "t1"
   ],
   "metadata": {
    "collapsed": false
   }
  },
  {
   "cell_type": "code",
   "execution_count": null,
   "outputs": [],
   "source": [],
   "metadata": {
    "collapsed": false
   }
  }
 ],
 "metadata": {
  "kernelspec": {
   "display_name": "Python 3",
   "language": "python",
   "name": "python3"
  },
  "language_info": {
   "codemirror_mode": {
    "name": "ipython",
    "version": 2
   },
   "file_extension": ".py",
   "mimetype": "text/x-python",
   "name": "python",
   "nbconvert_exporter": "python",
   "pygments_lexer": "ipython2",
   "version": "2.7.6"
  }
 },
 "nbformat": 4,
 "nbformat_minor": 0
}

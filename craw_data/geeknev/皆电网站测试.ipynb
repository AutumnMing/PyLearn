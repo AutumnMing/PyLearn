{
 "cells": [
  {
   "cell_type": "code",
   "execution_count": 1,
   "metadata": {
    "collapsed": true
   },
   "outputs": [],
   "source": [
    "from requests import get as res_get\n",
    "from parsel import Selector"
   ]
  },
  {
   "cell_type": "code",
   "execution_count": 2,
   "outputs": [],
   "source": [
    "url = '''https://auto.geeknev.com/price/'''\n",
    "headers = {\n",
    "    'User-Agent':'''Mozilla/5.0 (Windows NT 10.0; Win64; x64) \\\n",
    "AppleWebKit/537.36 (KHTML, like Gecko) Chrome/108.0.0.0 Safari/537.36 Edg/108.0.1462.54'''\n",
    "}"
   ],
   "metadata": {
    "collapsed": false
   }
  },
  {
   "cell_type": "code",
   "execution_count": 3,
   "outputs": [
    {
     "name": "stdout",
     "output_type": "stream",
     "text": [
      "utf-8\n",
      "200\n"
     ]
    }
   ],
   "source": [
    "r = res_get(url, headers=headers)\n",
    "print(r.encoding)\n",
    "print(r.status_code)\n",
    "selector = Selector(r.text)"
   ],
   "metadata": {
    "collapsed": false
   }
  },
  {
   "cell_type": "markdown",
   "source": [
    "#### 不同价格段的href"
   ],
   "metadata": {
    "collapsed": false
   }
  },
  {
   "cell_type": "code",
   "execution_count": 4,
   "outputs": [
    {
     "name": "stdout",
     "output_type": "stream",
     "text": [
      "{'price': '5万以下', 'href': 'https://auto.geeknev.com/price/q-p1.html'}\n",
      "{'price': '5-8万', 'href': 'https://auto.geeknev.com/price/q-p2.html'}\n",
      "{'price': '8-10万', 'href': 'https://auto.geeknev.com/price/q-p3.html'}\n",
      "{'price': '10-15万', 'href': 'https://auto.geeknev.com/price/q-p4.html'}\n",
      "{'price': '15-20万', 'href': 'https://auto.geeknev.com/price/q-p5.html'}\n",
      "{'price': '20-25万', 'href': 'https://auto.geeknev.com/price/q-p6.html'}\n",
      "{'price': '25-35万', 'href': 'https://auto.geeknev.com/price/q-p7.html'}\n",
      "{'price': '35-50万', 'href': 'https://auto.geeknev.com/price/q-p8.html'}\n",
      "{'price': '50-100万', 'href': 'https://auto.geeknev.com/price/q-p9.html'}\n",
      "{'price': '100万以上', 'href': 'https://auto.geeknev.com/price/q-p10.html'}\n"
     ]
    }
   ],
   "source": [
    "items_price = selector.xpath('//div[@class=\"filter-links\"]/a')\n",
    "price_list = []\n",
    "for item in items_price:\n",
    "    data = {\n",
    "        'price':item.xpath('./text()').get(),\n",
    "        'href':'https://auto.geeknev.com' + item.xpath('./@href').get()\n",
    "    }\n",
    "    print(data)\n",
    "    price_list.append(data)"
   ],
   "metadata": {
    "collapsed": false
   }
  },
  {
   "cell_type": "markdown",
   "source": [
    "#### 对每个价格段的链接数据进行采集"
   ],
   "metadata": {
    "collapsed": false
   }
  },
  {
   "cell_type": "code",
   "execution_count": null,
   "outputs": [],
   "source": [],
   "metadata": {
    "collapsed": false
   }
  },
  {
   "cell_type": "code",
   "execution_count": 5,
   "outputs": [
    {
     "name": "stdout",
     "output_type": "stream",
     "text": [
      "https://auto.geeknev.com/price/q-p1.html\n",
      "{'User-Agent': 'Mozilla/5.0 (Windows NT 10.0; Win64; x64) AppleWebKit/537.36 (KHTML, like Gecko) Chrome/108.0.0.0 Safari/537.36 Edg/108.0.1462.54', 'refer': 'https://auto.geeknev.com/price/q-p1.html'}\n"
     ]
    }
   ],
   "source": [
    "url = price_list[0].get('href')\n",
    "headers = {\n",
    "    'User-Agent':'''Mozilla/5.0 (Windows NT 10.0; Win64; x64) \\\n",
    "AppleWebKit/537.36 (KHTML, like Gecko) Chrome/108.0.0.0 Safari/537.36 Edg/108.0.1462.54''',\n",
    "    'refer':url\n",
    "}\n",
    "print(url)\n",
    "print(headers)"
   ],
   "metadata": {
    "collapsed": false
   }
  },
  {
   "cell_type": "code",
   "execution_count": 6,
   "outputs": [
    {
     "name": "stdout",
     "output_type": "stream",
     "text": [
      "utf-8\n",
      "200\n"
     ]
    }
   ],
   "source": [
    "r1 = res_get(url, headers=headers)\n",
    "print(r1.encoding)\n",
    "print(r1.status_code)\n",
    "selector = Selector(r1.text)"
   ],
   "metadata": {
    "collapsed": false
   }
  },
  {
   "cell_type": "code",
   "execution_count": 7,
   "outputs": [
    {
     "data": {
      "text/plain": "14"
     },
     "execution_count": 7,
     "metadata": {},
     "output_type": "execute_result"
    }
   ],
   "source": [
    "brand_items = selector.xpath('//div[@class=\"braRow\"]')\n",
    "len(brand_items)"
   ],
   "metadata": {
    "collapsed": false
   }
  },
  {
   "cell_type": "code",
   "execution_count": 8,
   "outputs": [
    {
     "name": "stdout",
     "output_type": "stream",
     "text": [
      "{'brand_name': '北汽制造'}\n",
      "{'brand_name': '百智新能源'}\n",
      "{'brand_name': '比德文汽车'}\n",
      "{'brand_name': '长安汽车'}\n",
      "{'brand_name': '东风风光'}\n",
      "{'brand_name': '华晨新日'}\n",
      "{'brand_name': '华梓汽车'}\n",
      "{'brand_name': '雷丁'}\n",
      "{'brand_name': '凌宝汽车'}\n",
      "{'brand_name': '敏安汽车'}\n",
      "{'brand_name': '朋克汽车'}\n",
      "{'brand_name': '奇瑞新能源'}\n",
      "{'brand_name': '五菱'}\n",
      "{'brand_name': '小虎'}\n"
     ]
    }
   ],
   "source": [
    "# 遍历每个item获取相关信息\n",
    "for item in brand_items:\n",
    "    data = {\n",
    "        # 'brand_img':item.xpath('.//div[@class=\"braRow-icon\"]/em/span/img').get(),\n",
    "        'brand_name':item.xpath('.//div[@class=\"braRow-icon\"]/em/p/text()').get()\n",
    "    }\n",
    "    print(data)"
   ],
   "metadata": {
    "collapsed": false
   }
  },
  {
   "cell_type": "code",
   "execution_count": 8,
   "outputs": [],
   "source": [],
   "metadata": {
    "collapsed": false
   }
  }
 ],
 "metadata": {
  "kernelspec": {
   "display_name": "Python 3",
   "language": "python",
   "name": "python3"
  },
  "language_info": {
   "codemirror_mode": {
    "name": "ipython",
    "version": 2
   },
   "file_extension": ".py",
   "mimetype": "text/x-python",
   "name": "python",
   "nbconvert_exporter": "python",
   "pygments_lexer": "ipython2",
   "version": "2.7.6"
  }
 },
 "nbformat": 4,
 "nbformat_minor": 0
}

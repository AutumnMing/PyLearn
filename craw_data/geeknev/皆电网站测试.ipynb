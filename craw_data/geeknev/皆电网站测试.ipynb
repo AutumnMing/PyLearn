{
 "cells": [
  {
   "cell_type": "code",
   "execution_count": 83,
   "metadata": {
    "collapsed": true
   },
   "outputs": [],
   "source": [
    "from requests import get as res_get\n",
    "from parsel import Selector\n",
    "import re"
   ]
  },
  {
   "cell_type": "code",
   "execution_count": 84,
   "outputs": [],
   "source": [
    "url = '''https://auto.geeknev.com/price/'''\n",
    "headers = {\n",
    "    'User-Agent':'''Mozilla/5.0 (Windows NT 10.0; Win64; x64) \\\n",
    "AppleWebKit/537.36 (KHTML, like Gecko) Chrome/108.0.0.0 Safari/537.36 Edg/108.0.1462.54'''\n",
    "}"
   ],
   "metadata": {
    "collapsed": false
   }
  },
  {
   "cell_type": "code",
   "execution_count": 85,
   "outputs": [
    {
     "name": "stdout",
     "output_type": "stream",
     "text": [
      "utf-8\n",
      "200\n"
     ]
    }
   ],
   "source": [
    "r = res_get(url, headers=headers)\n",
    "print(r.encoding)\n",
    "print(r.status_code)\n",
    "selector = Selector(r.text)"
   ],
   "metadata": {
    "collapsed": false
   }
  },
  {
   "cell_type": "markdown",
   "source": [
    "#### 不同价格段的href"
   ],
   "metadata": {
    "collapsed": false
   }
  },
  {
   "cell_type": "code",
   "execution_count": 86,
   "outputs": [
    {
     "name": "stdout",
     "output_type": "stream",
     "text": [
      "{'price': '5万以下', 'href': 'https://auto.geeknev.com/price/q-p1.html'}\n",
      "{'price': '5-8万', 'href': 'https://auto.geeknev.com/price/q-p2.html'}\n",
      "{'price': '8-10万', 'href': 'https://auto.geeknev.com/price/q-p3.html'}\n",
      "{'price': '10-15万', 'href': 'https://auto.geeknev.com/price/q-p4.html'}\n",
      "{'price': '15-20万', 'href': 'https://auto.geeknev.com/price/q-p5.html'}\n",
      "{'price': '20-25万', 'href': 'https://auto.geeknev.com/price/q-p6.html'}\n",
      "{'price': '25-35万', 'href': 'https://auto.geeknev.com/price/q-p7.html'}\n",
      "{'price': '35-50万', 'href': 'https://auto.geeknev.com/price/q-p8.html'}\n",
      "{'price': '50-100万', 'href': 'https://auto.geeknev.com/price/q-p9.html'}\n",
      "{'price': '100万以上', 'href': 'https://auto.geeknev.com/price/q-p10.html'}\n"
     ]
    }
   ],
   "source": [
    "items_price = selector.xpath('//div[@class=\"filter-links\"]/a')\n",
    "price_list = []\n",
    "for item in items_price:\n",
    "    data = {\n",
    "        'price':item.xpath('./text()').get(),\n",
    "        'href':'https://auto.geeknev.com' + item.xpath('./@href').get()\n",
    "    }\n",
    "    print(data)\n",
    "    price_list.append(data)"
   ],
   "metadata": {
    "collapsed": false
   }
  },
  {
   "cell_type": "markdown",
   "source": [
    "#### 对每个价格段的链接数据进行采集"
   ],
   "metadata": {
    "collapsed": false
   }
  },
  {
   "cell_type": "code",
   "execution_count": 86,
   "outputs": [],
   "source": [],
   "metadata": {
    "collapsed": false
   }
  },
  {
   "cell_type": "code",
   "execution_count": 87,
   "outputs": [
    {
     "name": "stdout",
     "output_type": "stream",
     "text": [
      "https://auto.geeknev.com/price/q-p1.html\n",
      "{'User-Agent': 'Mozilla/5.0 (Windows NT 10.0; Win64; x64) AppleWebKit/537.36 (KHTML, like Gecko) Chrome/108.0.0.0 Safari/537.36 Edg/108.0.1462.54', 'refer': 'https://auto.geeknev.com/price/q-p1.html'}\n"
     ]
    }
   ],
   "source": [
    "url = price_list[0].get('href')\n",
    "headers = {\n",
    "    'User-Agent':'''Mozilla/5.0 (Windows NT 10.0; Win64; x64) \\\n",
    "AppleWebKit/537.36 (KHTML, like Gecko) Chrome/108.0.0.0 Safari/537.36 Edg/108.0.1462.54''',\n",
    "    'refer':url\n",
    "}\n",
    "print(url)\n",
    "print(headers)"
   ],
   "metadata": {
    "collapsed": false
   }
  },
  {
   "cell_type": "code",
   "execution_count": 88,
   "outputs": [
    {
     "name": "stdout",
     "output_type": "stream",
     "text": [
      "utf-8\n",
      "200\n"
     ]
    }
   ],
   "source": [
    "r1 = res_get(url, headers=headers)\n",
    "print(r1.encoding)\n",
    "print(r1.status_code)\n",
    "selector = Selector(r1.text)"
   ],
   "metadata": {
    "collapsed": false
   }
  },
  {
   "cell_type": "markdown",
   "source": [
    "#### 测试正则表达式获取真实brand的图片url"
   ],
   "metadata": {
    "collapsed": false
   }
  },
  {
   "cell_type": "code",
   "execution_count": 89,
   "outputs": [
    {
     "name": "stdout",
     "output_type": "stream",
     "text": [
      "35\n",
      "<img src=\"//www1.geeknev.com/zt/global/images/blank.gif\" src2=\"//img.pcauto.com.cn/images/upload/upc/tx/auto5/2206/29/c1/321335360_1656467070816.png\" alt=\"北汽制造\" width=\"78\" height=\"78\">\n",
      "<img src=\"//www1.geeknev.com/zt/global/images/blank.gif\" src2=\"//img.pcauto.com.cn/images/upload/upc/tx/auto5/2206/29/c1/321333969_1656466808676_180x135.jpg\" alt=\"元宝\">\n",
      "<img src=\"//www1.geeknev.com/zt/global/images/blank.gif\" src2=\"//img.pcauto.com.cn/images/upload/upc/tx/auto5/2204/01/c12/305262986_1648801466267_180x135.jpg\" alt=\"北汽小猫\">\n",
      "<img src=\"//www1.geeknev.com/zt/global/images/blank.gif\" src2=\"//img.pcauto.com.cn/images/upload/upc/tx/auto5/2109/16/c0/277817295_1631755297450.png\" alt=\"百智新能源\" width=\"78\" height=\"78\">\n",
      "<img src=\"//www1.geeknev.com/zt/global/images/blank.gif\" src2=\"//img.pcauto.com.cn/images/upload/upc/tx/auto5/2201/21/c17/293170424_1642737186657_180x135.jpg\" alt=\"百智大熊\">\n",
      "<img src=\"//www1.geeknev.com/zt/global/images/blank.gif\" src2=\"//img.pcauto.com.cn/images/upload/upc/tx/auto5/1909/02/c26/167291329_1567414885373.jpg\" alt=\"比德文汽车\" width=\"78\" height=\"78\">\n",
      "<img src=\"//www1.geeknev.com/zt/global/images/blank.gif\" src2=\"//img.pcauto.com.cn/images/upload/upc/tx/auto5/2102/22/c4/254373725_1613980903334_180x135.jpg\" alt=\"比德文E3\">\n",
      "<img src=\"//www1.geeknev.com/zt/global/images/blank.gif\" src2=\"//img.pcauto.com.cn/images/upload/upc/tx/auto5/2009/30/c22/233249884_1601435407958.png\" alt=\"长安汽车\" width=\"78\" height=\"78\">\n",
      "<img src=\"//www1.geeknev.com/zt/global/images/blank.gif\" src2=\"//img.pcauto.com.cn/images/upload/upc/tx/auto5/2203/17/c42/302630920_1647526627110_180x135.jpg\" alt=\"长安Lumin\">\n",
      "<img src=\"//www1.geeknev.com/zt/global/images/blank.gif\" src2=\"//img.pcauto.com.cn/images/upload/upc/tx/auto5/1603/04/c17/18855458_1457064072545_96x96.jpg\" alt=\"东风风光\" width=\"78\" height=\"78\">\n",
      "<img src=\"//www1.geeknev.com/zt/global/images/blank.gif\" src2=\"//img.pcauto.com.cn/images/upload/upc/tx/auto5/2202/10/c3/296793704_1644476462447_180x135.jpg\" alt=\"风光MINIEV\">\n",
      "<img src=\"//www1.geeknev.com/zt/global/images/blank.gif\" src2=\"//img.pcauto.com.cn/images/upload/upc/tx/auto5/2210/13/c31/337640051_1665655496669.png\" alt=\"华梓汽车\" width=\"78\" height=\"78\">\n",
      "<img src=\"//www1.geeknev.com/zt/global/images/blank.gif\" src2=\"//img.pcauto.com.cn/images/upload/upc/tx/auto5/2210/13/c32/337652248_1665664057658_180x135.jpg\" alt=\"华梓1号\">\n",
      "<img src=\"//www1.geeknev.com/zt/global/images/blank.gif\" src2=\"//img.pcauto.com.cn/images/upload/upc/tx/auto5/2210/13/c32/337652114_1665663058138_180x135.jpg\" alt=\"欧麦加\">\n",
      "<img src=\"//www1.geeknev.com/zt/global/images/blank.gif\" src2=\"//img.pcauto.com.cn/images/upload/upc/tx/auto5/2201/19/c0/292867610_1642557229645.png\" alt=\"华晨新日\" width=\"78\" height=\"78\">\n",
      "<img src=\"//www1.geeknev.com/zt/global/images/blank.gif\" src2=\"//img.pcauto.com.cn/images/upload/upc/tx/auto5/2201/19/c1/292877033_1642560423202_180x135.jpg\" alt=\"华晨新日i03\">\n",
      "<img src=\"//www1.geeknev.com/zt/global/images/blank.gif\" src2=\"//img.pcauto.com.cn/images/upload/upc/tx/auto5/1412/22/c0/960833_1419220402453_96x96.jpg\" alt=\"雷丁\" width=\"78\" height=\"78\">\n",
      "<img src=\"//www1.geeknev.com/zt/global/images/blank.gif\" src2=\"//img.pcauto.com.cn/images/upload/upc/tx/auto5/2102/28/c3/255234518_1614523195983_180x135.jpg\" alt=\"雷丁i3\">\n",
      "<img src=\"//www1.geeknev.com/zt/global/images/blank.gif\" src2=\"//img.pcauto.com.cn/images/upload/upc/tx/auto5/2104/13/c8/260978878_1618294056332_180x135.jpg\" alt=\"雷丁芒果\">\n",
      "<img src=\"//www1.geeknev.com/zt/global/images/blank.gif\" src2=\"//img.pcauto.com.cn/images/upload/upc/tx/auto5/2112/07/c3/286556909_1638841649656_180x135.jpg\" alt=\"雷丁芒果Pro\">\n",
      "<img src=\"//www1.geeknev.com/zt/global/images/blank.gif\" src2=\"//img.pcauto.com.cn/images/upload/upc/tx/auto5/2004/07/c9/201711562_1586246423495.jpg\" alt=\"凌宝汽车\" width=\"78\" height=\"78\">\n",
      "<img src=\"//www1.geeknev.com/zt/global/images/blank.gif\" src2=\"//img.pcauto.com.cn/images/upload/upc/tx/auto5/2103/03/c5/255558560_1614739661335_180x135.jpg\" alt=\"凌宝BOX\">\n",
      "<img src=\"//www1.geeknev.com/zt/global/images/blank.gif\" src2=\"//img.pcauto.com.cn/images/upload/upc/tx/auto5/2104/13/c3/260951014_1618281425823_180x135.jpg\" alt=\"凌宝COCO\">\n",
      "<img src=\"//www1.geeknev.com/zt/global/images/blank.gif\" src2=\"//img.pcauto.com.cn/images/upload/upc/tx/auto5/2205/20/c31/313718479_1653028418520_180x135.jpg\" alt=\"凌宝Uni\">\n",
      "<img src=\"//www1.geeknev.com/zt/global/images/blank.gif\" src2=\"//img.pcauto.com.cn/images/upload/upc/tx/auto5/2208/15/c48/328966239_1660551688229.png\" alt=\"敏安汽车\" width=\"78\" height=\"78\">\n",
      "<img src=\"//www1.geeknev.com/zt/global/images/blank.gif\" src2=\"//img.pcauto.com.cn/images/upload/upc/tx/auto5/2208/15/c54/329000576_1660565179511_180x135.jpg\" alt=\"敏微ET1\">\n",
      "<img src=\"//www1.geeknev.com/zt/global/images/blank.gif\" src2=\"//img.pcauto.com.cn/images/upload/upc/tx/auto5/2103/09/c6/256348399_1615267564057.png\" alt=\"朋克汽车\" width=\"78\" height=\"78\">\n",
      "<img src=\"//www1.geeknev.com/zt/global/images/blank.gif\" src2=\"//img.pcauto.com.cn/images/upload/upc/tx/auto5/2105/26/c21/266218915_1622035978709_180x135.jpg\" alt=\"朋克多多\">\n",
      "<img src=\"//www1.geeknev.com/zt/global/images/blank.gif\" src2=\"//img.pcauto.com.cn/images/upload/upc/tx/auto5/2202/08/c4/296384856_1644286562940_180x135.jpg\" alt=\"朋克美美\">\n",
      "<img src=\"//www1.geeknev.com/zt/global/images/blank.gif\" src2=\"//img.pcauto.com.cn/images/upload/upc/tx/auto5/2109/22/c6/278467860_1632275650234.png\" alt=\"奇瑞新能源\" width=\"78\" height=\"78\">\n",
      "<img src=\"//www1.geeknev.com/zt/global/images/blank.gif\" src2=\"//img.pcauto.com.cn/images/upload/upc/tx/auto5/2112/20/c2/287895264_1639966166911_180x135.jpg\" alt=\"QQ冰淇淋\">\n",
      "<img src=\"//www1.geeknev.com/zt/global/images/blank.gif\" src2=\"//img.pcauto.com.cn/images/upload/upc/tx/auto5/2005/29/c6/210824458_1590725174209.jpg\" alt=\"五菱\" width=\"78\" height=\"78\">\n",
      "<img src=\"//www1.geeknev.com/zt/global/images/blank.gif\" src2=\"//img.pcauto.com.cn/images/upload/upc/tx/auto5/2211/09/c44/341024110_1667995689079_180x135.jpg\" alt=\"宏光MINIEV\">\n",
      "<img src=\"//www1.geeknev.com/zt/global/images/blank.gif\" src2=\"//img.pcauto.com.cn/images/upload/upc/tx/auto5/2111/25/c71/285340842_1637825650813.png\" alt=\"小虎\" width=\"78\" height=\"78\">\n",
      "<img src=\"//www1.geeknev.com/zt/global/images/blank.gif\" src2=\"//img.pcauto.com.cn/images/upload/upc/tx/auto5/2201/25/c29/294153597_1643101543424_180x135.jpg\" alt=\"小虎FEV\">\n"
     ]
    }
   ],
   "source": [
    "# regex = '<img src=\"(.*blank.gif)\"\\s{1}'\n",
    "# regex = '<img src=\".*blank.gif\"\\s{1}#.*>'\n",
    "# regex = '<img.*blank.gif\"\\s{1}#src=\"(.*)\"\\s{1}alt.*>'\n",
    "regex = '<img src=\".*blank.gif\"\\s{1}.*>'  # 将 #src替换为src2进行测试\n",
    "img_lists= re.findall(regex, r1.text.replace('#src', 'src2'))\n",
    "print(len(img_lists))\n",
    "for each in img_lists:\n",
    "    print(each)\n",
    "    # print('https:'+each)\n",
    "# 虽然获取了真实的图片链接, 但是顺序错乱, 品牌图片 + 汽车图片混合起来了"
   ],
   "metadata": {
    "collapsed": false
   }
  },
  {
   "cell_type": "code",
   "execution_count": 90,
   "outputs": [
    {
     "data": {
      "text/plain": "'<!DOCTYPE html>\\n<html lang=\"en\">\\n<head>\\n<meta charset=\"utf-8\" />\\n<title>【电动汽车】新能源汽车价格查询_电动汽车报价大全_皆电GeekNEV</title>\\n<meta name=\"keywords\" content=\"电动汽车，新能源汽车\" />\\n<meta name=\"description\" content=\"皆电GeekNEV提供最新的电动汽车报价大全，包括各大品牌新能源汽车价格、补贴、图片、参配等信息，买新能源电动汽车，就上皆电GeekNEV。\" />\\n<meta name=\"Author\" content=\"yangzhifang_gz none\">\\n<meta http-equiv=\"Cache-Control\" content=\"no-transform \" />\\n<meta content=\"always\" name=\"referrer\">\\n<!--[if IE 6]><script>document.execCommand(\"BackgroundImageCache\", false, true)</script><![endif]-->\\n<link href=\"//ue.3conline.com/geeknev/pc/??/common/m/reset/reset.css,/auto/m/c-color/c-color.css,/auto/m/c-icon/c-icon.css,/auto/m/c-box/c-box.css\" type=\"text/css\" rel=\"stylesheet\" />\\n<link href=\"//ue.3conline.com/geeknev/pc/??/auto/p/xuanche/xuanche.css,/auto/w/backTop/1.0.0/backTop.css,/auto/w/price_filter_slider/1.0.0/price_filter_slider.css,/auto/w/head/1.0.0/head.css\" type=\"text/css\" rel=\"stylesheet\" />\\n</head>\\n<body id=\"Jlazy_load\">\\n<!-- 广告头 -->\\n<script class=\" defer\" src=\"//www.pconline.com.cn/js/ivy.js\"></script>\\n<!-- 计数器 S -->\\n<!-- 计数器-->\\n<script>\\nwindow._common_counter_code_ = \"channel=69\";\\nwindow._common_counter_uuid_ = \"\";\\nwindow._common_counter_from_ = \"\";\\n!(function(){var domain=\".geeknev.com\",reffer=document.referrer,tagName=\"img\";if(!window.PCGPARAM||(window.PCGPARAM&&PCGPARAM.browserType!=\"main\")){if(!!document.cookie.match(/(^|; )referrerUrl=[^;]+/)){reffer=document.cookie.match(/(^|; )referrerUrl=([^;]+)/)[2];document.cookie=\"referrerUrl=;expires=\"+new Date(new Date().getTime()-10000).toGMTString()+\";path=/;domain=\"+domain}tagName=\"script\"}var elem=(document.body.insertBefore(document.createElement(tagName),document.body.firstChild));elem.style.display=\"none\";elem.src=location.protocol+\"//count\"+domain+\"/count.php?\"+(window._common_counter_uuid_?window._common_counter_uuid_:\"\")+_common_counter_code_+\"&screen=\"+screen.width+\"*\"+screen.height+\"&refer=\"+encodeURIComponent(reffer)+\"&anticache=\"+new Date().getTime()+\"&url=\"+encodeURIComponent(location.href)+\"&from=\"+(window._common_counter_from_?window._common_counter_from_:\"\")+\"&gmvshows=\"+(window._common_counter_gmvshows_?window._common_counter_gmvshows_:\"\")+\"&iframeCode=\"+(self===top?0:(top===parent?1:2))})();\\n</script>\\n<!-- 计数器 E -->\\n<!-- 公共头部 S -->\\n<!--顶部-->\\n<!--header--><style type=\"text/css\">/*! /common/w/header/1.0.0/_header.css*/\\r\\ndl,dt,dd,ul,li{margin:0;padding:0}.fl{float:left}.fr{float:right}.clearfix{*zoom:1}.clearfix:after{content:\"\\\\20\";clear:both;height:0;display:block;overflow:hidden}#navibar-nav-total{display:none;position:absolute;top:12px;left:20px;background:#f44;border-radius:5px;width:5px;height:5px}.nb-none{display:none}.navibar{min-width:1200px;text-align:left;position:relative;z-index:555;height:90px;background-color:#fff;color:#666;font:12px/28px \"微软雅黑\",\"宋体\"}.navibar-wap{width:1200px;margin:0 auto;height:90px;position:relative;z-index:11}.navibar-content{width:100%;height:89px;background:#fff;border-bottom:1px solid #fff;border-bottom:1px solid #f2f2f2\\\\9;box-shadow:0 5px 20px rgba(0,0,0,.1)}.navibar-la{float:left;display:inline}.navibar-lb{float:right;display:inline}.navibar a{color:#333}.navibar a:hover{color:#2ca2ed}.navibar-logo{width:198px;height:90px}.navibar-logo-link{width:133px;height:90px;float:left;-webkit-transform-origin:left top;-moz-transform-origin:left top;-ms-transform-origin:left top;transform-origin:left top}.navibar-logo-link img{margin-top:10px}.navibar-fixed .navibar-logo-link{-webkit-transform:scale(.66);-moz-transform:scale(.66);-ms-transform:scale(.66);transform:scale(.66)}.ie_6_7_8.navibar-fixed .navibar-logo-link{width:88px;height:46px;margin-top:6px;background:url(//ueimg.3conline.com/geeknev/pc/common/w/header/1.0.0/img/logo-small.png?__sprite) no-repeat left center}.navibar-nav{font-size:14px;font-size:18px}.navibar-nav-drop{float:left}.navibar-nav-other,.navibar-nav-ctr{height:89px;line-height:89px;float:left}.navibar-nav-ctr,.navibar-nav-other a{margin-right:40px}.navibar-nav-ctr{position:relative;background:#fff;padding-right:20px;cursor:pointer}.navibar-nav-dropico{width:10px;height:6px;position:absolute;right:0;top:50%;margin-top:-3px;background:url(//ueimg.3conline.com/geeknev/pc/common/w/header/1.0.0/img/drop.png?__sprite) no-repeat 0 0;transition:.25s;-moz-transition:.25s;-webkit-transition:.25s;-o-transition:.25s;transform:rotate(0deg);-ms-transform:rotate(0deg);-moz-transform:rotate(0deg);-webkit-transform:rotate(0deg);-o-transform:rotate(0deg)}.navibar-user-load dt:hover .navibar-nav-dropico,.navibar-nav-ctr:hover .navibar-nav-dropico,.navibar-nav-ctr-up .navibar-nav-dropico{transition:.25s;-moz-transition:.25s;-webkit-transition:.25s;-o-transition:.25s;transform:rotate(180deg);-ms-transform:rotate(180deg);-moz-transform:rotate(180deg);-webkit-transform:rotate(180deg);-o-transform:rotate(180deg)}.navibar-drop{width:100%;height:46px;position:absolute;left:0;top:89px;display:none;z-index:10}.navibar-drop-item{width:100%;height:46px;border-top:1px solid #ebebeb;display:none;background:#fff}.navibar-drop-wap{text-align:left;font-size:16px;color:#999;width:1200px;height:45px;margin:0 auto;line-height:45px}.navibar-drop-wap a{color:#999;float:left;margin-right:30px;text-indent:0}.navibar-drop-wap span{display:block;float:left;height:45px}.navibar-drop-wap .w198{width:198px}.navibar-drop-wap .w294{width:294px}.navibar-drop-wap .w390{width:390px}.navibar-search{float:right;margin-top:27px}.navibar-search-form{width:200px;height:36px;background:url(//ueimg.3conline.com/geeknev/pc/common/w/header/1.0.0/img/search-bg.png?__sprite) no-repeat 0 0;float:right}.navibar-search-form input{outline:0}.navibar-search-sub{width:35px;height:36px;float:right;filter:alpha(opacity=0);opacity:0;border:0;cursor:pointer}.navibar-search-input{width:146px;height:36px;line-height:36px;border:0;background:0 0;font-size:14px;padding-left:15px;float:left}.navibar-search-input::-webkit-input-placeholder{color:#757575}.navibar-search-input:-moz-placeholder{color:#757575}.navibar-search-input::-moz-placeholder{color:#757575}.navibar-search-input:-ms-input-placeholder{color:#757575}.navibar-search-gray{color:#757575}.navibar-user{margin-left:20px;display:inline-block;position:relative;min-width:77px;height:90px}.navibar-user-noload{height:90px;line-height:90px;font-size:14px;display:inline-block;*width:77px}.navibar-user-noload a{float:right}.navibar-user-noload span{display:block;width:10px;height:14px;margin:39px 10px 0 0;border-right:1px solid #b9b9b9;float:right}.navibar-user-load{height:90px;display:none;*width:120px}.navibar-user-load dl{float:right;margin-top:34px;position:relative}.navibar-user-load dt{height:26px;padding-right:15px;line-height:26px;cursor:pointer;position:relative}.navibar-user-load dt span{width:26px;height:26px;display:block;float:left;border-radius:26px;overflow:hidden}.navibar-user-load dt i{float:left;padding-left:5px;height:26px;overflow:hidden;font-size:14px}.navibar-user-load dt a{color:#333}.navibar-user-load dd{position:absolute;display:none;top:35px;right:0;padding:10px 20px;line-height:28px;text-align:left;background:#fff;white-space:nowrap;border:1px solid #efefef;box-shadow:0 0 10px #dadada}.navibar-user-load dd a{display:block}.navibar-user-load dd i{display:block;position:absolute;left:50%;top:-10px;margin-left:-6px;width:0;height:0;border-left:10px solid transparent;border-right:10px solid transparent;border-bottom:10px solid #efefef}.navibar-user-load dd em{display:block;position:absolute;left:0;top:2px;margin-left:-10px;width:0;height:0;border-left:10px solid transparent;border-right:10px solid transparent;border-bottom:10px solid #fff}.navibar-user-load dd .red{color:#ff4040}.navibar-user,.navibar-drop-wap span,.navibar-wap,.navibar-logo,.navibar-logo-link,.navibar-nav-other,.navibar-nav-ctr,.navibar-drop,.navibar-user-noload,.navibar-user-load,.navibar-search,.navibar-user-load dl,.navibar-user-noload span,.navibar-content,.navibar-user-noload a{-webkit-transition:all .6s;-moz-transition:all .6s;transition:all .6s}.navibar-fixed .navibar-content{position:fixed;height:59px;box-shadow:none;border-bottom:1px solid #f2f2f2}.navibar-fixed .navibar-wap,.navibar-fixed .navibar-drop-wap{width:99%}.navibar-fixed .navibar-wap{height:60px;min-width:900px}.navibar-fixed .navibar-logo{width:148px;height:59px}.navibar-fixed .navibar-nav-other,.navibar-fixed .navibar-nav-ctr{height:59px;line-height:59px}.navibar-fixed .navibar-user,.navibar-fixed .navibar-user-noload,.navibar-fixed .navibar-user-load{height:59px}.navibar-fixed .navibar-user-noload a{line-height:59px}.navibar-fixed .navibar-drop{top:59px;box-shadow:0 5px 20px rgba(0,0,0,.1)}.navibar-fixed .navibar-user-load dl{margin-top:18px}.navibar-fixed .navibar-search{margin-top:12px}.navibar-fixed .navibar-user-noload span{margin-top:24px}.navibar-fixed .navibar-drop-wap .w198{width:148px}</style>\\r\\n<div class=\"navibar clearfix\" id=\"navibar\">\\r\\n<div class=\"navibar-content\">\\r\\n<div class=\"navibar-wap clearfix\">\\r\\n<div class=\"navibar-la\">\\r\\n<div class=\"navibar-logo fl\"><a href=\"//www.geeknev.com/\" title=\"皆电\" class=\"navibar-logo-link\"><img src=\"//www1.geeknev.com/global/logo/images/h131X70.png\" alt=\"\" /></a></div>\\r\\n<div class=\"navibar-nav fl\">\\r\\n<div class=\"navibar-nav-drop clearfix\">\\r\\n<!-- 一级导航 第一个 S -->\\r\\n<div class=\"navibar-nav-ctr\">\\r\\n<a href=\"//www.geeknev.com/news/\" target=\"_blank\">资讯</a>\\r\\n<i class=\"navibar-nav-dropico\"></i>\\r\\n</div>\\r\\n<!-- 一级导航 第一个 E -->\\r\\n</div>\\r\\n<!-- 其它独立导航 -->\\r\\n<div class=\"navibar-nav-other\">\\r\\n<a href=\"//www.geeknev.com/video/\" target=\"_blank\">视频</a>\\r\\n<a href=\"//auto.geeknev.com/\" target=\"_blank\">选车</a>\\r\\n<a href=\"//auto.geeknev.com/subsidy/\" target=\"_blank\">补贴查询</a>\\r\\n<a href=\"//www.geeknev.com/autox/\" target=\"_blank\">社区</a>\\r\\n</div>\\r\\n</div>\\r\\n</div>\\r\\n<div class=\"navibar-lb\">\\r\\n<div class=\"navibar-user fr\">\\r\\n<div class=\"navibar-user-noload clearfix\">\\r\\n<a href=\"//my.geeknev.com/passport/login.jsp\" target=\"_blank\">注册</a>\\r\\n<span></span>\\r\\n<a href=\"//my.geeknev.com/passport/mobileRegister.jsp\" target=\"_blank\">登录</a>\\r\\n</div>\\r\\n<div class=\"navibar-user-load\">\\r\\n<!-- <dl>\\r\\n<dt>\\r\\n<a href=\"#\" target=\"_blank\">\\r\\n<span><img src=\"//zzb.pcauto.com.cn/tools/img/?26x26\" width=\"26\" height=\"26\" alt=\"\"></span>\\r\\n<i>你的昵称</i>\\r\\n</a>\\r\\n</dt>\\r\\n<dd>\\r\\n<i><em></em></i>\\r\\n<a href=\"#\" target=\"_blank\">个人中心</a>\\r\\n<a href=\"#\" target=\"_blank\">评论回复<span class=\"red\"></span></a>\\r\\n<a href=\"#\" target=\"_blank\">系统通知<span class=\"red\"></span></a>\\r\\n<a href=\"#\" target=\"_blank\">我的收藏</a>\\r\\n<a href=\"#\" target=\"_blank\">退出登录</a>\\r\\n</dd>\\r\\n</dl> -->\\r\\n</div>\\r\\n</div>\\r\\n<div class=\"navibar-search fr\">\\r\\n<div class=\"navibar-search-ico\"></div>\\r\\n<div class=\"navibar-search-form\">\\r\\n<form action=\"//ks.geeknev.com/cms.shtml\" target=\"_blank\">\\r\\n<input type=\"text\" name=\"q\" class=\"navibar-search-input navibar-search-gray\" data-mrc=\"新能源汽车\" value=\"新能源汽车\" placeholder=\"请输入关键词\">\\r\\n<input type=\"submit\" class=\"navibar-search-sub\" value=\"\">\\r\\n</form>\\r\\n</div>\\r\\n</div>\\r\\n</div>\\r\\n</div>\\r\\n<div class=\"navibar-drop\">\\r\\n<!-- 二级导航 第一个 S -->\\r\\n<div class=\"navibar-drop-item\">\\r\\n<div class=\"navibar-drop-wap\">\\r\\n<span class=\"w198\"></span>\\r\\n<a href=\"//www.geeknev.com/news/\" target=\"_blank\">新车</a>\\r\\n<a href=\"//www.geeknev.com/review/\" target=\"_blank\">评测</a>\\r\\n<a href=\"//www.geeknev.com/whybuy/\" target=\"_blank\">导购</a>\\r\\n<a href=\"//www.geeknev.com/dealer/\" target=\"_blank\">车市</a>\\r\\n<a href=\"//www.geeknev.com/carcare/\" target=\"_blank\">用车</a>\\r\\n<a href=\"//www.geeknev.com/tech/\" target=\"_blank\">技术</a>\\r\\n<a href=\"//www.geeknev.com/industry/\" target=\"_blank\">行业</a>\\r\\n<a href=\"//www.geeknev.com/racing/\" target=\"_blank\">赛事</a>\\r\\n</div>\\r\\n</div>\\r\\n<!-- 二级导航 第一个 E -->\\r\\n</div>\\r\\n</div>\\r\\n</div><!--/header-->\\n<div class=\"doc\">\\n<!-- wraper -->\\n<div class=\"wraper\">\\n<div class=\"main\">\\n<!--筛选模块 S  -->\\n<div class=\"modTabA modChoose\" id=\"JchooseNew\">\\n<div class=\"thA\">\\n<span class=\"mark\">选车条件</span>\\n<!--已选条件S  -->\\n<div class=\"select-box\" id=\"J-modChoose-select\">\\n<em class=\"select-c\"><a href=\"/price/\">5万以下<i class=\"select-box-close icon-close_7x7\"></i></a></em>\\n<span class=\"select-clear\"><a href=\"/\"><i class=\"icon-clear_14x12\"></i>清空条件</a></span>\\n</div>\\n<!--已选条件E  -->\\n</div>\\n<div class=\"tbA\">\\n<input id=\"startUrl\" type=\"hidden\" value=\"/price/q\" />\\n<input id=\"endUrl\" type=\"hidden\" value=\".html\"/>\\n<input id=\"ps\" type=\"hidden\" value=\"\" />\\n<input id=\"pe\" type=\"hidden\" value=\"\" />\\n<div class=\"filter unselect\" id=\"priceFilter\">\\n<div class=\"filter-hd\">\\n<span class=\"filter-text\">价格：</span><a href=\"/price/\" class=\"f-price-all current\">不限</a>\\n</div>\\n<div class=\"filter-bar\">\\n<div class=\"filter-bar-bg\"></div>\\n<div class=\"filter-bar-progress\"></div>\\n<i class=\"filter-handle filter-handle-l\"></i>\\n<i class=\"filter-handle filter-handle-r\"></i>\\n<i class=\"filter-label\">价格不限\\n<em class=\"arrow-top\"></em>\\n</i>\\n</div>\\n<div class=\"filter-links\">\\n<span class=\"gray\">热门：</span>\\n<a class=\"tag s\" href=\"/price/q-p1.html\">5万以下</a>\\n<a class=\"tag \" href=\"/price/q-p2.html\">5-8万</a>\\n<a class=\"tag \" href=\"/price/q-p3.html\">8-10万</a>\\n<a class=\"tag \" href=\"/price/q-p4.html\">10-15万</a>\\n<a class=\"tag \" href=\"/price/q-p5.html\">15-20万</a>\\n<a class=\"tag \" href=\"/price/q-p6.html\">20-25万</a>\\n<a class=\"tag \" href=\"/price/q-p7.html\">25-35万</a>\\n<a class=\"tag \" href=\"/price/q-p8.html\">35-50万</a>\\n<a class=\"tag \" href=\"/price/q-p9.html\">50-100万</a>\\n<a class=\"tag \" href=\"/price/q-p10.html\">100万以上</a>\\n</div>\\n</div>\\n<div class=\"getItem jibieselect clearfix\">\\n<div class=\"getTh\">级别：</div>\\n<div class=\"umLimit\">\\n<a class=\\'tag s\\' href=\"/price/q-p1.html\">不限</a>\\n</div>\\n<div class=\"Items\">\\n<span class=\"has-more  has-more-jc \">\\n<i class=\"icon  icon-car-jc\"></i>\\n<a class=\\'\\' href=\"/price/q-p1-k9999.html\">轿车(全部)<em class=\"icon-arr\"></em></a>\\n<div class=\"ulWrap\">\\n<ul>\\n<li class=\"first\">\\n<a class=\"\" href=\"/price/q-p1-k9999.html\"><i>轿车(全部)</i><em></em></a>\\n</li>\\n<li>\\n<a class=\"\" href=\"/price/q-p1-k76.html\">微型车</a>\\n</li>\\n<li>\\n<a class=\"null\" href=\"javascript:void(0)\">小型车</a>\\n</li>\\n<li>\\n<a class=\"null\" href=\"javascript:void(0)\">紧凑型车</a>\\n</li>\\n<li>\\n<a class=\"null\" href=\"javascript:void(0)\">中型车</a>\\n</li>\\n<li>\\n<a class=\"null\" href=\"javascript:void(0)\">中大型车</a>\\n</li>\\n<li>\\n<a class=\"null\" href=\"javascript:void(0)\">大型车</a>\\n</li>\\n</ul>\\n</div>\\n</span>\\n<span class=\"has-more has-more-suv \">\\n<i class=\"icon icon-car-suv\"></i>\\n<a class=\\'null\\' href=\"/price/q-p1-k75.html\">SUV(全部)<em class=\"icon-arr\"></em></a>\\n<div class=\"ulWrap\">\\n<ul>\\n<li class=\"first\">\\n<a class=\"null\" href=\"javascript:void(0)\"><i>SUV(全部)</i><em></em></a>\\n</li>\\n<li>\\n<a class=\"null\" href=\"javascript:void(0)\">小型SUV</a>\\n</li>\\n<li>\\n<a class=\"null\" href=\"javascript:void(0)\">紧凑型SUV</a>\\n</li>\\n<li>\\n<a class=\"null\" href=\"javascript:void(0)\">中型SUV</a>\\n</li>\\n<li>\\n<a class=\"null\" href=\"javascript:void(0)\">中大型SUV</a>\\n</li>\\n<li>\\n<a class=\"null\" href=\"javascript:void(0)\">大型SUV</a>\\n</li>\\n</ul>\\n</div>\\n</span>\\n<a class=\"tag has-more-mpv null\" href=\"javascript:void(0)\">\\n<i class=\"icon icon-car-mpv\"></i>\\nMPV\\n</a>\\n<a class=\"tag has-more-pc null\" href=\"javascript:void(0)\">\\n<i class=\"icon icon-car-pc\"></i>\\n跑车\\n</a>\\n<span class=\"has-more has-more-syc \">\\n<i class=\"icon icon-car-syc\"></i>\\n<a class=\\'null\\' href=\"/price/q-p1-k112.html\">商用车(全部)<em class=\"icon-arr\"></em></a>\\n<div class=\"ulWrap\">\\n<ul>\\n<li class=\"first\">\\n<a class=\"null\" href=\"javascript:void(0)\"><i>商用车(全部)</i><em></em></a>\\n</li>\\n<li>\\n<a class=\"null\" href=\"javascript:void(0)\">微面</a>\\n</li>\\n<li>\\n<a class=\"null\" href=\"javascript:void(0)\">微卡</a>\\n</li>\\n<li>\\n<a class=\"null\" href=\"javascript:void(0)\">轻客</a>\\n</li>\\n<li>\\n<a class=\"null\" href=\"javascript:void(0)\">皮卡</a>\\n</li>\\n</ul>\\n</div>\\n</span>\\n</div>\\n</div>\\n<div class=\"getItem brandItem clearfix\" id=\"pptable\">\\n<div class=\"getTh\">品牌</div>\\n<div class=\"Items Items-pro\" id=\"hotDiv\">\\n<p class=\"clearfix brandLetter\">\\n<!-- 不限 e-->\\n<a class=\\'tag s\\' href=\"/price/q-p1.html\">不限<i class=\"arrow-top\"></i></a>\\n<a class=\"tag  \">A<i class=\"arrow-top\"></i></a>\\n<a class=\"tag  \">B<i class=\"arrow-top\"></i></a>\\n<a class=\"tag  \">C<i class=\"arrow-top\"></i></a>\\n<a class=\"tag  \">D<i class=\"arrow-top\"></i></a>\\n<a class=\"tag  \">F<i class=\"arrow-top\"></i></a>\\n<a class=\"tag  \">G<i class=\"arrow-top\"></i></a>\\n<a class=\"tag  \">H<i class=\"arrow-top\"></i></a>\\n<a class=\"tag  \">J<i class=\"arrow-top\"></i></a>\\n<a class=\"tag  \">K<i class=\"arrow-top\"></i></a>\\n<a class=\"tag  \">L<i class=\"arrow-top\"></i></a>\\n<a class=\"tag  \">M<i class=\"arrow-top\"></i></a>\\n<a class=\"tag  \">N<i class=\"arrow-top\"></i></a>\\n<a class=\"tag  \">O<i class=\"arrow-top\"></i></a>\\n<a class=\"tag  \">P<i class=\"arrow-top\"></i></a>\\n<a class=\"tag  \">Q<i class=\"arrow-top\"></i></a>\\n<a class=\"tag  \">R<i class=\"arrow-top\"></i></a>\\n<a class=\"tag  \">S<i class=\"arrow-top\"></i></a>\\n<a class=\"tag  \">T<i class=\"arrow-top\"></i></a>\\n<a class=\"tag  \">W<i class=\"arrow-top\"></i></a>\\n<a class=\"tag  \">X<i class=\"arrow-top\"></i></a>\\n<a class=\"tag  \">Y<i class=\"arrow-top\"></i></a>\\n<a class=\"tag  \">Z<i class=\"arrow-top\"></i></a>\\n</p>\\n<p class=\"clearfix brandDiv\" style=\"display:  block ;\">\\n<span class=\"gray\">热门：</span>\\n<a href=\"javascript:void(0)\" class=\"tag null\">大众</a>\\n<a href=\"javascript:void(0)\" class=\"tag null\">丰田</a>\\n<a href=\"javascript:void(0)\" class=\"tag null\">福特</a>\\n<a href=\"javascript:void(0)\" class=\"tag null\">现代</a>\\n<a href=\"javascript:void(0)\" class=\"tag null\">本田</a>\\n<a href=\"javascript:void(0)\" class=\"tag null\">日产</a>\\n<a href=\"javascript:void(0)\" class=\"tag null\">别克</a>\\n<a href=\"javascript:void(0)\" class=\"tag null\">奥迪</a>\\n<a href=\"javascript:void(0)\" class=\"tag null\">宝马</a>\\n<a href=\"javascript:void(0)\" class=\"tag null\">奔驰</a>\\n<a href=\"javascript:void(0)\" class=\"tag null\">雪佛兰</a>\\n<a href=\"javascript:void(0)\" class=\"tag null\">起亚</a>\\n<a href=\"javascript:void(0)\" class=\"tag null\">标致</a>\\n<a href=\"/price/q-d124-p1.html\" class=\"tag \">长安汽车</a>\\n<a href=\"javascript:void(0)\" class=\"tag null\">哈弗</a>\\n<a href=\"javascript:void(0)\" class=\"tag null\">比亚迪</a>\\n<a href=\"javascript:void(0)\" class=\"tag null\">Jeep</a>\\n<a href=\"javascript:void(0)\" class=\"tag null\">马自达</a>\\n</p>\\n<p class=\"clearfix brandDiv\" style=\"display:  none ;\">\\n<a href=\"javascript:void(0)\" class=\"tag null\">奥迪</a>\\n<a href=\"javascript:void(0)\" class=\"tag null\">埃安</a>\\n<a href=\"javascript:void(0)\" class=\"tag null\">AITO</a>\\n<a href=\"javascript:void(0)\" class=\"tag null\">ARCFOX极狐</a>\\n<a href=\"javascript:void(0)\" class=\"tag null\">阿尔法·罗密欧</a>\\n<a href=\"javascript:void(0)\" class=\"tag null\">阿维塔</a>\\n<a href=\"javascript:void(0)\" class=\"tag null\">爱驰</a>\\n<a href=\"javascript:void(0)\" class=\"tag null\">安凯客车</a>\\n<a href=\"javascript:void(0)\" class=\"tag null\">艾康尼克</a>\\n</p>\\n<p class=\"clearfix brandDiv\" style=\"display:  none ;\">\\n<a href=\"javascript:void(0)\" class=\"tag null\">本田</a>\\n<a href=\"javascript:void(0)\" class=\"tag null\">比亚迪</a>\\n<a href=\"javascript:void(0)\" class=\"tag null\">奔驰</a>\\n<a href=\"javascript:void(0)\" class=\"tag null\">宝马</a>\\n<a href=\"javascript:void(0)\" class=\"tag null\">别克</a>\\n<a href=\"javascript:void(0)\" class=\"tag null\">宝骏</a>\\n<a href=\"javascript:void(0)\" class=\"tag null\">保时捷</a>\\n<a href=\"javascript:void(0)\" class=\"tag null\">标致</a>\\n<a href=\"javascript:void(0)\" class=\"tag null\">奔腾</a>\\n<a href=\"javascript:void(0)\" class=\"tag null\">宾利</a>\\n<a href=\"javascript:void(0)\" class=\"tag null\">北京汽车</a>\\n<a href=\"/price/q-d122-p1.html\" class=\"tag \">北汽制造</a>\\n<a href=\"javascript:void(0)\" class=\"tag null\">北汽昌河</a>\\n<a href=\"javascript:void(0)\" class=\"tag null\">北汽幻速</a>\\n<a href=\"javascript:void(0)\" class=\"tag null\">宝沃</a>\\n<a href=\"javascript:void(0)\" class=\"tag null\">博速</a>\\n<a href=\"javascript:void(0)\" class=\"tag null\">北汽新能源</a>\\n<a href=\"javascript:void(0)\" class=\"tag null\">北汽瑞翔</a>\\n<a href=\"/price/q-d8383-p1.html\" class=\"tag \">百智新能源</a>\\n<a href=\"/price/q-d7912-p1.html\" class=\"tag \">比德文汽车</a>\\n<a href=\"javascript:void(0)\" class=\"tag null\">北京清行</a>\\n</p>\\n<p class=\"clearfix brandDiv\" style=\"display:  none ;\">\\n<a href=\"/price/q-d124-p1.html\" class=\"tag \">长安汽车</a>\\n<a href=\"javascript:void(0)\" class=\"tag null\">长安欧尚</a>\\n<a href=\"javascript:void(0)\" class=\"tag null\">长城</a>\\n<a href=\"javascript:void(0)\" class=\"tag null\">长安凯程</a>\\n<a href=\"javascript:void(0)\" class=\"tag null\">长安深蓝</a>\\n<a href=\"javascript:void(0)\" class=\"tag null\">成功</a>\\n<a href=\"javascript:void(0)\" class=\"tag null\">长安跨越</a>\\n<a href=\"javascript:void(0)\" class=\"tag null\">创维汽车</a>\\n<a href=\"javascript:void(0)\" class=\"tag null\">橙仕</a>\\n<a href=\"javascript:void(0)\" class=\"tag null\">长江EV</a>\\n</p>\\n<p class=\"clearfix brandDiv\" style=\"display:  none ;\">\\n<a href=\"javascript:void(0)\" class=\"tag null\">大众</a>\\n<a href=\"javascript:void(0)\" class=\"tag null\">东风风行</a>\\n<a href=\"javascript:void(0)\" class=\"tag null\">东风日产 启辰</a>\\n<a href=\"javascript:void(0)\" class=\"tag null\">东风风神</a>\\n<a href=\"/price/q-d1139-p1.html\" class=\"tag \">东风风光</a>\\n<a href=\"javascript:void(0)\" class=\"tag null\">东风小康</a>\\n<a href=\"javascript:void(0)\" class=\"tag null\">东风</a>\\n<a href=\"javascript:void(0)\" class=\"tag null\">东南</a>\\n<a href=\"javascript:void(0)\" class=\"tag null\">DS</a>\\n<a href=\"javascript:void(0)\" class=\"tag null\">东风EV新能源</a>\\n<a href=\"javascript:void(0)\" class=\"tag null\">电动屋</a>\\n<a href=\"javascript:void(0)\" class=\"tag null\">大运</a>\\n<a href=\"javascript:void(0)\" class=\"tag null\">东风富康</a>\\n<a href=\"javascript:void(0)\" class=\"tag null\">大乘汽车</a>\\n<a href=\"javascript:void(0)\" class=\"tag null\">电咖</a>\\n<a href=\"javascript:void(0)\" class=\"tag null\">东风·瑞泰特</a>\\n</p>\\n<p class=\"clearfix brandDiv\" style=\"display:  none ;\">\\n<a href=\"javascript:void(0)\" class=\"tag null\">丰田</a>\\n<a href=\"javascript:void(0)\" class=\"tag null\">福特</a>\\n<a href=\"javascript:void(0)\" class=\"tag null\">法拉利</a>\\n<a href=\"javascript:void(0)\" class=\"tag null\">福田</a>\\n<a href=\"javascript:void(0)\" class=\"tag null\">飞凡汽车</a>\\n<a href=\"javascript:void(0)\" class=\"tag null\">飞碟汽车</a>\\n</p>\\n<p class=\"clearfix brandDiv\" style=\"display:  none ;\">\\n<a href=\"javascript:void(0)\" class=\"tag null\">广汽传祺</a>\\n<a href=\"javascript:void(0)\" class=\"tag null\">观致</a>\\n<a href=\"javascript:void(0)\" class=\"tag null\">高合汽车</a>\\n<a href=\"javascript:void(0)\" class=\"tag null\">广汽集团</a>\\n<a href=\"javascript:void(0)\" class=\"tag null\">GMC</a>\\n<a href=\"javascript:void(0)\" class=\"tag null\">国机智骏</a>\\n<a href=\"javascript:void(0)\" class=\"tag null\">国金汽车</a>\\n<a href=\"javascript:void(0)\" class=\"tag null\">国吉商用车</a>\\n</p>\\n<p class=\"clearfix brandDiv\" style=\"display:  none ;\">\\n<a href=\"javascript:void(0)\" class=\"tag null\">哈弗</a>\\n<a href=\"javascript:void(0)\" class=\"tag null\">红旗</a>\\n<a href=\"javascript:void(0)\" class=\"tag null\">海马</a>\\n<a href=\"javascript:void(0)\" class=\"tag null\">合创汽车</a>\\n<a href=\"javascript:void(0)\" class=\"tag null\">汉腾</a>\\n<a href=\"javascript:void(0)\" class=\"tag null\">黄海</a>\\n<a href=\"javascript:void(0)\" class=\"tag null\">华泰</a>\\n<a href=\"javascript:void(0)\" class=\"tag null\">恒驰</a>\\n<a href=\"javascript:void(0)\" class=\"tag null\">海马新能源</a>\\n<a href=\"/price/q-d8673-p1.html\" class=\"tag \">华梓汽车</a>\\n<a href=\"/price/q-d8493-p1.html\" class=\"tag \">华晨新日</a>\\n<a href=\"javascript:void(0)\" class=\"tag null\">海格</a>\\n<a href=\"javascript:void(0)\" class=\"tag null\">华泰新能源</a>\\n<a href=\"javascript:void(0)\" class=\"tag null\">恒润汽车</a>\\n<a href=\"javascript:void(0)\" class=\"tag null\">红星</a>\\n<a href=\"javascript:void(0)\" class=\"tag null\">华骐</a>\\n</p>\\n<p class=\"clearfix brandDiv\" style=\"display:  none ;\">\\n<a href=\"javascript:void(0)\" class=\"tag null\">吉利汽车</a>\\n<a href=\"javascript:void(0)\" class=\"tag null\">捷途</a>\\n<a href=\"javascript:void(0)\" class=\"tag null\">Jeep</a>\\n<a href=\"javascript:void(0)\" class=\"tag null\">江淮</a>\\n<a href=\"javascript:void(0)\" class=\"tag null\">捷豹</a>\\n<a href=\"javascript:void(0)\" class=\"tag null\">江铃</a>\\n<a href=\"javascript:void(0)\" class=\"tag null\">金杯</a>\\n<a href=\"javascript:void(0)\" class=\"tag null\">极氪</a>\\n<a href=\"javascript:void(0)\" class=\"tag null\">几何汽车</a>\\n<a href=\"javascript:void(0)\" class=\"tag null\">捷尼赛思</a>\\n<a href=\"javascript:void(0)\" class=\"tag null\">江铃集团新能源</a>\\n<a href=\"javascript:void(0)\" class=\"tag null\">金龙汽车</a>\\n<a href=\"javascript:void(0)\" class=\"tag null\">九龙</a>\\n<a href=\"javascript:void(0)\" class=\"tag null\">集度</a>\\n<a href=\"javascript:void(0)\" class=\"tag null\">金旅</a>\\n<a href=\"javascript:void(0)\" class=\"tag null\">金杯新能源</a>\\n</p>\\n<p class=\"clearfix brandDiv\" style=\"display:  none ;\">\\n<a href=\"javascript:void(0)\" class=\"tag null\">凯迪拉克</a>\\n<a href=\"javascript:void(0)\" class=\"tag null\">开瑞</a>\\n<a href=\"javascript:void(0)\" class=\"tag null\">凯翼</a>\\n<a href=\"javascript:void(0)\" class=\"tag null\">克莱斯勒</a>\\n<a href=\"javascript:void(0)\" class=\"tag null\">科尼赛克</a>\\n<a href=\"javascript:void(0)\" class=\"tag null\">卡威汽车</a>\\n<a href=\"javascript:void(0)\" class=\"tag null\">全球鹰</a>\\n<a href=\"javascript:void(0)\" class=\"tag null\">开沃汽车</a>\\n<a href=\"javascript:void(0)\" class=\"tag null\">KARMA</a>\\n</p>\\n<p class=\"clearfix brandDiv\" style=\"display:  none ;\">\\n<a href=\"javascript:void(0)\" class=\"tag null\">雷克萨斯</a>\\n<a href=\"javascript:void(0)\" class=\"tag null\">路虎</a>\\n<a href=\"javascript:void(0)\" class=\"tag null\">林肯</a>\\n<a href=\"javascript:void(0)\" class=\"tag null\">领克</a>\\n<a href=\"javascript:void(0)\" class=\"tag null\">劳斯莱斯</a>\\n<a href=\"javascript:void(0)\" class=\"tag null\">理想汽车</a>\\n<a href=\"javascript:void(0)\" class=\"tag null\">零跑汽车</a>\\n<a href=\"javascript:void(0)\" class=\"tag null\">岚图汽车</a>\\n<a href=\"/price/q-d1022-p1.html\" class=\"tag \">雷丁</a>\\n<a href=\"javascript:void(0)\" class=\"tag null\">猎豹汽车</a>\\n<a href=\"javascript:void(0)\" class=\"tag null\">雷诺</a>\\n<a href=\"javascript:void(0)\" class=\"tag null\">路特斯</a>\\n<a href=\"javascript:void(0)\" class=\"tag null\">力帆</a>\\n<a href=\"/price/q-d8133-p1.html\" class=\"tag \">凌宝汽车</a>\\n<a href=\"javascript:void(0)\" class=\"tag null\">理念</a>\\n<a href=\"javascript:void(0)\" class=\"tag null\">陆地方舟</a>\\n<a href=\"javascript:void(0)\" class=\"tag null\">雷达汽车</a>\\n<a href=\"javascript:void(0)\" class=\"tag null\">LEVC</a>\\n<a href=\"javascript:void(0)\" class=\"tag null\">LITE</a>\\n<a href=\"javascript:void(0)\" class=\"tag null\">领途</a>\\n</p>\\n<p class=\"clearfix brandDiv\" style=\"display:  none ;\">\\n<a href=\"javascript:void(0)\" class=\"tag null\">马自达</a>\\n<a href=\"javascript:void(0)\" class=\"tag null\">MG名爵</a>\\n<a href=\"javascript:void(0)\" class=\"tag null\">MINI</a>\\n<a href=\"javascript:void(0)\" class=\"tag null\">玛莎拉蒂</a>\\n<a href=\"javascript:void(0)\" class=\"tag null\">迈凯伦</a>\\n<a href=\"javascript:void(0)\" class=\"tag null\">摩登汽车</a>\\n<a href=\"/price/q-d8623-p1.html\" class=\"tag \">敏安汽车</a>\\n<a href=\"javascript:void(0)\" class=\"tag null\">明君华凯</a>\\n</p>\\n<p class=\"clearfix brandDiv\" style=\"display:  none ;\">\\n<a href=\"javascript:void(0)\" class=\"tag null\">哪吒汽车</a>\\n</p>\\n<p class=\"clearfix brandDiv\" style=\"display:  none ;\">\\n<a href=\"javascript:void(0)\" class=\"tag null\">欧拉</a>\\n<a href=\"javascript:void(0)\" class=\"tag null\">讴歌</a>\\n<a href=\"javascript:void(0)\" class=\"tag null\">欧宝</a>\\n</p>\\n<p class=\"clearfix brandDiv\" style=\"display:  none ;\">\\n<a href=\"javascript:void(0)\" class=\"tag null\">Polestar极星</a>\\n<a href=\"/price/q-d8273-p1.html\" class=\"tag \">朋克汽车</a>\\n</p>\\n<p class=\"clearfix brandDiv\" style=\"display:  none ;\">\\n<a href=\"javascript:void(0)\" class=\"tag null\">奇瑞</a>\\n<a href=\"javascript:void(0)\" class=\"tag null\">起亚</a>\\n<a href=\"/price/q-d8353-p1.html\" class=\"tag \">奇瑞新能源</a>\\n<a href=\"javascript:void(0)\" class=\"tag null\">前途</a>\\n</p>\\n<p class=\"clearfix brandDiv\" style=\"display:  none ;\">\\n<a href=\"javascript:void(0)\" class=\"tag null\">日产</a>\\n<a href=\"javascript:void(0)\" class=\"tag null\">荣威</a>\\n<a href=\"javascript:void(0)\" class=\"tag null\">瑞风汽车</a>\\n<a href=\"javascript:void(0)\" class=\"tag null\">睿蓝汽车</a>\\n<a href=\"javascript:void(0)\" class=\"tag null\">瑞麒</a>\\n<a href=\"javascript:void(0)\" class=\"tag null\">瑞驰新能源</a>\\n<a href=\"javascript:void(0)\" class=\"tag null\">容大智造</a>\\n</p>\\n<p class=\"clearfix brandDiv\" style=\"display:  none ;\">\\n<a href=\"javascript:void(0)\" class=\"tag null\">上汽大通MAXUS</a>\\n<a href=\"javascript:void(0)\" class=\"tag null\">斯柯达</a>\\n<a href=\"javascript:void(0)\" class=\"tag null\">三菱</a>\\n<a href=\"javascript:void(0)\" class=\"tag null\">斯巴鲁</a>\\n<a href=\"javascript:void(0)\" class=\"tag null\">思皓</a>\\n<a href=\"javascript:void(0)\" class=\"tag null\">smart</a>\\n<a href=\"javascript:void(0)\" class=\"tag null\">SWM斯威汽车</a>\\n<a href=\"javascript:void(0)\" class=\"tag null\">思铭</a>\\n<a href=\"javascript:void(0)\" class=\"tag null\">SONGSAN MOTORS</a>\\n<a href=\"javascript:void(0)\" class=\"tag null\">SERES赛力斯</a>\\n<a href=\"javascript:void(0)\" class=\"tag null\">沙龙汽车</a>\\n<a href=\"javascript:void(0)\" class=\"tag null\">速达</a>\\n<a href=\"javascript:void(0)\" class=\"tag null\">赛麟</a>\\n<a href=\"javascript:void(0)\" class=\"tag null\">陕汽通家</a>\\n<a href=\"javascript:void(0)\" class=\"tag null\">神州</a>\\n</p>\\n<p class=\"clearfix brandDiv\" style=\"display:  none ;\">\\n<a href=\"javascript:void(0)\" class=\"tag null\">特斯拉</a>\\n<a href=\"javascript:void(0)\" class=\"tag null\">坦克</a>\\n<a href=\"javascript:void(0)\" class=\"tag null\">腾势</a>\\n<a href=\"javascript:void(0)\" class=\"tag null\">天际</a>\\n<a href=\"javascript:void(0)\" class=\"tag null\">泰卡特</a>\\n</p>\\n<p class=\"clearfix brandDiv\" style=\"display:  none ;\">\\n<a href=\"/price/q-d118-p1.html\" class=\"tag \">五菱</a>\\n<a href=\"javascript:void(0)\" class=\"tag null\">沃尔沃</a>\\n<a href=\"javascript:void(0)\" class=\"tag null\">蔚来</a>\\n<a href=\"javascript:void(0)\" class=\"tag null\">五十铃</a>\\n<a href=\"javascript:void(0)\" class=\"tag null\">魏牌</a>\\n<a href=\"javascript:void(0)\" class=\"tag null\">威马汽车</a>\\n<a href=\"javascript:void(0)\" class=\"tag null\">万象汽车</a>\\n</p>\\n<p class=\"clearfix brandDiv\" style=\"display:  none ;\">\\n<a href=\"javascript:void(0)\" class=\"tag null\">现代</a>\\n<a href=\"javascript:void(0)\" class=\"tag null\">雪佛兰</a>\\n<a href=\"javascript:void(0)\" class=\"tag null\">雪铁龙</a>\\n<a href=\"javascript:void(0)\" class=\"tag null\">小鹏</a>\\n<a href=\"javascript:void(0)\" class=\"tag null\">星途</a>\\n<a href=\"javascript:void(0)\" class=\"tag null\">SRM鑫源</a>\\n<a href=\"javascript:void(0)\" class=\"tag null\">新龙马汽车</a>\\n<a href=\"/price/q-d8284-p1.html\" class=\"tag \">小虎</a>\\n<a href=\"javascript:void(0)\" class=\"tag null\">小跑车</a>\\n<a href=\"javascript:void(0)\" class=\"tag null\">新吉奥</a>\\n<a href=\"javascript:void(0)\" class=\"tag null\">新特</a>\\n</p>\\n<p class=\"clearfix brandDiv\" style=\"display:  none ;\">\\n<a href=\"javascript:void(0)\" class=\"tag null\">英菲尼迪</a>\\n<a href=\"javascript:void(0)\" class=\"tag null\">依维柯</a>\\n<a href=\"javascript:void(0)\" class=\"tag null\">一汽</a>\\n<a href=\"javascript:void(0)\" class=\"tag null\">野马汽车</a>\\n<a href=\"javascript:void(0)\" class=\"tag null\">云度新能源</a>\\n<a href=\"javascript:void(0)\" class=\"tag null\">远程汽车</a>\\n<a href=\"javascript:void(0)\" class=\"tag null\">御捷</a>\\n<a href=\"javascript:void(0)\" class=\"tag null\">英致</a>\\n<a href=\"javascript:void(0)\" class=\"tag null\">延龙汽车</a>\\n<a href=\"javascript:void(0)\" class=\"tag null\">裕路</a>\\n</p>\\n<p class=\"clearfix brandDiv\" style=\"display:  none ;\">\\n<a href=\"javascript:void(0)\" class=\"tag null\">众泰</a>\\n<a href=\"javascript:void(0)\" class=\"tag null\">中华</a>\\n<a href=\"javascript:void(0)\" class=\"tag null\">智己汽车</a>\\n<a href=\"javascript:void(0)\" class=\"tag null\">知豆</a>\\n<a href=\"javascript:void(0)\" class=\"tag null\">自游家</a>\\n<a href=\"javascript:void(0)\" class=\"tag null\">智点汽车</a>\\n<a href=\"javascript:void(0)\" class=\"tag null\">之诺</a>\\n</p>\\n</div>\\n</div>\\n<div class=\"getItem  clearfix\">\\n<div class=\"getTh\">类型:</div>\\n<div class=\"umLimit\">\\n<a class=\\'tag s\\' href=\"/price/q-p1.html\">不限</a>\\n</div>\\n<div class=\"Items  xh-Items\">\\n<a href=\"/price/q-p1-qm3.html\" class=\"tag \">\\n<i class=\"icon icon-lx-cdd \"></i>\\n纯电动\\n</a>\\n<a href=\"javascript:void(0)\" class=\"tag null\">\\n<i class=\"icon icon-lx-fcd null\"></i>\\n非插电\\n</a>\\n<a href=\"javascript:void(0)\" class=\"tag null\">\\n<i class=\"icon icon-lx-cds null\"></i>\\n插电式\\n</a>\\n<a href=\"javascript:void(0)\" class=\"tag null\">\\n<i class=\"icon icon-lx-zcs null\"></i>\\n增程式\\n</a>\\n</div>\\n</div>\\n<div class=\"getItem  clearfix bb0\">\\n<div class=\"getTh\">续航</div>\\n<div class=\"umLimit\">\\n<a class=\\'tag s\\' href=\"/price/q-p1.html\">不限</a>\\n</div>\\n<div class=\"Items xh-Items\">\\n<a href=\"/price/q-p1-dc1.html\" class=\"tag \">\\n<i class=\"icon icon icon-100gl \"></i>\\n100公里以下\\n</a>\\n<a href=\"/price/q-p1-dc2.html\" class=\"tag \">\\n<i class=\"icon icon icon-100-200gl \"></i>\\n100-200公里\\n</a>\\n<a href=\"/price/q-p1-dc3.html\" class=\"tag \">\\n<i class=\"icon icon icon-200-300gl \"></i>\\n200-300公里\\n</a>\\n<a href=\"javascript:void(0)\" class=\"tag null\">\\n<i class=\"icon icon icon-300-400gl null\"></i>\\n300-400公里\\n</a>\\n<a href=\"javascript:void(0)\" class=\"tag null\">\\n<i class=\"icon icon icon-400gl null\"></i>\\n400公里以上\\n</a>\\n</div>\\n</div>\\n</div>\\n</div>\\n<!--已选条件S  -->\\n<div class=\"select-banner-wrap indexSeBanner\" id=\"JselectBanner\">\\n<div class=\"select-banner-inner\">\\n<div class=\"banner\">\\n<div class=\"select-banner clearfix\">\\n<span class=\"tit\">\\n已选条件：\\n</span>\\n<div class=\"select-box\" id=\"J-modChoose-select\">\\n<em class=\"select-c\"><a href=\"/price/\">5万以下<i class=\"select-box-close icon-close_7x7\"></i></a></em>\\n<span class=\"select-clear\"><a href=\"/\"><i class=\"clear_14x12\"></i>清空条件</a></span>\\n</div>\\n</div>\\n</div>\\n</div>\\n</div>\\n<!--已选条件E  -->\\n<!--筛选模块 E  -->\\n<!-- 品牌S  -->\\n<!--选择品牌模块 S  -->\\n<div class=\"brand-select\">\\n<div class=\"bsTop\">\\n<span class=\"mark\">\\n<em>按品牌</em>\\n<i>共有<em>21</em>个车系符合条件</i>\\n</span>\\n</div>\\n<div class=\"header-nav-b\" id=\"Jnav\">\\n<dl>\\n<dt>字母：</dt>\\n<dd class=\"zm\" id=\"Jtag\">\\n<a href=\"javascript:void(0);\" class=\"cur\">推荐</a>\\n<a href=\"#B\">B</a>\\n<a href=\"#C\">C</a>\\n<a href=\"#D\">D</a>\\n<a href=\"#H\">H</a>\\n<a href=\"#L\">L</a>\\n<a href=\"#M\">M</a>\\n<a href=\"#P\">P</a>\\n<a href=\"#Q\">Q</a>\\n<a href=\"#W\">W</a>\\n<a href=\"#X\">X</a>\\n</dd>\\n</dl>\\n<dl id=\"JbrandElements\">\\n<dt>品牌：</dt>\\n<dd class=\"hide\">\\n\\n<a class=\"gray\">大众</a>\\n\\n<a class=\"gray\">丰田</a>\\n\\n<a class=\"gray\">福特</a>\\n\\n<a class=\"gray\">现代</a>\\n\\n<a class=\"gray\">本田</a>\\n\\n<a class=\"gray\">日产</a>\\n\\n<a class=\"gray\">别克</a>\\n\\n<a class=\"gray\">奥迪</a>\\n\\n<a class=\"gray\">宝马</a>\\n\\n<a class=\"gray\">奔驰</a>\\n\\n<a class=\"gray\">雪佛兰</a>\\n\\n<a class=\"gray\">起亚</a>\\n\\n<a class=\"gray\">标致</a>\\n\\n\\n<a href=\"#124\">长安汽车</a>\\n\\n<a class=\"gray\">哈弗</a>\\n\\n<a class=\"gray\">比亚迪</a>\\n\\n<a class=\"gray\">Jeep</a>\\n\\n<a class=\"gray\">马自达</a>\\n</dd>\\n<dd class=\"hide\">\\n<a href=\"#8383\">百智新能源</a>\\n<a href=\"#122\">北汽制造</a>\\n<a href=\"#7912\">比德文汽车</a>\\n</dd>\\n<dd class=\"hide\">\\n<a href=\"#124\">长安汽车</a>\\n</dd>\\n<dd class=\"hide\">\\n<a href=\"#1139\">东风风光</a>\\n</dd>\\n<dd class=\"hide\">\\n<a href=\"#8493\">华晨新日</a>\\n<a href=\"#8673\">华梓汽车</a>\\n</dd>\\n<dd class=\"hide\">\\n<a href=\"#8133\">凌宝汽车</a>\\n<a href=\"#1022\">雷丁</a>\\n</dd>\\n<dd class=\"hide\">\\n<a href=\"#8623\">敏安汽车</a>\\n</dd>\\n<dd class=\"hide\">\\n<a href=\"#8273\">朋克汽车</a>\\n</dd>\\n<dd class=\"hide\">\\n<a href=\"#8353\">奇瑞新能源</a>\\n</dd>\\n<dd class=\"hide\">\\n<a href=\"#118\">五菱</a>\\n</dd>\\n<dd class=\"hide\">\\n<a href=\"#8284\">小虎</a>\\n</dd>\\n</dl>\\n</div>\\n</div>\\n<!--选择品牌模块 E  -->\\n<!--车型 S  -->\\n<div class=\"indexList\">\\n<div class=\"content braContent\">\\n<div class=\"braRow\">\\n<div class=\"braRow-iconTag\">B<i class=\"dPos\"><a id=\"B\"></a></i></div>\\n<div class=\"braRow-inner clearfix\">\\n<div class=\"braRow-l\">\\n<div class=\"braRow-icon\">\\n<em class=\"aPic\">\\n<span>\\n<img src=\"//www1.geeknev.com/zt/global/images/blank.gif\" #src=\"//img.pcauto.com.cn/images/upload/upc/tx/auto5/2206/29/c1/321335360_1656467070816.png\" alt=\"北汽制造\" width=\"78\" height=\"78\">\\n</span>\\n<p>北汽制造</p>\\n</em>\\n</div>\\n</div>\\n<div class=\"braRow-r listC\">\\n<div class=\"modA noBorder\">\\n<div class=\"thA\">\\n北京汽车制造厂\\n<i class=\"iPos\"><a id=\"122\"></a></i>\\n</div>\\n<div class=\"tbA mt10 noBorder\">\\n<p class=\"stit\">轿车（共2款）</p>\\n<ul class=\"picList clearfix\">\\n\\n<li>\\n<a href=\"/sg28594/\" target=\"_blank\">\\n<img src=\"//www1.geeknev.com/zt/global/images/blank.gif\" #src=\"//img.pcauto.com.cn/images/upload/upc/tx/auto5/2206/29/c1/321333969_1656466808676_180x135.jpg\" alt=\"元宝\">\\n<p class=\"date\"></p>\\n</a>\\n<p class=\"tit\"><a href=\"/sg28594/\" target=\"_blank\" title=\"元宝\">元宝</a></p>\\n<p class=\"price\" name=\"price\">\\n<span class=\"price\" name=\"price\" id=\"price_{{serialGroup.id}}\" >4.19-5.19万</span>\\n</p>\\n</li>\\n\\n<li>\\n<a href=\"/sg28031/\" target=\"_blank\">\\n<img src=\"//www1.geeknev.com/zt/global/images/blank.gif\" #src=\"//img.pcauto.com.cn/images/upload/upc/tx/auto5/2204/01/c12/305262986_1648801466267_180x135.jpg\" alt=\"北汽小猫\">\\n<p class=\"date\"></p>\\n</a>\\n<p class=\"tit\"><a href=\"/sg28031/\" target=\"_blank\" title=\"北汽小猫\">北汽小猫</a></p>\\n<p class=\"price\" name=\"price\">\\n<span class=\"price\" name=\"price\" id=\"price_{{serialGroup.id}}\" >3.98万</span>\\n</p>\\n</li>\\n</ul>\\n</div>\\n</div>\\n</div>\\n</div>\\n</div>\\n\\n<div class=\"braRow\">\\n\\n<div class=\"braRow-inner clearfix\">\\n<div class=\"braRow-l\">\\n<div class=\"braRow-icon\">\\n<em class=\"aPic\">\\n<span>\\n<img src=\"//www1.geeknev.com/zt/global/images/blank.gif\" #src=\"//img.pcauto.com.cn/images/upload/upc/tx/auto5/2109/16/c0/277817295_1631755297450.png\" alt=\"百智新能源\" width=\"78\" height=\"78\">\\n</span>\\n<p>百智新能源</p>\\n</em>\\n</div>\\n</div>\\n<div class=\"braRow-r listC\">\\n<div class=\"modA noBorder\">\\n<div class=\"thA\">\\n领途汽车\\n<i class=\"iPos\"><a id=\"8383\"></a></i>\\n</div>\\n<div class=\"tbA mt10 noBorder\">\\n<p class=\"stit\">轿车（共1款）</p>\\n<ul class=\"picList clearfix\">\\n\\n<li>\\n<a href=\"/sg28033/\" target=\"_blank\">\\n<img src=\"//www1.geeknev.com/zt/global/images/blank.gif\" #src=\"//img.pcauto.com.cn/images/upload/upc/tx/auto5/2201/21/c17/293170424_1642737186657_180x135.jpg\" alt=\"百智大熊\">\\n<p class=\"date\"></p>\\n</a>\\n<p class=\"tit\"><a href=\"/sg28033/\" target=\"_blank\" title=\"百智大熊\">百智大熊</a></p>\\n<p class=\"price\" name=\"price\">\\n<span class=\"price\" name=\"price\" id=\"price_{{serialGroup.id}}\" >3.88-5.88万</span>\\n</p>\\n</li>\\n</ul>\\n</div>\\n</div>\\n</div>\\n</div>\\n</div>\\n\\n<div class=\"braRow\">\\n\\n<div class=\"braRow-inner clearfix\">\\n<div class=\"braRow-l\">\\n<div class=\"braRow-icon\">\\n<em class=\"aPic\">\\n<span>\\n<img src=\"//www1.geeknev.com/zt/global/images/blank.gif\" #src=\"//img.pcauto.com.cn/images/upload/upc/tx/auto5/1909/02/c26/167291329_1567414885373.jpg\" alt=\"比德文汽车\" width=\"78\" height=\"78\">\\n</span>\\n<p>比德文汽车</p>\\n</em>\\n</div>\\n</div>\\n<div class=\"braRow-r listC\">\\n<div class=\"modA noBorder\">\\n<div class=\"thA\">\\n比德文汽车\\n<i class=\"iPos\"><a id=\"7912\"></a></i>\\n</div>\\n<div class=\"tbA mt10 noBorder\">\\n<p class=\"stit\">轿车（共1款）</p>\\n<ul class=\"picList clearfix\">\\n\\n<li>\\n<a href=\"/sg25299/\" target=\"_blank\">\\n<img src=\"//www1.geeknev.com/zt/global/images/blank.gif\" #src=\"//img.pcauto.com.cn/images/upload/upc/tx/auto5/2102/22/c4/254373725_1613980903334_180x135.jpg\" alt=\"比德文E3\">\\n<p class=\"date\"></p>\\n</a>\\n<p class=\"tit\"><a href=\"/sg25299/\" target=\"_blank\" title=\"比德文E3\">比德文E3</a></p>\\n<p class=\"price\" name=\"price\">\\n<span class=\"price\" name=\"price\" id=\"price_{{serialGroup.id}}\" >4.98-6.28万</span>\\n</p>\\n</li>\\n</ul>\\n</div>\\n</div>\\n</div>\\n</div>\\n</div>\\n\\n<div class=\"braRow\">\\n<div class=\"braRow-iconTag\">C<i class=\"dPos\"><a id=\"C\"></a></i></div>\\n<div class=\"braRow-inner clearfix\">\\n<div class=\"braRow-l\">\\n<div class=\"braRow-icon\">\\n<em class=\"aPic\">\\n<span>\\n<img src=\"//www1.geeknev.com/zt/global/images/blank.gif\" #src=\"//img.pcauto.com.cn/images/upload/upc/tx/auto5/2009/30/c22/233249884_1601435407958.png\" alt=\"长安汽车\" width=\"78\" height=\"78\">\\n</span>\\n<p>长安汽车</p>\\n</em>\\n</div>\\n</div>\\n<div class=\"braRow-r listC\">\\n<div class=\"modA noBorder\">\\n<div class=\"thA\">\\n长安汽车\\n<i class=\"iPos\"><a id=\"124\"></a></i>\\n</div>\\n<div class=\"tbA mt10 noBorder\">\\n<p class=\"stit\">轿车（共1款）</p>\\n<ul class=\"picList clearfix\">\\n\\n<li>\\n<a href=\"/sg28707/\" target=\"_blank\">\\n<img src=\"//www1.geeknev.com/zt/global/images/blank.gif\" #src=\"//img.pcauto.com.cn/images/upload/upc/tx/auto5/2203/17/c42/302630920_1647526627110_180x135.jpg\" alt=\"长安Lumin\">\\n<p class=\"date\"></p>\\n</a>\\n<p class=\"tit\"><a href=\"/sg28707/\" target=\"_blank\" title=\"长安Lumin\">长安Lumin</a></p>\\n<p class=\"price\" name=\"price\">\\n<span class=\"price\" name=\"price\" id=\"price_{{serialGroup.id}}\" >4.89-6.39万</span>\\n</p>\\n</li>\\n</ul>\\n</div>\\n</div>\\n</div>\\n</div>\\n</div>\\n\\n<div class=\"braRow\">\\n<div class=\"braRow-iconTag\">D<i class=\"dPos\"><a id=\"D\"></a></i></div>\\n<div class=\"braRow-inner clearfix\">\\n<div class=\"braRow-l\">\\n<div class=\"braRow-icon\">\\n<em class=\"aPic\">\\n<span>\\n<img src=\"//www1.geeknev.com/zt/global/images/blank.gif\" #src=\"//img.pcauto.com.cn/images/upload/upc/tx/auto5/1603/04/c17/18855458_1457064072545_96x96.jpg\" alt=\"东风风光\" width=\"78\" height=\"78\">\\n</span>\\n<p>东风风光</p>\\n</em>\\n</div>\\n</div>\\n<div class=\"braRow-r listC\">\\n<div class=\"modA noBorder\">\\n<div class=\"thA\">\\n东风小康\\n<i class=\"iPos\"><a id=\"1139\"></a></i>\\n</div>\\n<div class=\"tbA mt10 noBorder\">\\n<p class=\"stit\">轿车（共1款）</p>\\n<ul class=\"picList clearfix\">\\n\\n<li>\\n<a href=\"/sg28598/\" target=\"_blank\">\\n<img src=\"//www1.geeknev.com/zt/global/images/blank.gif\" #src=\"//img.pcauto.com.cn/images/upload/upc/tx/auto5/2202/10/c3/296793704_1644476462447_180x135.jpg\" alt=\"风光MINIEV\">\\n<p class=\"date\"></p>\\n</a>\\n<p class=\"tit\"><a href=\"/sg28598/\" target=\"_blank\" title=\"风光MINIEV\">风光MINIEV</a></p>\\n<p class=\"price\" name=\"price\">\\n<span class=\"price\" name=\"price\" id=\"price_{{serialGroup.id}}\" >3.26-5.91万</span>\\n</p>\\n</li>\\n</ul>\\n</div>\\n</div>\\n</div>\\n</div>\\n</div>\\n\\n<div class=\"braRow\">\\n<div class=\"braRow-iconTag\">H<i class=\"dPos\"><a id=\"H\"></a></i></div>\\n<div class=\"braRow-inner clearfix\">\\n<div class=\"braRow-l\">\\n<div class=\"braRow-icon\">\\n<em class=\"aPic\">\\n<span>\\n<img src=\"//www1.geeknev.com/zt/global/images/blank.gif\" #src=\"//img.pcauto.com.cn/images/upload/upc/tx/auto5/2210/13/c31/337640051_1665655496669.png\" alt=\"华梓汽车\" width=\"78\" height=\"78\">\\n</span>\\n<p>华梓汽车</p>\\n</em>\\n</div>\\n</div>\\n<div class=\"braRow-r listC\">\\n<div class=\"modA noBorder\">\\n<div class=\"thA\">\\n华梓汽车\\n<i class=\"iPos\"><a id=\"8673\"></a></i>\\n</div>\\n<div class=\"tbA mt10 noBorder\">\\n<p class=\"stit\">轿车（共2款）</p>\\n<ul class=\"picList clearfix\">\\n\\n<li>\\n<a href=\"/sg29204/\" target=\"_blank\">\\n<img src=\"//www1.geeknev.com/zt/global/images/blank.gif\" #src=\"//img.pcauto.com.cn/images/upload/upc/tx/auto5/2210/13/c32/337652248_1665664057658_180x135.jpg\" alt=\"华梓1号\">\\n<p class=\"date\"></p>\\n</a>\\n<p class=\"tit\"><a href=\"/sg29204/\" target=\"_blank\" title=\"华梓1号\">华梓1号</a></p>\\n<p class=\"price\" name=\"price\">\\n<span class=\"price\" name=\"price\" id=\"price_{{serialGroup.id}}\" >2.98-4.98万</span>\\n</p>\\n</li>\\n\\n<li>\\n<a href=\"/sg29213/\" target=\"_blank\">\\n<img src=\"//www1.geeknev.com/zt/global/images/blank.gif\" #src=\"//img.pcauto.com.cn/images/upload/upc/tx/auto5/2210/13/c32/337652114_1665663058138_180x135.jpg\" alt=\"欧麦加\">\\n<p class=\"date\"></p>\\n</a>\\n<p class=\"tit\"><a href=\"/sg29213/\" target=\"_blank\" title=\"欧麦加\">欧麦加</a></p>\\n<p class=\"price\" name=\"price\">\\n<span class=\"price\" name=\"price\" id=\"price_{{serialGroup.id}}\" >4.98-5.98万</span>\\n</p>\\n</li>\\n</ul>\\n</div>\\n</div>\\n</div>\\n</div>\\n</div>\\n\\n<div class=\"braRow\">\\n\\n<div class=\"braRow-inner clearfix\">\\n<div class=\"braRow-l\">\\n<div class=\"braRow-icon\">\\n<em class=\"aPic\">\\n<span>\\n<img src=\"//www1.geeknev.com/zt/global/images/blank.gif\" #src=\"//img.pcauto.com.cn/images/upload/upc/tx/auto5/2201/19/c0/292867610_1642557229645.png\" alt=\"华晨新日\" width=\"78\" height=\"78\">\\n</span>\\n<p>华晨新日</p>\\n</em>\\n</div>\\n</div>\\n<div class=\"braRow-r listC\">\\n<div class=\"modA noBorder\">\\n<div class=\"thA\">\\n华晨新日\\n<i class=\"iPos\"><a id=\"8493\"></a></i>\\n</div>\\n<div class=\"tbA mt10 noBorder\">\\n<p class=\"stit\">轿车（共1款）</p>\\n<ul class=\"picList clearfix\">\\n\\n<li>\\n<a href=\"/sg28602/\" target=\"_blank\">\\n<img src=\"//www1.geeknev.com/zt/global/images/blank.gif\" #src=\"//img.pcauto.com.cn/images/upload/upc/tx/auto5/2201/19/c1/292877033_1642560423202_180x135.jpg\" alt=\"华晨新日i03\">\\n<p class=\"date\"></p>\\n</a>\\n<p class=\"tit\"><a href=\"/sg28602/\" target=\"_blank\" title=\"华晨新日i03\">华晨新日i03</a></p>\\n<p class=\"price\" name=\"price\">\\n<span class=\"price\" name=\"price\" id=\"price_{{serialGroup.id}}\" >4.39-7.58万</span>\\n</p>\\n</li>\\n</ul>\\n</div>\\n</div>\\n</div>\\n</div>\\n</div>\\n\\n<div class=\"braRow\">\\n<div class=\"braRow-iconTag\">L<i class=\"dPos\"><a id=\"L\"></a></i></div>\\n<div class=\"braRow-inner clearfix\">\\n<div class=\"braRow-l\">\\n<div class=\"braRow-icon\">\\n<em class=\"aPic\">\\n<span>\\n<img src=\"//www1.geeknev.com/zt/global/images/blank.gif\" #src=\"//img.pcauto.com.cn/images/upload/upc/tx/auto5/1412/22/c0/960833_1419220402453_96x96.jpg\" alt=\"雷丁\" width=\"78\" height=\"78\">\\n</span>\\n<p>雷丁</p>\\n</em>\\n</div>\\n</div>\\n<div class=\"braRow-r listC\">\\n<div class=\"modA noBorder\">\\n<div class=\"thA\">\\n雷丁\\n<i class=\"iPos\"><a id=\"1022\"></a></i>\\n</div>\\n<div class=\"tbA mt10 noBorder\">\\n<p class=\"stit\">轿车（共3款）</p>\\n<ul class=\"picList clearfix\">\\n\\n<li>\\n<a href=\"/sg24965/\" target=\"_blank\">\\n<img src=\"//www1.geeknev.com/zt/global/images/blank.gif\" #src=\"//img.pcauto.com.cn/images/upload/upc/tx/auto5/2102/28/c3/255234518_1614523195983_180x135.jpg\" alt=\"雷丁i3\">\\n<p class=\"date\"></p>\\n</a>\\n<p class=\"tit\"><a href=\"/sg24965/\" target=\"_blank\" title=\"雷丁i3\">雷丁i3</a></p>\\n<p class=\"price\" name=\"price\">\\n<span class=\"price\" name=\"price\" id=\"price_{{serialGroup.id}}\" >4.98-6.28万</span>\\n</p>\\n</li>\\n\\n<li>\\n<a href=\"/sg26631/\" target=\"_blank\">\\n<img src=\"//www1.geeknev.com/zt/global/images/blank.gif\" #src=\"//img.pcauto.com.cn/images/upload/upc/tx/auto5/2104/13/c8/260978878_1618294056332_180x135.jpg\" alt=\"雷丁芒果\">\\n<p class=\"date\"></p>\\n</a>\\n<p class=\"tit\"><a href=\"/sg26631/\" target=\"_blank\" title=\"雷丁芒果\">雷丁芒果</a></p>\\n<p class=\"price\" name=\"price\">\\n<span class=\"price\" name=\"price\" id=\"price_{{serialGroup.id}}\" >4.69-7.39万</span>\\n</p>\\n</li>\\n\\n<li>\\n<a href=\"/sg28442/\" target=\"_blank\">\\n<img src=\"//www1.geeknev.com/zt/global/images/blank.gif\" #src=\"//img.pcauto.com.cn/images/upload/upc/tx/auto5/2112/07/c3/286556909_1638841649656_180x135.jpg\" alt=\"雷丁芒果Pro\">\\n<span class=\"icon-yellow\">\\n<em class=\"icon1\"></em>将上市\\n<em class=\"icon2\"></em>\\n</span>\\n<p class=\"date\"></p>\\n</a>\\n<p class=\"tit\"><a href=\"/sg28442/\" target=\"_blank\" title=\"雷丁芒果Pro\">雷丁芒果Pro</a></p>\\n<p class=\"price\" name=\"price\">\\n<span class=\"price\" name=\"price\" id=\"price_{{serialGroup.id}}\" >3.98-7.89万</span>\\n</p>\\n</li>\\n</ul>\\n</div>\\n</div>\\n</div>\\n</div>\\n</div>\\n\\n<div class=\"braRow\">\\n\\n<div class=\"braRow-inner clearfix\">\\n<div class=\"braRow-l\">\\n<div class=\"braRow-icon\">\\n<em class=\"aPic\">\\n<span>\\n<img src=\"//www1.geeknev.com/zt/global/images/blank.gif\" #src=\"//img.pcauto.com.cn/images/upload/upc/tx/auto5/2004/07/c9/201711562_1586246423495.jpg\" alt=\"凌宝汽车\" width=\"78\" height=\"78\">\\n</span>\\n<p>凌宝汽车</p>\\n</em>\\n</div>\\n</div>\\n<div class=\"braRow-r listC\">\\n<div class=\"modA noBorder\">\\n<div class=\"thA\">\\n吉麦新能源\\n<i class=\"iPos\"><a id=\"8133\"></a></i>\\n</div>\\n<div class=\"tbA mt10 noBorder\">\\n<p class=\"stit\">轿车（共3款）</p>\\n<ul class=\"picList clearfix\">\\n\\n<li>\\n<a href=\"/sg26263/\" target=\"_blank\">\\n<img src=\"//www1.geeknev.com/zt/global/images/blank.gif\" #src=\"//img.pcauto.com.cn/images/upload/upc/tx/auto5/2103/03/c5/255558560_1614739661335_180x135.jpg\" alt=\"凌宝BOX\">\\n<p class=\"date\"></p>\\n</a>\\n<p class=\"tit\"><a href=\"/sg26263/\" target=\"_blank\" title=\"凌宝BOX\">凌宝BOX</a></p>\\n<p class=\"price\" name=\"price\">\\n<span class=\"price\" name=\"price\" id=\"price_{{serialGroup.id}}\" >4.18-6.88万</span>\\n</p>\\n</li>\\n\\n<li>\\n<a href=\"/sg27456/\" target=\"_blank\">\\n<img src=\"//www1.geeknev.com/zt/global/images/blank.gif\" #src=\"//img.pcauto.com.cn/images/upload/upc/tx/auto5/2104/13/c3/260951014_1618281425823_180x135.jpg\" alt=\"凌宝COCO\">\\n<p class=\"date\"></p>\\n</a>\\n<p class=\"tit\"><a href=\"/sg27456/\" target=\"_blank\" title=\"凌宝COCO\">凌宝COCO</a></p>\\n<p class=\"price\" name=\"price\">\\n<span class=\"price\" name=\"price\" id=\"price_{{serialGroup.id}}\" >3.58-3.98万</span>\\n</p>\\n</li>\\n\\n<li>\\n<a href=\"/sg28623/\" target=\"_blank\">\\n<img src=\"//www1.geeknev.com/zt/global/images/blank.gif\" #src=\"//img.pcauto.com.cn/images/upload/upc/tx/auto5/2205/20/c31/313718479_1653028418520_180x135.jpg\" alt=\"凌宝Uni\">\\n<p class=\"date\"></p>\\n</a>\\n<p class=\"tit\"><a href=\"/sg28623/\" target=\"_blank\" title=\"凌宝Uni\">凌宝Uni</a></p>\\n<p class=\"price\" name=\"price\">\\n<span class=\"price\" name=\"price\" id=\"price_{{serialGroup.id}}\" >3.88-4.78万</span>\\n</p>\\n</li>\\n</ul>\\n</div>\\n</div>\\n</div>\\n</div>\\n</div>\\n\\n<div class=\"braRow\">\\n<div class=\"braRow-iconTag\">M<i class=\"dPos\"><a id=\"M\"></a></i></div>\\n<div class=\"braRow-inner clearfix\">\\n<div class=\"braRow-l\">\\n<div class=\"braRow-icon\">\\n<em class=\"aPic\">\\n<span>\\n<img src=\"//www1.geeknev.com/zt/global/images/blank.gif\" #src=\"//img.pcauto.com.cn/images/upload/upc/tx/auto5/2208/15/c48/328966239_1660551688229.png\" alt=\"敏安汽车\" width=\"78\" height=\"78\">\\n</span>\\n<p>敏安汽车</p>\\n</em>\\n</div>\\n</div>\\n<div class=\"braRow-r listC\">\\n<div class=\"modA noBorder\">\\n<div class=\"thA\">\\n敏安汽车\\n<i class=\"iPos\"><a id=\"8623\"></a></i>\\n</div>\\n<div class=\"tbA mt10 noBorder\">\\n<p class=\"stit\">轿车（共1款）</p>\\n<ul class=\"picList clearfix\">\\n\\n<li>\\n<a href=\"/sg29091/\" target=\"_blank\">\\n<img src=\"//www1.geeknev.com/zt/global/images/blank.gif\" #src=\"//img.pcauto.com.cn/images/upload/upc/tx/auto5/2208/15/c54/329000576_1660565179511_180x135.jpg\" alt=\"敏微ET1\">\\n<p class=\"date\"></p>\\n</a>\\n<p class=\"tit\"><a href=\"/sg29091/\" target=\"_blank\" title=\"敏微ET1\">敏微ET1</a></p>\\n<p class=\"price\" name=\"price\">\\n<span class=\"price\" name=\"price\" id=\"price_{{serialGroup.id}}\" >3.98万</span>\\n</p>\\n</li>\\n</ul>\\n</div>\\n</div>\\n</div>\\n</div>\\n</div>\\n\\n<div class=\"braRow\">\\n<div class=\"braRow-iconTag\">P<i class=\"dPos\"><a id=\"P\"></a></i></div>\\n<div class=\"braRow-inner clearfix\">\\n<div class=\"braRow-l\">\\n<div class=\"braRow-icon\">\\n<em class=\"aPic\">\\n<span>\\n<img src=\"//www1.geeknev.com/zt/global/images/blank.gif\" #src=\"//img.pcauto.com.cn/images/upload/upc/tx/auto5/2103/09/c6/256348399_1615267564057.png\" alt=\"朋克汽车\" width=\"78\" height=\"78\">\\n</span>\\n<p>朋克汽车</p>\\n</em>\\n</div>\\n</div>\\n<div class=\"braRow-r listC\">\\n<div class=\"modA noBorder\">\\n<div class=\"thA\">\\n御捷新能源\\n<i class=\"iPos\"><a id=\"8273\"></a></i>\\n</div>\\n<div class=\"tbA mt10 noBorder\">\\n<p class=\"stit\">轿车（共2款）</p>\\n<ul class=\"picList clearfix\">\\n\\n<li>\\n<a href=\"/sg27721/\" target=\"_blank\">\\n<img src=\"//www1.geeknev.com/zt/global/images/blank.gif\" #src=\"//img.pcauto.com.cn/images/upload/upc/tx/auto5/2105/26/c21/266218915_1622035978709_180x135.jpg\" alt=\"朋克多多\">\\n<p class=\"date\"></p>\\n</a>\\n<p class=\"tit\"><a href=\"/sg27721/\" target=\"_blank\" title=\"朋克多多\">朋克多多</a></p>\\n<p class=\"price\" name=\"price\">\\n<span class=\"price\" name=\"price\" id=\"price_{{serialGroup.id}}\" >4.58-4.98万</span>\\n</p>\\n</li>\\n\\n<li>\\n<a href=\"/sg27343/\" target=\"_blank\">\\n<img src=\"//www1.geeknev.com/zt/global/images/blank.gif\" #src=\"//img.pcauto.com.cn/images/upload/upc/tx/auto5/2202/08/c4/296384856_1644286562940_180x135.jpg\" alt=\"朋克美美\">\\n<span class=\"icon-yellow\">\\n<em class=\"icon1\"></em>将上市\\n<em class=\"icon2\"></em>\\n</span>\\n<p class=\"date\"></p>\\n</a>\\n<p class=\"tit\"><a href=\"/sg27343/\" target=\"_blank\" title=\"朋克美美\">朋克美美</a></p>\\n<p class=\"price\" name=\"price\">\\n<span class=\"price\" name=\"price\" id=\"price_{{serialGroup.id}}\" >3.48-4.88万</span>\\n</p>\\n</li>\\n</ul>\\n</div>\\n</div>\\n</div>\\n</div>\\n</div>\\n\\n<div class=\"braRow\">\\n<div class=\"braRow-iconTag\">Q<i class=\"dPos\"><a id=\"Q\"></a></i></div>\\n<div class=\"braRow-inner clearfix\">\\n<div class=\"braRow-l\">\\n<div class=\"braRow-icon\">\\n<em class=\"aPic\">\\n<span>\\n<img src=\"//www1.geeknev.com/zt/global/images/blank.gif\" #src=\"//img.pcauto.com.cn/images/upload/upc/tx/auto5/2109/22/c6/278467860_1632275650234.png\" alt=\"奇瑞新能源\" width=\"78\" height=\"78\">\\n</span>\\n<p>奇瑞新能源</p>\\n</em>\\n</div>\\n</div>\\n<div class=\"braRow-r listC\">\\n<div class=\"modA noBorder\">\\n<div class=\"thA\">\\n奇瑞新能源\\n<i class=\"iPos\"><a id=\"8353\"></a></i>\\n</div>\\n<div class=\"tbA mt10 noBorder\">\\n<p class=\"stit\">轿车（共1款）</p>\\n<ul class=\"picList clearfix\">\\n\\n<li>\\n<a href=\"/sg27822/\" target=\"_blank\">\\n<img src=\"//www1.geeknev.com/zt/global/images/blank.gif\" #src=\"//img.pcauto.com.cn/images/upload/upc/tx/auto5/2112/20/c2/287895264_1639966166911_180x135.jpg\" alt=\"QQ冰淇淋\">\\n<p class=\"date\"></p>\\n</a>\\n<p class=\"tit\"><a href=\"/sg27822/\" target=\"_blank\" title=\"QQ冰淇淋\">QQ冰淇淋</a></p>\\n<p class=\"price\" name=\"price\">\\n<span class=\"price\" name=\"price\" id=\"price_{{serialGroup.id}}\" >3.99-5.75万</span>\\n</p>\\n</li>\\n</ul>\\n</div>\\n</div>\\n</div>\\n</div>\\n</div>\\n\\n<div class=\"braRow\">\\n<div class=\"braRow-iconTag\">W<i class=\"dPos\"><a id=\"W\"></a></i></div>\\n<div class=\"braRow-inner clearfix\">\\n<div class=\"braRow-l\">\\n<div class=\"braRow-icon\">\\n<em class=\"aPic\">\\n<span>\\n<img src=\"//www1.geeknev.com/zt/global/images/blank.gif\" #src=\"//img.pcauto.com.cn/images/upload/upc/tx/auto5/2005/29/c6/210824458_1590725174209.jpg\" alt=\"五菱\" width=\"78\" height=\"78\">\\n</span>\\n<p>五菱</p>\\n</em>\\n</div>\\n</div>\\n<div class=\"braRow-r listC\">\\n<div class=\"modA noBorder\">\\n<div class=\"thA\">\\n上汽通用五菱\\n<i class=\"iPos\"><a id=\"118\"></a></i>\\n</div>\\n<div class=\"tbA mt10 noBorder\">\\n<p class=\"stit\">轿车（共1款）</p>\\n<ul class=\"picList clearfix\">\\n\\n<li>\\n<a href=\"/sg26211/\" target=\"_blank\">\\n<img src=\"//www1.geeknev.com/zt/global/images/blank.gif\" #src=\"//img.pcauto.com.cn/images/upload/upc/tx/auto5/2211/09/c44/341024110_1667995689079_180x135.jpg\" alt=\"宏光MINIEV\">\\n<p class=\"date\"></p>\\n</a>\\n<p class=\"tit\"><a href=\"/sg26211/\" target=\"_blank\" title=\"宏光MINIEV\">宏光MINIEV</a></p>\\n<p class=\"price\" name=\"price\">\\n<span class=\"price\" name=\"price\" id=\"price_{{serialGroup.id}}\" >3.28-9.99万</span>\\n</p>\\n</li>\\n</ul>\\n</div>\\n</div>\\n</div>\\n</div>\\n</div>\\n\\n<div class=\"braRow\">\\n<div class=\"braRow-iconTag\">X<i class=\"dPos\"><a id=\"X\"></a></i></div>\\n<div class=\"braRow-inner clearfix\">\\n<div class=\"braRow-l\">\\n<div class=\"braRow-icon\">\\n<em class=\"aPic\">\\n<span>\\n<img src=\"//www1.geeknev.com/zt/global/images/blank.gif\" #src=\"//img.pcauto.com.cn/images/upload/upc/tx/auto5/2111/25/c71/285340842_1637825650813.png\" alt=\"小虎\" width=\"78\" height=\"78\">\\n</span>\\n<p>小虎</p>\\n</em>\\n</div>\\n</div>\\n<div class=\"braRow-r listC\">\\n<div class=\"modA noBorder\">\\n<div class=\"thA\">\\n小虎汽车\\n<i class=\"iPos\"><a id=\"8284\"></a></i>\\n</div>\\n<div class=\"tbA mt10 noBorder\">\\n<p class=\"stit\">轿车（共1款）</p>\\n<ul class=\"picList clearfix\">\\n\\n<li>\\n<a href=\"/sg27422/\" target=\"_blank\">\\n<img src=\"//www1.geeknev.com/zt/global/images/blank.gif\" #src=\"//img.pcauto.com.cn/images/upload/upc/tx/auto5/2201/25/c29/294153597_1643101543424_180x135.jpg\" alt=\"小虎FEV\">\\n<p class=\"date\"></p>\\n</a>\\n<p class=\"tit\"><a href=\"/sg27422/\" target=\"_blank\" title=\"小虎FEV\">小虎FEV</a></p>\\n<p class=\"price\" name=\"price\">\\n<span class=\"price\" name=\"price\" id=\"price_{{serialGroup.id}}\" >3.59-5.29万</span>\\n</p>\\n</li>\\n</ul>\\n</div>\\n</div>\\n</div>\\n</div>\\n</div>\\n\\n</div>\\n</div>\\n<!--品牌 E -->\\n</div>\\n<!-- /wraper -->\\n</div>\\n</div>\\n<!--backTop--><a href=\"javascript:window.scrollTo(0,0);\" class=\"backTop hide\" id=\"backTop\"></a><!--/backTop-->\\n<!-- 公共底部 S -->\\n<!-- 公共底部 -->\\n<!--footer--><style type=\"text/css\">/*! /common/w/footer/1.0.0/_footer.css*/\\r\\n.footer{min-width:1200px;text-align:left;background:#2a2d34;color:#666;font:12px/28px \"微软雅黑\",\"宋体\"}.footer-wap{width:1200px;margin:0 auto}.footer-beian{padding:30px 0;text-align:center;font-size:14px;line-height:20px;color:#fff;border-top:1px solid #3a404c;color:#939393}.footer-beian dl{display:inline-block}.footer-beian dt{float:left}.footer-beian dd{float:left}.footer-beian a{color:#939393}.footer-info{padding:50px 0}.footer-share{float:left;margin-top:19px;height:70px;width:400px}.footer-logo{width:166px;height:70px;float:left}.footer-logo a{display:block;width:138px;height:70px}.footer-logo .pcLogo{text-align:center;font-size:14px;height:auto;color:#fff}.footer-share-item{height:40px;float:left;margin-top:27px}.footer-share-item a{display:block;float:left;width:40px;height:40px;margin-right:20px;position:relative}.footer-share-wx{background-repeat: no-repeat;}.footer-share-wx:hover{background-repeat: no-repeat;}.footer-share-wb{background-repeat: no-repeat;}.footer-share-wb:hover{background-repeat: no-repeat;}.footer-share-tt{background-repeat: no-repeat;}.footer-share-tt:hover{background-repeat: no-repeat;}.footer-share-line{border-left:1px solid #3a404c;float:left;height:27px;width:30px;float:left;margin-top:8px}.footer-share-pop{position:absolute;width:214px;height:118px;background:#fff;border:1px solid #efefef;top:-130px;left:50%;margin-left:-107px;display:none}.footer-share-pop dl{height:118px}.footer-share-pop dt{width:118px;height:118px;float:left}.footer-share-pop dd{width:95px;height:118px;float:right;color:#333;line-height:24px;text-align:center}.footer-share-pop dd span{padding-top:22px;display:block}.footer-share-item a:hover .footer-share-pop{display:block}.footer-pop-sjx{width:14px;height:8px;position:absolute;bottom:-8px;left:50%;margin-left:-7px;background-repeat: no-repeat;}.footer-item{float:right;display:inline}.footer-item dl{float:left;width:210px;line-height:40px;font-size:14px}.footer-item dt{color:#fff;height:40px;text-align:left}.footer-item dt a{color:#fff}.footer-item dd{color:#828c96}.footer-item dd a{color:#828c96}.footer-item dd a:hover{color:#fff}.footer-share-wx{background-position:0px 0px}.footer-share-wx:hover{background-position:0px -43px}.footer-share-wb{background-position:0px -86px}.footer-share-wb:hover{background-position:0px -129px}.footer-share-tt{background-position:0px -172px}.footer-share-tt:hover{background-position:0px -215px}.footer-pop-sjx{background-position:-26px -258px}.footer-share-wx,.footer-share-wx:hover,.footer-share-wb,.footer-share-wb:hover,.footer-share-tt,.footer-share-tt:hover,.footer-pop-sjx{background-image: url(//ueimg.3conline.com/geeknev/pc/common/p/headerandfooter/headerandfooter_dev_1_z.png)}</style>\\r\\n<div class=\"footer\" id=\"footerbar\">\\r\\n<div class=\"footer-wap clearfix\">\\r\\n<div class=\"footer-info clearfix\">\\r\\n<div class=\"footer-share clearfix\">\\r\\n<div class=\"footer-logo\"><a href=\"//www.geeknev.com\" target=\"_blank\"><img src=\"//www1.geeknev.com/global/logo/images/131X70.png\" alt=\"logo\" /></a><a href=\"http://www.pconline.cn/\" class=\"pcLogo\" target=\"_blank\">太平洋汽车旗下</a></div>\\r\\n<div class=\"footer-share-item\">\\r\\n<i class=\"footer-share-line\"></i>\\r\\n<a href=\"javascript:\" class=\"footer-share-wx\">\\r\\n<div class=\"footer-share-pop\">\\r\\n<dl>\\r\\n<dt><img src=\"//www1.geeknev.com/zt/gz20180207/footer/wxzh.jpg\" width=\"118\" height=\"118\" alt=\"\"></dt>\\r\\n<dd>\\r\\n<span>扫码关注<br>微信公众号<br>“GeekEV”</span>\\r\\n</dd>\\r\\n</dl>\\r\\n<em class=\"footer-pop-sjx\"></em>\\r\\n</div>\\r\\n</a>\\r\\n<a href=\"//weibo.com/6447943473/\" class=\"footer-share-wb\"></a>\\r\\n<a href=\"//www.toutiao.com/c/user/84474745755/\" class=\"footer-share-tt\"></a>\\r\\n</div>\\r\\n</div>\\r\\n<div class=\"footer-item clearfix\">\\r\\n<dl>\\r\\n<dt>关于我们</dt>\\r\\n<dd>\\r\\n<p><a href=\"//www.geeknev.com/about/\" target=\"_blank\">关于皆电</a></p>\\r\\n<p><a href=\"//www.geeknev.com/policy/\" target=\"_blank\">隐私保护政策</a></p>\\r\\n<p><a href=\"//www.geeknev.com/policy/\" target=\"_blank\">社区准则</a></p>\\r\\n</dd>\\r\\n</dl>\\r\\n<dl>\\r\\n<dt>服务条款</dt>\\r\\n<dd>\\r\\n<p><a href=\"//www.geeknev.com/about/\" target=\"_blank\">联系我们</a></p>\\r\\n<p><a href=\"//www.geeknev.com/about/\" target=\"_blank\">为什么选择皆电</a></p>\\r\\n</dd>\\r\\n</dl>\\r\\n<dl>\\r\\n<dt>合作伙伴</dt>\\r\\n<dd>\\r\\n<p><a href=\"//www.pcauto.com.cn\" target=\"_blank\">太平洋汽车</a></p>\\r\\n<p><a href=\"http://hao.360.cn\" target=\"_blank\">360导航</a></p>\\r\\n<p><a href=\"https://auto.360.cn/&sign=360_7e9b4d04/\" target=\"_blank\">360汽车</a></p>\\r\\n</dd>\\r\\n</dl>\\r\\n</div>\\r\\n</div>\\r\\n<div class=\"footer-beian\">\\r\\n<div>\\r\\n<dl>\\r\\n<dt>网站备案号：</dt>\\r\\n<dd>\\r\\n<a href=\"https://beian.miit.gov.cn\" target=\"_blank\">粤B2-20040647号</a>\\r\\n</dd>\\r\\n</dl>\\r\\n</div>\\r\\n<div>\\r\\n<dl>\\r\\n<dt><img src=\"//img0.geeknev.com/geeknev/home/embed/1803/20183/16/15211661743870.png\"></dt>\\r\\n<dd>\\r\\n<a target=\"_blank\" href=\"http://www.beian.gov.cn/portal/registerSystemInfo?recordcode=44010602003912\">粤公网安备 44010602003912号</a>\\r\\n</dd>\\r\\n</dl>\\r\\n</div>\\r\\n</div>\\r\\n</div>\\r\\n</div><!--/footer-->\\n<!-- 公共底部 E -->\\n<!-- 页面JS S -->\\n<script>\\nwindow.geeknevPageConfig = {\\nfixed: false //导航吸顶开关默认是true，关闭是false或url?nofixed=1\\n}\\n</script>\\n<!-- jq -->\\n<!-- 选车 S -->\\n<script>\\n//价格选项常量\\n//选中标签\\nwindow.MAP_SEL = [\\n[0, 5],\\n[5, 8],\\n[8, 10],\\n[10, 15],\\n[15, 20],\\n[20, 25],\\n[25, 35],\\n[35, 50],\\n[50, 100],\\n[100, 0]\\n];\\n//进度条渲染\\nwindow.MAP_PRiCELOAD = {\\n\\'1\\': [0, 0, 5],\\n\\'2\\': [-1, 5, 8],\\n\\'3\\': [1, 8, 10],\\n\\'4\\': [2, 10, 15],\\n\\'5\\': [3, 15, 20],\\n\\'6\\': [4, 20, 25],\\n\\'7\\': [5, 25, 35],\\n\\'8\\': [6, 35, 50],\\n\\'9\\': [7, 50, 100],\\n\\'10\\': [8, 100, 180]\\n};\\n</script>\\n<script type=\"text/javascript\">\\nwindow._REQUIRE_CONFIG_ = {\\n\"domain\": \"//ue.3conline.com/geeknev/pc\",\\n\"path\": {},\\n\"deps\": {},\\n\"combo\": true,\\n\"comboUrl\": \"/??\"\\n};\\n</script>\\n<script src=\"//ue.3conline.com/geeknev/pc/common/m/pc-require/index.js\"></script>\\n<script src=\"//ue.3conline.com/geeknev/pc/common/m/jquery/jquery.js\"></script>\\n<script src=\"//ue.3conline.com/geeknev/pc/??/auto/m/j-placeholder/j-placeholder.js,/common/m/lazy/lazy.js\"></script>\\n<script src=\"//ue.3conline.com/geeknev/pc/??/auto/p/xuanche/xuanche.js,/common/w/footer/1.0.0/footer.js,/common/w/header/1.0.0/header.js,/auto/w/backTop/1.0.0/backTop.js,/auto/w/price_filter_slider/1.0.0/price_filter_slider.js,/auto/w/head/1.0.0/head.js\"></script>\\n<script>\\nvar $ = require(\\'common:jquery\\');\\n</script>\\n</body>\\n</html>'"
     },
     "execution_count": 90,
     "metadata": {},
     "output_type": "execute_result"
    }
   ],
   "source": [
    "r1.text"
   ],
   "metadata": {
    "collapsed": false
   }
  },
  {
   "cell_type": "code",
   "execution_count": 91,
   "outputs": [],
   "source": [
    "# '#src'进行替换, 比如替换为src2\n",
    "selector = Selector(r1.text.replace('#src', 'src2'))"
   ],
   "metadata": {
    "collapsed": false
   }
  },
  {
   "cell_type": "code",
   "execution_count": 92,
   "outputs": [
    {
     "data": {
      "text/plain": "14"
     },
     "execution_count": 92,
     "metadata": {},
     "output_type": "execute_result"
    }
   ],
   "source": [
    "brand_items = selector.xpath('//div[@class=\"braRow\"]')\n",
    "len(brand_items)"
   ],
   "metadata": {
    "collapsed": false
   }
  },
  {
   "cell_type": "markdown",
   "source": [
    "#### 获取单页的全部信息 + https://auto.geeknev.com/price/q-p1.html"
   ],
   "metadata": {
    "collapsed": false
   }
  },
  {
   "cell_type": "code",
   "execution_count": 93,
   "outputs": [
    {
     "name": "stdout",
     "output_type": "stream",
     "text": [
      "====================================================================================================\n",
      "第1条数据为: \n",
      "{'factory': '北京汽车制造厂', 'brand': '北汽制造', 'brand_img': 'https://img.pcauto.com.cn/images/upload/upc/tx/auto5/2206/29/c1/321335360_1656467070816.png', 'car_type': '轿车（共2款）', 'car_name': ['元宝', '北汽小猫'], 'car_price': ['4.19-5.19万', '3.98万'], 'car_img': ['//img.pcauto.com.cn/images/upload/upc/tx/auto5/2206/29/c1/321333969_1656466808676_180x135.jpg', '//img.pcauto.com.cn/images/upload/upc/tx/auto5/2204/01/c12/305262986_1648801466267_180x135.jpg'], 'car_detail': ['/sg28594/', '/sg28031/']}\n",
      "====================================================================================================\n",
      "第2条数据为: \n",
      "{'factory': '领途汽车', 'brand': '百智新能源', 'brand_img': 'https://img.pcauto.com.cn/images/upload/upc/tx/auto5/2109/16/c0/277817295_1631755297450.png', 'car_type': '轿车（共1款）', 'car_name': ['百智大熊'], 'car_price': ['3.88-5.88万'], 'car_img': ['//img.pcauto.com.cn/images/upload/upc/tx/auto5/2201/21/c17/293170424_1642737186657_180x135.jpg'], 'car_detail': ['/sg28033/']}\n",
      "====================================================================================================\n",
      "第3条数据为: \n",
      "{'factory': '比德文汽车', 'brand': '比德文汽车', 'brand_img': 'https://img.pcauto.com.cn/images/upload/upc/tx/auto5/1909/02/c26/167291329_1567414885373.jpg', 'car_type': '轿车（共1款）', 'car_name': ['比德文E3'], 'car_price': ['4.98-6.28万'], 'car_img': ['//img.pcauto.com.cn/images/upload/upc/tx/auto5/2102/22/c4/254373725_1613980903334_180x135.jpg'], 'car_detail': ['/sg25299/']}\n",
      "====================================================================================================\n",
      "第4条数据为: \n",
      "{'factory': '长安汽车', 'brand': '长安汽车', 'brand_img': 'https://img.pcauto.com.cn/images/upload/upc/tx/auto5/2009/30/c22/233249884_1601435407958.png', 'car_type': '轿车（共1款）', 'car_name': ['长安Lumin'], 'car_price': ['4.89-6.39万'], 'car_img': ['//img.pcauto.com.cn/images/upload/upc/tx/auto5/2203/17/c42/302630920_1647526627110_180x135.jpg'], 'car_detail': ['/sg28707/']}\n",
      "====================================================================================================\n",
      "第5条数据为: \n",
      "{'factory': '东风小康', 'brand': '东风风光', 'brand_img': 'https://img.pcauto.com.cn/images/upload/upc/tx/auto5/1603/04/c17/18855458_1457064072545_96x96.jpg', 'car_type': '轿车（共1款）', 'car_name': ['风光MINIEV'], 'car_price': ['3.26-5.91万'], 'car_img': ['//img.pcauto.com.cn/images/upload/upc/tx/auto5/2202/10/c3/296793704_1644476462447_180x135.jpg'], 'car_detail': ['/sg28598/']}\n",
      "====================================================================================================\n",
      "第6条数据为: \n",
      "{'factory': '华梓汽车', 'brand': '华梓汽车', 'brand_img': 'https://img.pcauto.com.cn/images/upload/upc/tx/auto5/2210/13/c31/337640051_1665655496669.png', 'car_type': '轿车（共2款）', 'car_name': ['华梓1号', '欧麦加'], 'car_price': ['2.98-4.98万', '4.98-5.98万'], 'car_img': ['//img.pcauto.com.cn/images/upload/upc/tx/auto5/2210/13/c32/337652248_1665664057658_180x135.jpg', '//img.pcauto.com.cn/images/upload/upc/tx/auto5/2210/13/c32/337652114_1665663058138_180x135.jpg'], 'car_detail': ['/sg29204/', '/sg29213/']}\n",
      "====================================================================================================\n",
      "第7条数据为: \n",
      "{'factory': '华晨新日', 'brand': '华晨新日', 'brand_img': 'https://img.pcauto.com.cn/images/upload/upc/tx/auto5/2201/19/c0/292867610_1642557229645.png', 'car_type': '轿车（共1款）', 'car_name': ['华晨新日i03'], 'car_price': ['4.39-7.58万'], 'car_img': ['//img.pcauto.com.cn/images/upload/upc/tx/auto5/2201/19/c1/292877033_1642560423202_180x135.jpg'], 'car_detail': ['/sg28602/']}\n",
      "====================================================================================================\n",
      "第8条数据为: \n",
      "{'factory': '雷丁', 'brand': '雷丁', 'brand_img': 'https://img.pcauto.com.cn/images/upload/upc/tx/auto5/1412/22/c0/960833_1419220402453_96x96.jpg', 'car_type': '轿车（共3款）', 'car_name': ['雷丁i3', '雷丁芒果', '雷丁芒果Pro'], 'car_price': ['4.98-6.28万', '4.69-7.39万', '3.98-7.89万'], 'car_img': ['//img.pcauto.com.cn/images/upload/upc/tx/auto5/2102/28/c3/255234518_1614523195983_180x135.jpg', '//img.pcauto.com.cn/images/upload/upc/tx/auto5/2104/13/c8/260978878_1618294056332_180x135.jpg', '//img.pcauto.com.cn/images/upload/upc/tx/auto5/2112/07/c3/286556909_1638841649656_180x135.jpg'], 'car_detail': ['/sg24965/', '/sg26631/', '/sg28442/']}\n",
      "====================================================================================================\n",
      "第9条数据为: \n",
      "{'factory': '吉麦新能源', 'brand': '凌宝汽车', 'brand_img': 'https://img.pcauto.com.cn/images/upload/upc/tx/auto5/2004/07/c9/201711562_1586246423495.jpg', 'car_type': '轿车（共3款）', 'car_name': ['凌宝BOX', '凌宝COCO', '凌宝Uni'], 'car_price': ['4.18-6.88万', '3.58-3.98万', '3.88-4.78万'], 'car_img': ['//img.pcauto.com.cn/images/upload/upc/tx/auto5/2103/03/c5/255558560_1614739661335_180x135.jpg', '//img.pcauto.com.cn/images/upload/upc/tx/auto5/2104/13/c3/260951014_1618281425823_180x135.jpg', '//img.pcauto.com.cn/images/upload/upc/tx/auto5/2205/20/c31/313718479_1653028418520_180x135.jpg'], 'car_detail': ['/sg26263/', '/sg27456/', '/sg28623/']}\n",
      "====================================================================================================\n",
      "第10条数据为: \n",
      "{'factory': '敏安汽车', 'brand': '敏安汽车', 'brand_img': 'https://img.pcauto.com.cn/images/upload/upc/tx/auto5/2208/15/c48/328966239_1660551688229.png', 'car_type': '轿车（共1款）', 'car_name': ['敏微ET1'], 'car_price': ['3.98万'], 'car_img': ['//img.pcauto.com.cn/images/upload/upc/tx/auto5/2208/15/c54/329000576_1660565179511_180x135.jpg'], 'car_detail': ['/sg29091/']}\n",
      "====================================================================================================\n",
      "第11条数据为: \n",
      "{'factory': '御捷新能源', 'brand': '朋克汽车', 'brand_img': 'https://img.pcauto.com.cn/images/upload/upc/tx/auto5/2103/09/c6/256348399_1615267564057.png', 'car_type': '轿车（共2款）', 'car_name': ['朋克多多', '朋克美美'], 'car_price': ['4.58-4.98万', '3.48-4.88万'], 'car_img': ['//img.pcauto.com.cn/images/upload/upc/tx/auto5/2105/26/c21/266218915_1622035978709_180x135.jpg', '//img.pcauto.com.cn/images/upload/upc/tx/auto5/2202/08/c4/296384856_1644286562940_180x135.jpg'], 'car_detail': ['/sg27721/', '/sg27343/']}\n",
      "====================================================================================================\n",
      "第12条数据为: \n",
      "{'factory': '奇瑞新能源', 'brand': '奇瑞新能源', 'brand_img': 'https://img.pcauto.com.cn/images/upload/upc/tx/auto5/2109/22/c6/278467860_1632275650234.png', 'car_type': '轿车（共1款）', 'car_name': ['QQ冰淇淋'], 'car_price': ['3.99-5.75万'], 'car_img': ['//img.pcauto.com.cn/images/upload/upc/tx/auto5/2112/20/c2/287895264_1639966166911_180x135.jpg'], 'car_detail': ['/sg27822/']}\n",
      "====================================================================================================\n",
      "第13条数据为: \n",
      "{'factory': '上汽通用五菱', 'brand': '五菱', 'brand_img': 'https://img.pcauto.com.cn/images/upload/upc/tx/auto5/2005/29/c6/210824458_1590725174209.jpg', 'car_type': '轿车（共1款）', 'car_name': ['宏光MINIEV'], 'car_price': ['3.28-9.99万'], 'car_img': ['//img.pcauto.com.cn/images/upload/upc/tx/auto5/2211/09/c44/341024110_1667995689079_180x135.jpg'], 'car_detail': ['/sg26211/']}\n",
      "====================================================================================================\n",
      "第14条数据为: \n",
      "{'factory': '小虎汽车', 'brand': '小虎', 'brand_img': 'https://img.pcauto.com.cn/images/upload/upc/tx/auto5/2111/25/c71/285340842_1637825650813.png', 'car_type': '轿车（共1款）', 'car_name': ['小虎FEV'], 'car_price': ['3.59-5.29万'], 'car_img': ['//img.pcauto.com.cn/images/upload/upc/tx/auto5/2201/25/c29/294153597_1643101543424_180x135.jpg'], 'car_detail': ['/sg27422/']}\n"
     ]
    }
   ],
   "source": [
    "# 遍历每个item获取相关信息\n",
    "# 用xpath方法采集不到品牌图片url, 检索r.text发现真实url被注释在src内\n",
    "# item.xpath('.//div[@class=\"braRow-icon\"]/em/span/img/text()')\n",
    "# 对保护真实url但被js注释掉的属性 #src 替换为虚拟属性src2\n",
    "one_page = []\n",
    "for index, item in enumerate(brand_items, start=1):\n",
    "    # 获取汽车品牌和集团品牌\n",
    "    data = {\n",
    "        'factory':item.xpath('.//div[@class=\"thA\"]/text()').get().strip(),  # 汽车厂\n",
    "        'brand':item.xpath('.//div[@class=\"braRow-icon\"]/em/p/text()').get(),  # 汽车品牌\n",
    "        'brand_img':'https:'+item.xpath('.//em[@class=\"aPic\"]/span/img/@src2').get(),  # 汽车品牌图片\n",
    "        'car_type':item.xpath('.//p[@class=\"stit\"]/text()').get(),  # 汽车款式\n",
    "        'car_name':item.xpath('.//p[@class=\"tit\"]/a/text()').getall(),  # 汽车名称\n",
    "        'car_price':item.xpath('.//span[@class=\"price\"]/text()').getall(),  # 汽车价格\n",
    "        'car_img':item.xpath('.//ul[@class=\"picList clearfix\"]/li/a/img/@src2').getall(),  # 汽车图片url https: + car_img\n",
    "        'car_detail':item.xpath('.//ul[@class=\"picList clearfix\"]/li/p/a/@href').getall()  # 汽车详情页面 https://auto.geeknev.com/ + car_detail\n",
    "    }\n",
    "    print('='*100)\n",
    "    print(f'第{index}条数据为: ')\n",
    "    print(data)\n",
    "    one_page.append(data)"
   ],
   "metadata": {
    "collapsed": false
   }
  },
  {
   "cell_type": "markdown",
   "source": [
    "#### 清洗单页面 -- one_page"
   ],
   "metadata": {
    "collapsed": false
   }
  },
  {
   "cell_type": "code",
   "execution_count": 98,
   "outputs": [
    {
     "name": "stdout",
     "output_type": "stream",
     "text": [
      "14\n",
      "<class 'list'>\n",
      "{'factory': '北京汽车制造厂', 'brand': '北汽制造', 'brand_img': 'https://img.pcauto.com.cn/images/upload/upc/tx/auto5/2206/29/c1/321335360_1656467070816.png', 'car_type': '轿车（共2款）', 'car_name': ['元宝', '北汽小猫'], 'car_price': ['4.19-5.19万', '3.98万'], 'car_img': ['//img.pcauto.com.cn/images/upload/upc/tx/auto5/2206/29/c1/321333969_1656466808676_180x135.jpg', '//img.pcauto.com.cn/images/upload/upc/tx/auto5/2204/01/c12/305262986_1648801466267_180x135.jpg'], 'car_detail': ['/sg28594/', '/sg28031/']}\n"
     ]
    }
   ],
   "source": [
    "print(len(one_page))\n",
    "print(type(one_page))\n",
    "print(one_page[0])"
   ],
   "metadata": {
    "collapsed": false
   }
  },
  {
   "cell_type": "markdown",
   "source": [
    "#### 数据清洗 -- 对汽车类型变量进行出来"
   ],
   "metadata": {
    "collapsed": false
   }
  },
  {
   "cell_type": "code",
   "execution_count": 115,
   "outputs": [
    {
     "data": {
      "text/plain": "['21']"
     },
     "execution_count": 115,
     "metadata": {},
     "output_type": "execute_result"
    }
   ],
   "source": [
    "# 注意正则坑, \\d只是匹配一个数字, \\d+匹配时候至少出现1次\n",
    "car_type = '轿车（共21款）'\n",
    "re.findall('\\d+', car_type)"
   ],
   "metadata": {
    "collapsed": false
   }
  },
  {
   "cell_type": "code",
   "execution_count": 116,
   "outputs": [
    {
     "name": "stdout",
     "output_type": "stream",
     "text": [
      "轿车 1\n"
     ]
    }
   ],
   "source": [
    "for data in one_page:\n",
    "    car_type = data.get('car_type')\n",
    "    type_num = re.findall('\\d+', car_type)[0]\n",
    "    car_type = car_type.partition('（')[0]  # 获取中文类型\n",
    "print(car_type, type_num)"
   ],
   "metadata": {
    "collapsed": false
   }
  },
  {
   "cell_type": "code",
   "execution_count": null,
   "outputs": [],
   "source": [],
   "metadata": {
    "collapsed": false
   }
  }
 ],
 "metadata": {
  "kernelspec": {
   "display_name": "Python 3",
   "language": "python",
   "name": "python3"
  },
  "language_info": {
   "codemirror_mode": {
    "name": "ipython",
    "version": 2
   },
   "file_extension": ".py",
   "mimetype": "text/x-python",
   "name": "python",
   "nbconvert_exporter": "python",
   "pygments_lexer": "ipython2",
   "version": "2.7.6"
  }
 },
 "nbformat": 4,
 "nbformat_minor": 0
}

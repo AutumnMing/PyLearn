{
 "cells": [
  {
   "cell_type": "markdown",
   "source": [
    "### 国家统计局爬虫测试文件"
   ],
   "metadata": {
    "collapsed": false,
    "pycharm": {
     "name": "#%% md\n"
    }
   }
  },
  {
   "cell_type": "code",
   "execution_count": 54,
   "outputs": [],
   "source": [
    "from pprint import pprint\n",
    "# import os\n",
    "import requests\n",
    "import pandas as pd\n",
    "import numpy as np\n",
    "# import certifi\n",
    "import time\n",
    "import warnings\n",
    "from tqdm import tqdm"
   ],
   "metadata": {
    "collapsed": false,
    "pycharm": {
     "name": "#%%\n"
    }
   }
  },
  {
   "cell_type": "markdown",
   "source": [
    "#### 高级查询 + 分省年度, 查询所有地区的地区代码"
   ],
   "metadata": {
    "collapsed": false,
    "pycharm": {
     "name": "#%% md\n"
    }
   }
  },
  {
   "cell_type": "code",
   "execution_count": 55,
   "outputs": [],
   "source": [
    "from urllib3.exceptions import InsecureRequestWarning # 针对ssl验证产生警告的错书\n",
    "warnings.filterwarnings(\"ignore\", category=InsecureRequestWarning)"
   ],
   "metadata": {
    "collapsed": false,
    "pycharm": {
     "name": "#%%\n"
    }
   }
  },
  {
   "cell_type": "code",
   "execution_count": 56,
   "outputs": [
    {
     "name": "stdout",
     "output_type": "stream",
     "text": [
      "200\n",
      "utf-8\n"
     ]
    }
   ],
   "source": [
    "base_url = 'https://data.stats.gov.cn/adv.htm?m=findZbXl&db=fsnd&wd=reg&treeId=00'\n",
    "# SSLError, 关闭证书验证\n",
    "r = requests.get(base_url, verify=False) # 产生警告\n",
    "print(r.status_code)\n",
    "print(r.encoding)"
   ],
   "metadata": {
    "collapsed": false,
    "pycharm": {
     "name": "#%%\n"
    }
   }
  },
  {
   "cell_type": "markdown",
   "source": [
    "[InsecureRequestWarning报错解决方案](https://blog.csdn.net/weixin_40773848/article/details/126719313?spm=1001.2101.3001.6650.3&utm_medium=distribute.pc_relevant.none-task-blog-2%7Edefault%7EYuanLiJiHua%7EPosition-3-126719313-blog-82011282.pc_relevant_recovery_v2&depth_1-utm_source=distribute.pc_relevant.none-task-blog-2%7Edefault%7EYuanLiJiHua%7EPosition-3-126719313-blog-82011282.pc_relevant_recovery_v2&utm_relevant_index=4)\n",
    "> 安装certifi包, pip install certifi\n",
    "> 通过 certifi.where查询证书路径\n",
    "> 在requests中通过verify参数指定证书路径"
   ],
   "metadata": {
    "collapsed": false,
    "pycharm": {
     "name": "#%% md\n"
    }
   }
  },
  {
   "cell_type": "code",
   "execution_count": 57,
   "outputs": [
    {
     "name": "stdout",
     "output_type": "stream",
     "text": [
      "<class 'list'>\n",
      "31\n",
      "<class 'dict'>\n"
     ]
    }
   ],
   "source": [
    "r = r.json()\n",
    "print(type(r))\n",
    "print(len(r))\n",
    "print(type(r[0]))"
   ],
   "metadata": {
    "collapsed": false,
    "pycharm": {
     "name": "#%%\n"
    }
   }
  },
  {
   "cell_type": "code",
   "execution_count": 58,
   "outputs": [
    {
     "data": {
      "text/plain": "  dbcode exp      id  isParent    name   open pid   wd\n0   fsnd      110000      True     北京市  False  00  reg\n1   fsnd      120000      True     天津市  False  00  reg\n2   fsnd      130000      True     河北省  False  00  reg\n3   fsnd      140000      True     山西省  False  00  reg\n4   fsnd      150000      True  内蒙古自治区  False  00  reg",
      "text/html": "<div>\n<style scoped>\n    .dataframe tbody tr th:only-of-type {\n        vertical-align: middle;\n    }\n\n    .dataframe tbody tr th {\n        vertical-align: top;\n    }\n\n    .dataframe thead th {\n        text-align: right;\n    }\n</style>\n<table border=\"1\" class=\"dataframe\">\n  <thead>\n    <tr style=\"text-align: right;\">\n      <th></th>\n      <th>dbcode</th>\n      <th>exp</th>\n      <th>id</th>\n      <th>isParent</th>\n      <th>name</th>\n      <th>open</th>\n      <th>pid</th>\n      <th>wd</th>\n    </tr>\n  </thead>\n  <tbody>\n    <tr>\n      <th>0</th>\n      <td>fsnd</td>\n      <td></td>\n      <td>110000</td>\n      <td>True</td>\n      <td>北京市</td>\n      <td>False</td>\n      <td>00</td>\n      <td>reg</td>\n    </tr>\n    <tr>\n      <th>1</th>\n      <td>fsnd</td>\n      <td></td>\n      <td>120000</td>\n      <td>True</td>\n      <td>天津市</td>\n      <td>False</td>\n      <td>00</td>\n      <td>reg</td>\n    </tr>\n    <tr>\n      <th>2</th>\n      <td>fsnd</td>\n      <td></td>\n      <td>130000</td>\n      <td>True</td>\n      <td>河北省</td>\n      <td>False</td>\n      <td>00</td>\n      <td>reg</td>\n    </tr>\n    <tr>\n      <th>3</th>\n      <td>fsnd</td>\n      <td></td>\n      <td>140000</td>\n      <td>True</td>\n      <td>山西省</td>\n      <td>False</td>\n      <td>00</td>\n      <td>reg</td>\n    </tr>\n    <tr>\n      <th>4</th>\n      <td>fsnd</td>\n      <td></td>\n      <td>150000</td>\n      <td>True</td>\n      <td>内蒙古自治区</td>\n      <td>False</td>\n      <td>00</td>\n      <td>reg</td>\n    </tr>\n  </tbody>\n</table>\n</div>"
     },
     "execution_count": 58,
     "metadata": {},
     "output_type": "execute_result"
    }
   ],
   "source": [
    "prov_id = pd.DataFrame(r)\n",
    "prov_id.head()"
   ],
   "metadata": {
    "collapsed": false,
    "pycharm": {
     "name": "#%%\n"
    }
   }
  },
  {
   "cell_type": "markdown",
   "source": [
    "### 通过不同参数构造访问url"
   ],
   "metadata": {
    "collapsed": false,
    "pycharm": {
     "name": "#%% md\n"
    }
   }
  },
  {
   "cell_type": "markdown",
   "source": [
    "### 常规分类方式"
   ],
   "metadata": {
    "collapsed": false,
    "pycharm": {
     "name": "#%% md\n"
    }
   }
  },
  {
   "cell_type": "code",
   "execution_count": 59,
   "outputs": [
    {
     "name": "stdout",
     "output_type": "stream",
     "text": [
      "{'100001': '华北',\n",
      " '100002': '东北',\n",
      " '100003': '华东',\n",
      " '100004': '中南',\n",
      " '100005': '西南',\n",
      " '100006': '西北'}\n"
     ]
    }
   ],
   "source": [
    "list_pid = [ str(pid) for pid in np.arange(100001, 100006+1) ]\n",
    "list_pid_cn = ['华北', '东北', '华东', '中南', '西南', '西北']\n",
    "pid_dict = dict(zip(list_pid, list_pid_cn))\n",
    "del list_pid_cn\n",
    "pprint(pid_dict)"
   ],
   "metadata": {
    "collapsed": false,
    "pycharm": {
     "name": "#%%\n"
    }
   }
  },
  {
   "cell_type": "code",
   "execution_count": 60,
   "outputs": [],
   "source": [
    "# 构造params 参数\n",
    "# treeId可选值为 100001 - 100006\n",
    "# treeId经过分析, 是一系列可选列表, 而df是dbcode, 目前有fsnd,fsyd不影响请求结果\n",
    "def set_params(tree_id:str, db='fsnd'):\n",
    "    return {\n",
    "        'm':'findZbXl',\n",
    "        'db':db,\n",
    "        'wd':'reg',\n",
    "        'treeId':tree_id\n",
    "    }"
   ],
   "metadata": {
    "collapsed": false,
    "pycharm": {
     "name": "#%%\n"
    }
   }
  },
  {
   "cell_type": "code",
   "execution_count": 61,
   "outputs": [
    {
     "name": "stdout",
     "output_type": "stream",
     "text": [
      "https://data.stats.gov.cn/adv.htm?m=findZbXl&db=fsnd&wd=reg&treeId=100001\n",
      "utf-8\n"
     ]
    },
    {
     "data": {
      "text/plain": "  dbcode exp      id  isParent    name   open     pid   wd pid_name\n0   fsnd      110000      True     北京市  False  100001  reg       华北\n1   fsnd      120000      True     天津市  False  100001  reg       华北\n2   fsnd      130000      True     河北省  False  100001  reg       华北\n3   fsnd      140000      True     山西省  False  100001  reg       华北\n4   fsnd      150000      True  内蒙古自治区  False  100001  reg       华北",
      "text/html": "<div>\n<style scoped>\n    .dataframe tbody tr th:only-of-type {\n        vertical-align: middle;\n    }\n\n    .dataframe tbody tr th {\n        vertical-align: top;\n    }\n\n    .dataframe thead th {\n        text-align: right;\n    }\n</style>\n<table border=\"1\" class=\"dataframe\">\n  <thead>\n    <tr style=\"text-align: right;\">\n      <th></th>\n      <th>dbcode</th>\n      <th>exp</th>\n      <th>id</th>\n      <th>isParent</th>\n      <th>name</th>\n      <th>open</th>\n      <th>pid</th>\n      <th>wd</th>\n      <th>pid_name</th>\n    </tr>\n  </thead>\n  <tbody>\n    <tr>\n      <th>0</th>\n      <td>fsnd</td>\n      <td></td>\n      <td>110000</td>\n      <td>True</td>\n      <td>北京市</td>\n      <td>False</td>\n      <td>100001</td>\n      <td>reg</td>\n      <td>华北</td>\n    </tr>\n    <tr>\n      <th>1</th>\n      <td>fsnd</td>\n      <td></td>\n      <td>120000</td>\n      <td>True</td>\n      <td>天津市</td>\n      <td>False</td>\n      <td>100001</td>\n      <td>reg</td>\n      <td>华北</td>\n    </tr>\n    <tr>\n      <th>2</th>\n      <td>fsnd</td>\n      <td></td>\n      <td>130000</td>\n      <td>True</td>\n      <td>河北省</td>\n      <td>False</td>\n      <td>100001</td>\n      <td>reg</td>\n      <td>华北</td>\n    </tr>\n    <tr>\n      <th>3</th>\n      <td>fsnd</td>\n      <td></td>\n      <td>140000</td>\n      <td>True</td>\n      <td>山西省</td>\n      <td>False</td>\n      <td>100001</td>\n      <td>reg</td>\n      <td>华北</td>\n    </tr>\n    <tr>\n      <th>4</th>\n      <td>fsnd</td>\n      <td></td>\n      <td>150000</td>\n      <td>True</td>\n      <td>内蒙古自治区</td>\n      <td>False</td>\n      <td>100001</td>\n      <td>reg</td>\n      <td>华北</td>\n    </tr>\n  </tbody>\n</table>\n</div>"
     },
     "execution_count": 61,
     "metadata": {},
     "output_type": "execute_result"
    }
   ],
   "source": [
    "# 单页\n",
    "base_url = 'https://data.stats.gov.cn/adv.htm?'\n",
    "params = set_params('100001')\n",
    "# verify = certifi.where() # 依旧产生ssl错误, 直接设置verify为false\n",
    "r = requests.get(base_url,params=params,verify=False)\n",
    "print(r.url)\n",
    "print(r.encoding)\n",
    "r = pd.DataFrame(r.json())\n",
    "r = r.assign(pid_name=pid_dict.get('100001')) # 添加地区类别信息\n",
    "r.head()"
   ],
   "metadata": {
    "collapsed": false,
    "pycharm": {
     "name": "#%%\n"
    }
   }
  },
  {
   "cell_type": "code",
   "execution_count": 62,
   "outputs": [
    {
     "name": "stderr",
     "output_type": "stream",
     "text": [
      "100%|██████████| 6/6 [00:02<00:00,  2.71it/s]\n"
     ]
    }
   ],
   "source": [
    "# 多页采集\n",
    "base_url = 'https://data.stats.gov.cn/adv.htm?'\n",
    "df = []\n",
    "for treeId in tqdm(list_pid):\n",
    "    params = set_params(treeId)\n",
    "    r = requests.get(base_url,params=params,verify=False).json()\n",
    "    r = pd.DataFrame(r).assign(pid_name = pid_dict.get(treeId))\n",
    "    df.append(r)\n",
    "    time.sleep(np.random.rand() * 0.1)\n",
    "pid = pd.concat(df)"
   ],
   "metadata": {
    "collapsed": false,
    "pycharm": {
     "name": "#%%\n"
    }
   }
  },
  {
   "cell_type": "code",
   "execution_count": 63,
   "outputs": [],
   "source": [
    "# type(np.random.rand()) # rand函数不提供形状返回float,但是IDE还是会警告array"
   ],
   "metadata": {
    "collapsed": false,
    "pycharm": {
     "name": "#%%\n"
    }
   }
  },
  {
   "cell_type": "code",
   "execution_count": 64,
   "outputs": [
    {
     "data": {
      "text/plain": "  dbcode exp      id  isParent name   open     pid   wd pid_name\n0   fsnd      110000      True  北京市  False  100001  reg       华北\n1   fsnd      120000      True  天津市  False  100001  reg       华北\n2   fsnd      130000      True  河北省  False  100001  reg       华北",
      "text/html": "<div>\n<style scoped>\n    .dataframe tbody tr th:only-of-type {\n        vertical-align: middle;\n    }\n\n    .dataframe tbody tr th {\n        vertical-align: top;\n    }\n\n    .dataframe thead th {\n        text-align: right;\n    }\n</style>\n<table border=\"1\" class=\"dataframe\">\n  <thead>\n    <tr style=\"text-align: right;\">\n      <th></th>\n      <th>dbcode</th>\n      <th>exp</th>\n      <th>id</th>\n      <th>isParent</th>\n      <th>name</th>\n      <th>open</th>\n      <th>pid</th>\n      <th>wd</th>\n      <th>pid_name</th>\n    </tr>\n  </thead>\n  <tbody>\n    <tr>\n      <th>0</th>\n      <td>fsnd</td>\n      <td></td>\n      <td>110000</td>\n      <td>True</td>\n      <td>北京市</td>\n      <td>False</td>\n      <td>100001</td>\n      <td>reg</td>\n      <td>华北</td>\n    </tr>\n    <tr>\n      <th>1</th>\n      <td>fsnd</td>\n      <td></td>\n      <td>120000</td>\n      <td>True</td>\n      <td>天津市</td>\n      <td>False</td>\n      <td>100001</td>\n      <td>reg</td>\n      <td>华北</td>\n    </tr>\n    <tr>\n      <th>2</th>\n      <td>fsnd</td>\n      <td></td>\n      <td>130000</td>\n      <td>True</td>\n      <td>河北省</td>\n      <td>False</td>\n      <td>100001</td>\n      <td>reg</td>\n      <td>华北</td>\n    </tr>\n  </tbody>\n</table>\n</div>"
     },
     "execution_count": 64,
     "metadata": {},
     "output_type": "execute_result"
    }
   ],
   "source": [
    "pid.head(3)"
   ],
   "metadata": {
    "collapsed": false,
    "pycharm": {
     "name": "#%%\n"
    }
   }
  },
  {
   "cell_type": "code",
   "execution_count": 65,
   "outputs": [
    {
     "data": {
      "text/plain": "   dbcode exp      id  isParent      name   open pid   wd\n28   fsnd      630000      True       青海省  False  00  reg\n29   fsnd      640000      True   宁夏回族自治区  False  00  reg\n30   fsnd      650000      True  新疆维吾尔自治区  False  00  reg",
      "text/html": "<div>\n<style scoped>\n    .dataframe tbody tr th:only-of-type {\n        vertical-align: middle;\n    }\n\n    .dataframe tbody tr th {\n        vertical-align: top;\n    }\n\n    .dataframe thead th {\n        text-align: right;\n    }\n</style>\n<table border=\"1\" class=\"dataframe\">\n  <thead>\n    <tr style=\"text-align: right;\">\n      <th></th>\n      <th>dbcode</th>\n      <th>exp</th>\n      <th>id</th>\n      <th>isParent</th>\n      <th>name</th>\n      <th>open</th>\n      <th>pid</th>\n      <th>wd</th>\n    </tr>\n  </thead>\n  <tbody>\n    <tr>\n      <th>28</th>\n      <td>fsnd</td>\n      <td></td>\n      <td>630000</td>\n      <td>True</td>\n      <td>青海省</td>\n      <td>False</td>\n      <td>00</td>\n      <td>reg</td>\n    </tr>\n    <tr>\n      <th>29</th>\n      <td>fsnd</td>\n      <td></td>\n      <td>640000</td>\n      <td>True</td>\n      <td>宁夏回族自治区</td>\n      <td>False</td>\n      <td>00</td>\n      <td>reg</td>\n    </tr>\n    <tr>\n      <th>30</th>\n      <td>fsnd</td>\n      <td></td>\n      <td>650000</td>\n      <td>True</td>\n      <td>新疆维吾尔自治区</td>\n      <td>False</td>\n      <td>00</td>\n      <td>reg</td>\n    </tr>\n  </tbody>\n</table>\n</div>"
     },
     "execution_count": 65,
     "metadata": {},
     "output_type": "execute_result"
    }
   ],
   "source": [
    "prov_id.tail(3)"
   ],
   "metadata": {
    "collapsed": false,
    "pycharm": {
     "name": "#%%\n"
    }
   }
  },
  {
   "cell_type": "markdown",
   "source": [
    "### 数据合并,去除不必要的列"
   ],
   "metadata": {
    "collapsed": false,
    "pycharm": {
     "name": "#%% md\n"
    }
   }
  },
  {
   "cell_type": "code",
   "execution_count": 66,
   "outputs": [
    {
     "data": {
      "text/plain": "  dbcode exp      id  isParent name   open   wd general_name\n0   fsnd      110000      True  北京市  False  reg           华北\n1   fsnd      120000      True  天津市  False  reg           华北\n2   fsnd      130000      True  河北省  False  reg           华北",
      "text/html": "<div>\n<style scoped>\n    .dataframe tbody tr th:only-of-type {\n        vertical-align: middle;\n    }\n\n    .dataframe tbody tr th {\n        vertical-align: top;\n    }\n\n    .dataframe thead th {\n        text-align: right;\n    }\n</style>\n<table border=\"1\" class=\"dataframe\">\n  <thead>\n    <tr style=\"text-align: right;\">\n      <th></th>\n      <th>dbcode</th>\n      <th>exp</th>\n      <th>id</th>\n      <th>isParent</th>\n      <th>name</th>\n      <th>open</th>\n      <th>wd</th>\n      <th>general_name</th>\n    </tr>\n  </thead>\n  <tbody>\n    <tr>\n      <th>0</th>\n      <td>fsnd</td>\n      <td></td>\n      <td>110000</td>\n      <td>True</td>\n      <td>北京市</td>\n      <td>False</td>\n      <td>reg</td>\n      <td>华北</td>\n    </tr>\n    <tr>\n      <th>1</th>\n      <td>fsnd</td>\n      <td></td>\n      <td>120000</td>\n      <td>True</td>\n      <td>天津市</td>\n      <td>False</td>\n      <td>reg</td>\n      <td>华北</td>\n    </tr>\n    <tr>\n      <th>2</th>\n      <td>fsnd</td>\n      <td></td>\n      <td>130000</td>\n      <td>True</td>\n      <td>河北省</td>\n      <td>False</td>\n      <td>reg</td>\n      <td>华北</td>\n    </tr>\n  </tbody>\n</table>\n</div>"
     },
     "execution_count": 66,
     "metadata": {},
     "output_type": "execute_result"
    }
   ],
   "source": [
    "pid = pid.loc[:,['id', 'name', 'pid_name']].rename(columns={'pid_name':'general_name'})\n",
    "prov_id = prov_id.drop(columns=['pid']).merge(pid, how='left', on=['id', 'name'])\n",
    "prov_id.head(3)"
   ],
   "metadata": {
    "collapsed": false,
    "pycharm": {
     "name": "#%%\n"
    }
   }
  },
  {
   "cell_type": "markdown",
   "source": [
    "### 热点地区分类方式 - 放弃使用"
   ],
   "metadata": {
    "collapsed": false,
    "pycharm": {
     "name": "#%% md\n"
    }
   }
  },
  {
   "cell_type": "code",
   "execution_count": 67,
   "outputs": [],
   "source": [
    "# base_url = 'https://data.stats.gov.cn/adv.htm'\n",
    "# pid_dict = {\n",
    "#     '200001':'长江三角洲', '200002':'环渤海地区',\n",
    "#     '200003':'泛珠三角', '200004':'东部地区', '200005':'西部地区'\n",
    "# }"
   ],
   "metadata": {
    "collapsed": false,
    "pycharm": {
     "name": "#%%\n"
    }
   }
  },
  {
   "cell_type": "code",
   "execution_count": 68,
   "outputs": [],
   "source": [
    "def get_prov_info( pid_dict:dict, base_url:str, db='fsnd' ):\n",
    "    df = []\n",
    "    for tree_id in tqdm(list(pid_dict)):\n",
    "        params = set_params(tree_id, db=db)\n",
    "        r = requests.get(base_url, params=params,verify=False).json()\n",
    "        r = pd.DataFrame(r).assign(pid_name = pid_dict.get(tree_id))\n",
    "        df.append(r)\n",
    "        time.sleep(np.random.rand() * 0.1)\n",
    "    return pd.concat(df)"
   ],
   "metadata": {
    "collapsed": false,
    "pycharm": {
     "name": "#%%\n"
    }
   }
  },
  {
   "cell_type": "code",
   "execution_count": 69,
   "outputs": [],
   "source": [
    "# pid = get_prov_info(pid_dict, base_url)\n",
    "# pid.sample(3)"
   ],
   "metadata": {
    "collapsed": false,
    "pycharm": {
     "name": "#%%\n"
    }
   }
  },
  {
   "cell_type": "code",
   "execution_count": 70,
   "outputs": [],
   "source": [
    "# pid = pid.loc[:,['id', 'name', 'pid_name']].rename(columns={'pid_name':'hot_spot_name'})\n",
    "# prov_id = prov_id.merge(pid, how='left', on=['id', 'name'])\n",
    "# prov_id.sample(3)"
   ],
   "metadata": {
    "collapsed": false,
    "pycharm": {
     "name": "#%%\n"
    }
   }
  },
  {
   "cell_type": "markdown",
   "source": [
    "### 八大经济地区-economic"
   ],
   "metadata": {
    "collapsed": false,
    "pycharm": {
     "name": "#%% md\n"
    }
   }
  },
  {
   "cell_type": "code",
   "execution_count": 71,
   "outputs": [],
   "source": [
    "base_url = 'https://data.stats.gov.cn/adv.htm'\n",
    "pid_dict = {\n",
    "    '800001':'东北地区', '800002':'北部沿海', '800003':'东部沿海', '800004':'南部沿海',\n",
    "    '800005':'黄河中游', '800006':'长江中游', '800007':'西南地区', '800008':'大西北地区'\n",
    "}"
   ],
   "metadata": {
    "collapsed": false,
    "pycharm": {
     "name": "#%%\n"
    }
   }
  },
  {
   "cell_type": "code",
   "execution_count": 72,
   "outputs": [
    {
     "name": "stderr",
     "output_type": "stream",
     "text": [
      "100%|██████████| 8/8 [00:03<00:00,  2.29it/s]\n"
     ]
    },
    {
     "data": {
      "text/plain": "  dbcode exp      id  isParent  name   open     pid   wd pid_name\n0   fsyd      210000      True   辽宁省  False  800001  reg     东北地区\n1   fsyd      220000      True   吉林省  False  800001  reg     东北地区\n2   fsyd      230000      True  黑龙江省  False  800001  reg     东北地区\n0   fsyd      110000      True   北京市  False  800002  reg     北部沿海\n1   fsyd      120000      True   天津市  False  800002  reg     北部沿海",
      "text/html": "<div>\n<style scoped>\n    .dataframe tbody tr th:only-of-type {\n        vertical-align: middle;\n    }\n\n    .dataframe tbody tr th {\n        vertical-align: top;\n    }\n\n    .dataframe thead th {\n        text-align: right;\n    }\n</style>\n<table border=\"1\" class=\"dataframe\">\n  <thead>\n    <tr style=\"text-align: right;\">\n      <th></th>\n      <th>dbcode</th>\n      <th>exp</th>\n      <th>id</th>\n      <th>isParent</th>\n      <th>name</th>\n      <th>open</th>\n      <th>pid</th>\n      <th>wd</th>\n      <th>pid_name</th>\n    </tr>\n  </thead>\n  <tbody>\n    <tr>\n      <th>0</th>\n      <td>fsyd</td>\n      <td></td>\n      <td>210000</td>\n      <td>True</td>\n      <td>辽宁省</td>\n      <td>False</td>\n      <td>800001</td>\n      <td>reg</td>\n      <td>东北地区</td>\n    </tr>\n    <tr>\n      <th>1</th>\n      <td>fsyd</td>\n      <td></td>\n      <td>220000</td>\n      <td>True</td>\n      <td>吉林省</td>\n      <td>False</td>\n      <td>800001</td>\n      <td>reg</td>\n      <td>东北地区</td>\n    </tr>\n    <tr>\n      <th>2</th>\n      <td>fsyd</td>\n      <td></td>\n      <td>230000</td>\n      <td>True</td>\n      <td>黑龙江省</td>\n      <td>False</td>\n      <td>800001</td>\n      <td>reg</td>\n      <td>东北地区</td>\n    </tr>\n    <tr>\n      <th>0</th>\n      <td>fsyd</td>\n      <td></td>\n      <td>110000</td>\n      <td>True</td>\n      <td>北京市</td>\n      <td>False</td>\n      <td>800002</td>\n      <td>reg</td>\n      <td>北部沿海</td>\n    </tr>\n    <tr>\n      <th>1</th>\n      <td>fsyd</td>\n      <td></td>\n      <td>120000</td>\n      <td>True</td>\n      <td>天津市</td>\n      <td>False</td>\n      <td>800002</td>\n      <td>reg</td>\n      <td>北部沿海</td>\n    </tr>\n  </tbody>\n</table>\n</div>"
     },
     "execution_count": 72,
     "metadata": {},
     "output_type": "execute_result"
    }
   ],
   "source": [
    "pid = get_prov_info(pid_dict, base_url,db='fsyd')\n",
    "pid.head()"
   ],
   "metadata": {
    "collapsed": false,
    "pycharm": {
     "name": "#%%\n"
    }
   }
  },
  {
   "cell_type": "code",
   "execution_count": 73,
   "outputs": [
    {
     "data": {
      "text/plain": "   dbcode exp      id  isParent    name   open   wd general_name economic_name\n4    fsnd      150000      True  内蒙古自治区  False  reg           华北          黄河中游\n20   fsnd      460000      True     海南省  False  reg           中南          南部沿海\n12   fsnd      350000      True     福建省  False  reg           华东          南部沿海",
      "text/html": "<div>\n<style scoped>\n    .dataframe tbody tr th:only-of-type {\n        vertical-align: middle;\n    }\n\n    .dataframe tbody tr th {\n        vertical-align: top;\n    }\n\n    .dataframe thead th {\n        text-align: right;\n    }\n</style>\n<table border=\"1\" class=\"dataframe\">\n  <thead>\n    <tr style=\"text-align: right;\">\n      <th></th>\n      <th>dbcode</th>\n      <th>exp</th>\n      <th>id</th>\n      <th>isParent</th>\n      <th>name</th>\n      <th>open</th>\n      <th>wd</th>\n      <th>general_name</th>\n      <th>economic_name</th>\n    </tr>\n  </thead>\n  <tbody>\n    <tr>\n      <th>4</th>\n      <td>fsnd</td>\n      <td></td>\n      <td>150000</td>\n      <td>True</td>\n      <td>内蒙古自治区</td>\n      <td>False</td>\n      <td>reg</td>\n      <td>华北</td>\n      <td>黄河中游</td>\n    </tr>\n    <tr>\n      <th>20</th>\n      <td>fsnd</td>\n      <td></td>\n      <td>460000</td>\n      <td>True</td>\n      <td>海南省</td>\n      <td>False</td>\n      <td>reg</td>\n      <td>中南</td>\n      <td>南部沿海</td>\n    </tr>\n    <tr>\n      <th>12</th>\n      <td>fsnd</td>\n      <td></td>\n      <td>350000</td>\n      <td>True</td>\n      <td>福建省</td>\n      <td>False</td>\n      <td>reg</td>\n      <td>华东</td>\n      <td>南部沿海</td>\n    </tr>\n  </tbody>\n</table>\n</div>"
     },
     "execution_count": 73,
     "metadata": {},
     "output_type": "execute_result"
    }
   ],
   "source": [
    "pid = pid.loc[:,['id', 'name', 'pid_name']].rename(columns={'pid_name':'economic_name'})\n",
    "prov_id = prov_id.merge(pid, how='left', on=['id', 'name'])\n",
    "prov_id.sample(3)"
   ],
   "metadata": {
    "collapsed": false,
    "pycharm": {
     "name": "#%%\n"
    }
   }
  },
  {
   "cell_type": "markdown",
   "source": [
    "### 三大地带——region3"
   ],
   "metadata": {
    "collapsed": false,
    "pycharm": {
     "name": "#%% md\n"
    }
   }
  },
  {
   "cell_type": "code",
   "execution_count": 74,
   "outputs": [],
   "source": [
    "base_url = 'https://data.stats.gov.cn/adv.htm'\n",
    "pid_dict = {\n",
    "    '900001':'东部地带', '900002':'中部地带', '900003':'西部地带'\n",
    "}"
   ],
   "metadata": {
    "collapsed": false,
    "pycharm": {
     "name": "#%%\n"
    }
   }
  },
  {
   "cell_type": "code",
   "execution_count": 75,
   "outputs": [
    {
     "name": "stderr",
     "output_type": "stream",
     "text": [
      "100%|██████████| 3/3 [00:01<00:00,  2.50it/s]\n"
     ]
    },
    {
     "data": {
      "text/plain": "  dbcode exp      id  isParent name   open     pid   wd pid_name\n0   fsyd      110000      True  北京市  False  900001  reg     东部地带\n1   fsyd      120000      True  天津市  False  900001  reg     东部地带\n2   fsyd      130000      True  河北省  False  900001  reg     东部地带\n3   fsyd      210000      True  辽宁省  False  900001  reg     东部地带\n4   fsyd      310000      True  上海市  False  900001  reg     东部地带",
      "text/html": "<div>\n<style scoped>\n    .dataframe tbody tr th:only-of-type {\n        vertical-align: middle;\n    }\n\n    .dataframe tbody tr th {\n        vertical-align: top;\n    }\n\n    .dataframe thead th {\n        text-align: right;\n    }\n</style>\n<table border=\"1\" class=\"dataframe\">\n  <thead>\n    <tr style=\"text-align: right;\">\n      <th></th>\n      <th>dbcode</th>\n      <th>exp</th>\n      <th>id</th>\n      <th>isParent</th>\n      <th>name</th>\n      <th>open</th>\n      <th>pid</th>\n      <th>wd</th>\n      <th>pid_name</th>\n    </tr>\n  </thead>\n  <tbody>\n    <tr>\n      <th>0</th>\n      <td>fsyd</td>\n      <td></td>\n      <td>110000</td>\n      <td>True</td>\n      <td>北京市</td>\n      <td>False</td>\n      <td>900001</td>\n      <td>reg</td>\n      <td>东部地带</td>\n    </tr>\n    <tr>\n      <th>1</th>\n      <td>fsyd</td>\n      <td></td>\n      <td>120000</td>\n      <td>True</td>\n      <td>天津市</td>\n      <td>False</td>\n      <td>900001</td>\n      <td>reg</td>\n      <td>东部地带</td>\n    </tr>\n    <tr>\n      <th>2</th>\n      <td>fsyd</td>\n      <td></td>\n      <td>130000</td>\n      <td>True</td>\n      <td>河北省</td>\n      <td>False</td>\n      <td>900001</td>\n      <td>reg</td>\n      <td>东部地带</td>\n    </tr>\n    <tr>\n      <th>3</th>\n      <td>fsyd</td>\n      <td></td>\n      <td>210000</td>\n      <td>True</td>\n      <td>辽宁省</td>\n      <td>False</td>\n      <td>900001</td>\n      <td>reg</td>\n      <td>东部地带</td>\n    </tr>\n    <tr>\n      <th>4</th>\n      <td>fsyd</td>\n      <td></td>\n      <td>310000</td>\n      <td>True</td>\n      <td>上海市</td>\n      <td>False</td>\n      <td>900001</td>\n      <td>reg</td>\n      <td>东部地带</td>\n    </tr>\n  </tbody>\n</table>\n</div>"
     },
     "execution_count": 75,
     "metadata": {},
     "output_type": "execute_result"
    }
   ],
   "source": [
    "pid = get_prov_info(pid_dict, base_url,db='fsyd')\n",
    "pid.head()"
   ],
   "metadata": {
    "collapsed": false,
    "pycharm": {
     "name": "#%%\n"
    }
   }
  },
  {
   "cell_type": "code",
   "execution_count": 76,
   "outputs": [
    {
     "data": {
      "text/plain": "   dbcode exp      id  isParent name   open   wd general_name economic_name  \\\n27   fsnd      620000      True  甘肃省  False  reg           西北         大西北地区   \n12   fsnd      350000      True  福建省  False  reg           华东          南部沿海   \n5    fsnd      210000      True  辽宁省  False  reg           东北          东北地区   \n\n   region3_name  \n27         西部地带  \n12         东部地带  \n5          东部地带  ",
      "text/html": "<div>\n<style scoped>\n    .dataframe tbody tr th:only-of-type {\n        vertical-align: middle;\n    }\n\n    .dataframe tbody tr th {\n        vertical-align: top;\n    }\n\n    .dataframe thead th {\n        text-align: right;\n    }\n</style>\n<table border=\"1\" class=\"dataframe\">\n  <thead>\n    <tr style=\"text-align: right;\">\n      <th></th>\n      <th>dbcode</th>\n      <th>exp</th>\n      <th>id</th>\n      <th>isParent</th>\n      <th>name</th>\n      <th>open</th>\n      <th>wd</th>\n      <th>general_name</th>\n      <th>economic_name</th>\n      <th>region3_name</th>\n    </tr>\n  </thead>\n  <tbody>\n    <tr>\n      <th>27</th>\n      <td>fsnd</td>\n      <td></td>\n      <td>620000</td>\n      <td>True</td>\n      <td>甘肃省</td>\n      <td>False</td>\n      <td>reg</td>\n      <td>西北</td>\n      <td>大西北地区</td>\n      <td>西部地带</td>\n    </tr>\n    <tr>\n      <th>12</th>\n      <td>fsnd</td>\n      <td></td>\n      <td>350000</td>\n      <td>True</td>\n      <td>福建省</td>\n      <td>False</td>\n      <td>reg</td>\n      <td>华东</td>\n      <td>南部沿海</td>\n      <td>东部地带</td>\n    </tr>\n    <tr>\n      <th>5</th>\n      <td>fsnd</td>\n      <td></td>\n      <td>210000</td>\n      <td>True</td>\n      <td>辽宁省</td>\n      <td>False</td>\n      <td>reg</td>\n      <td>东北</td>\n      <td>东北地区</td>\n      <td>东部地带</td>\n    </tr>\n  </tbody>\n</table>\n</div>"
     },
     "execution_count": 76,
     "metadata": {},
     "output_type": "execute_result"
    }
   ],
   "source": [
    "pid = pid.loc[:,['id', 'name', 'pid_name']].rename(columns={'pid_name':'region3_name'})\n",
    "prov_id = prov_id.merge(pid, how='left', on=['id', 'name'])\n",
    "prov_id.sample(3)"
   ],
   "metadata": {
    "collapsed": false,
    "pycharm": {
     "name": "#%%\n"
    }
   }
  },
  {
   "cell_type": "code",
   "execution_count": 77,
   "outputs": [
    {
     "data": {
      "text/plain": "       id    name general_name economic_name region3_name\n0  110000     北京市           华北          北部沿海         东部地带\n1  120000     天津市           华北          北部沿海         东部地带\n2  130000     河北省           华北          北部沿海         东部地带\n3  140000     山西省           华北          黄河中游         中部地带\n4  150000  内蒙古自治区           华北          黄河中游         西部地带",
      "text/html": "<div>\n<style scoped>\n    .dataframe tbody tr th:only-of-type {\n        vertical-align: middle;\n    }\n\n    .dataframe tbody tr th {\n        vertical-align: top;\n    }\n\n    .dataframe thead th {\n        text-align: right;\n    }\n</style>\n<table border=\"1\" class=\"dataframe\">\n  <thead>\n    <tr style=\"text-align: right;\">\n      <th></th>\n      <th>id</th>\n      <th>name</th>\n      <th>general_name</th>\n      <th>economic_name</th>\n      <th>region3_name</th>\n    </tr>\n  </thead>\n  <tbody>\n    <tr>\n      <th>0</th>\n      <td>110000</td>\n      <td>北京市</td>\n      <td>华北</td>\n      <td>北部沿海</td>\n      <td>东部地带</td>\n    </tr>\n    <tr>\n      <th>1</th>\n      <td>120000</td>\n      <td>天津市</td>\n      <td>华北</td>\n      <td>北部沿海</td>\n      <td>东部地带</td>\n    </tr>\n    <tr>\n      <th>2</th>\n      <td>130000</td>\n      <td>河北省</td>\n      <td>华北</td>\n      <td>北部沿海</td>\n      <td>东部地带</td>\n    </tr>\n    <tr>\n      <th>3</th>\n      <td>140000</td>\n      <td>山西省</td>\n      <td>华北</td>\n      <td>黄河中游</td>\n      <td>中部地带</td>\n    </tr>\n    <tr>\n      <th>4</th>\n      <td>150000</td>\n      <td>内蒙古自治区</td>\n      <td>华北</td>\n      <td>黄河中游</td>\n      <td>西部地带</td>\n    </tr>\n  </tbody>\n</table>\n</div>"
     },
     "execution_count": 77,
     "metadata": {},
     "output_type": "execute_result"
    }
   ],
   "source": [
    "prov_id = prov_id.drop(columns=['dbcode', 'exp','isParent', 'open', 'wd']).reset_index(drop=True)\n",
    "prov_id"
   ],
   "metadata": {
    "collapsed": false,
    "pycharm": {
     "name": "#%%\n"
    }
   }
  },
  {
   "cell_type": "code",
   "execution_count": 78,
   "outputs": [
    {
     "data": {
      "text/plain": "        id      name general_name economic_name region3_name\n0   110000       北京市           华北          北部沿海         东部地带\n1   120000       天津市           华北          北部沿海         东部地带\n2   130000       河北省           华北          北部沿海         东部地带\n3   140000       山西省           华北          黄河中游         中部地带\n4   150000    内蒙古自治区           华北          黄河中游         西部地带\n5   210000       辽宁省           东北          东北地区         东部地带\n6   220000       吉林省           东北          东北地区         中部地带\n7   230000      黑龙江省           东北          东北地区         中部地带\n8   310000       上海市           华东          东部沿海         东部地带\n9   320000       江苏省           华东          东部沿海         东部地带\n10  330000       浙江省           华东          东部沿海         东部地带\n11  340000       安徽省           华东          长江中游         中部地带\n12  350000       福建省           华东          南部沿海         东部地带\n13  360000       江西省           华东          长江中游         中部地带\n14  370000       山东省           华东          北部沿海         东部地带\n15  410000       河南省           中南          黄河中游         中部地带\n16  420000       湖北省           中南          长江中游         中部地带\n17  430000       湖南省           中南          长江中游         中部地带\n18  440000       广东省           中南          南部沿海         东部地带\n19  450000   广西壮族自治区           中南          西南地区         西部地带\n20  460000       海南省           中南          南部沿海         东部地带\n21  500000       重庆市           西南          西南地区         西部地带\n22  510000       四川省           西南          西南地区         西部地带\n23  520000       贵州省           西南          西南地区         西部地带\n24  530000       云南省           西南          西南地区         西部地带\n25  540000     西藏自治区           西南         大西北地区         西部地带\n26  610000       陕西省           西北          黄河中游         西部地带\n27  620000       甘肃省           西北         大西北地区         西部地带\n28  630000       青海省           西北         大西北地区         西部地带\n29  640000   宁夏回族自治区           西北         大西北地区         西部地带\n30  650000  新疆维吾尔自治区           西北         大西北地区         西部地带",
      "text/html": "<div>\n<style scoped>\n    .dataframe tbody tr th:only-of-type {\n        vertical-align: middle;\n    }\n\n    .dataframe tbody tr th {\n        vertical-align: top;\n    }\n\n    .dataframe thead th {\n        text-align: right;\n    }\n</style>\n<table border=\"1\" class=\"dataframe\">\n  <thead>\n    <tr style=\"text-align: right;\">\n      <th></th>\n      <th>id</th>\n      <th>name</th>\n      <th>general_name</th>\n      <th>economic_name</th>\n      <th>region3_name</th>\n    </tr>\n  </thead>\n  <tbody>\n    <tr>\n      <th>0</th>\n      <td>110000</td>\n      <td>北京市</td>\n      <td>华北</td>\n      <td>北部沿海</td>\n      <td>东部地带</td>\n    </tr>\n    <tr>\n      <th>1</th>\n      <td>120000</td>\n      <td>天津市</td>\n      <td>华北</td>\n      <td>北部沿海</td>\n      <td>东部地带</td>\n    </tr>\n    <tr>\n      <th>2</th>\n      <td>130000</td>\n      <td>河北省</td>\n      <td>华北</td>\n      <td>北部沿海</td>\n      <td>东部地带</td>\n    </tr>\n    <tr>\n      <th>3</th>\n      <td>140000</td>\n      <td>山西省</td>\n      <td>华北</td>\n      <td>黄河中游</td>\n      <td>中部地带</td>\n    </tr>\n    <tr>\n      <th>4</th>\n      <td>150000</td>\n      <td>内蒙古自治区</td>\n      <td>华北</td>\n      <td>黄河中游</td>\n      <td>西部地带</td>\n    </tr>\n    <tr>\n      <th>5</th>\n      <td>210000</td>\n      <td>辽宁省</td>\n      <td>东北</td>\n      <td>东北地区</td>\n      <td>东部地带</td>\n    </tr>\n    <tr>\n      <th>6</th>\n      <td>220000</td>\n      <td>吉林省</td>\n      <td>东北</td>\n      <td>东北地区</td>\n      <td>中部地带</td>\n    </tr>\n    <tr>\n      <th>7</th>\n      <td>230000</td>\n      <td>黑龙江省</td>\n      <td>东北</td>\n      <td>东北地区</td>\n      <td>中部地带</td>\n    </tr>\n    <tr>\n      <th>8</th>\n      <td>310000</td>\n      <td>上海市</td>\n      <td>华东</td>\n      <td>东部沿海</td>\n      <td>东部地带</td>\n    </tr>\n    <tr>\n      <th>9</th>\n      <td>320000</td>\n      <td>江苏省</td>\n      <td>华东</td>\n      <td>东部沿海</td>\n      <td>东部地带</td>\n    </tr>\n    <tr>\n      <th>10</th>\n      <td>330000</td>\n      <td>浙江省</td>\n      <td>华东</td>\n      <td>东部沿海</td>\n      <td>东部地带</td>\n    </tr>\n    <tr>\n      <th>11</th>\n      <td>340000</td>\n      <td>安徽省</td>\n      <td>华东</td>\n      <td>长江中游</td>\n      <td>中部地带</td>\n    </tr>\n    <tr>\n      <th>12</th>\n      <td>350000</td>\n      <td>福建省</td>\n      <td>华东</td>\n      <td>南部沿海</td>\n      <td>东部地带</td>\n    </tr>\n    <tr>\n      <th>13</th>\n      <td>360000</td>\n      <td>江西省</td>\n      <td>华东</td>\n      <td>长江中游</td>\n      <td>中部地带</td>\n    </tr>\n    <tr>\n      <th>14</th>\n      <td>370000</td>\n      <td>山东省</td>\n      <td>华东</td>\n      <td>北部沿海</td>\n      <td>东部地带</td>\n    </tr>\n    <tr>\n      <th>15</th>\n      <td>410000</td>\n      <td>河南省</td>\n      <td>中南</td>\n      <td>黄河中游</td>\n      <td>中部地带</td>\n    </tr>\n    <tr>\n      <th>16</th>\n      <td>420000</td>\n      <td>湖北省</td>\n      <td>中南</td>\n      <td>长江中游</td>\n      <td>中部地带</td>\n    </tr>\n    <tr>\n      <th>17</th>\n      <td>430000</td>\n      <td>湖南省</td>\n      <td>中南</td>\n      <td>长江中游</td>\n      <td>中部地带</td>\n    </tr>\n    <tr>\n      <th>18</th>\n      <td>440000</td>\n      <td>广东省</td>\n      <td>中南</td>\n      <td>南部沿海</td>\n      <td>东部地带</td>\n    </tr>\n    <tr>\n      <th>19</th>\n      <td>450000</td>\n      <td>广西壮族自治区</td>\n      <td>中南</td>\n      <td>西南地区</td>\n      <td>西部地带</td>\n    </tr>\n    <tr>\n      <th>20</th>\n      <td>460000</td>\n      <td>海南省</td>\n      <td>中南</td>\n      <td>南部沿海</td>\n      <td>东部地带</td>\n    </tr>\n    <tr>\n      <th>21</th>\n      <td>500000</td>\n      <td>重庆市</td>\n      <td>西南</td>\n      <td>西南地区</td>\n      <td>西部地带</td>\n    </tr>\n    <tr>\n      <th>22</th>\n      <td>510000</td>\n      <td>四川省</td>\n      <td>西南</td>\n      <td>西南地区</td>\n      <td>西部地带</td>\n    </tr>\n    <tr>\n      <th>23</th>\n      <td>520000</td>\n      <td>贵州省</td>\n      <td>西南</td>\n      <td>西南地区</td>\n      <td>西部地带</td>\n    </tr>\n    <tr>\n      <th>24</th>\n      <td>530000</td>\n      <td>云南省</td>\n      <td>西南</td>\n      <td>西南地区</td>\n      <td>西部地带</td>\n    </tr>\n    <tr>\n      <th>25</th>\n      <td>540000</td>\n      <td>西藏自治区</td>\n      <td>西南</td>\n      <td>大西北地区</td>\n      <td>西部地带</td>\n    </tr>\n    <tr>\n      <th>26</th>\n      <td>610000</td>\n      <td>陕西省</td>\n      <td>西北</td>\n      <td>黄河中游</td>\n      <td>西部地带</td>\n    </tr>\n    <tr>\n      <th>27</th>\n      <td>620000</td>\n      <td>甘肃省</td>\n      <td>西北</td>\n      <td>大西北地区</td>\n      <td>西部地带</td>\n    </tr>\n    <tr>\n      <th>28</th>\n      <td>630000</td>\n      <td>青海省</td>\n      <td>西北</td>\n      <td>大西北地区</td>\n      <td>西部地带</td>\n    </tr>\n    <tr>\n      <th>29</th>\n      <td>640000</td>\n      <td>宁夏回族自治区</td>\n      <td>西北</td>\n      <td>大西北地区</td>\n      <td>西部地带</td>\n    </tr>\n    <tr>\n      <th>30</th>\n      <td>650000</td>\n      <td>新疆维吾尔自治区</td>\n      <td>西北</td>\n      <td>大西北地区</td>\n      <td>西部地带</td>\n    </tr>\n  </tbody>\n</table>\n</div>"
     },
     "execution_count": 78,
     "metadata": {},
     "output_type": "execute_result"
    }
   ],
   "source": [
    "prov_id"
   ],
   "metadata": {
    "collapsed": false,
    "pycharm": {
     "name": "#%%\n"
    }
   }
  },
  {
   "cell_type": "code",
   "execution_count": 79,
   "outputs": [],
   "source": [
    "prov_id.to_csv('./data/prov_id.csv', index=False, encoding='utf-8')"
   ],
   "metadata": {
    "collapsed": false,
    "pycharm": {
     "name": "#%%\n"
    }
   }
  },
  {
   "cell_type": "code",
   "execution_count": null,
   "outputs": [],
   "source": [],
   "metadata": {
    "collapsed": false,
    "pycharm": {
     "name": "#%%\n"
    }
   }
  }
 ],
 "metadata": {
  "kernelspec": {
   "display_name": "Python 3",
   "language": "python",
   "name": "python3"
  },
  "language_info": {
   "codemirror_mode": {
    "name": "ipython",
    "version": 2
   },
   "file_extension": ".py",
   "mimetype": "text/x-python",
   "name": "python",
   "nbconvert_exporter": "python",
   "pygments_lexer": "ipython2",
   "version": "2.7.6"
  }
 },
 "nbformat": 4,
 "nbformat_minor": 0
}
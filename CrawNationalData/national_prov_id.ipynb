{
 "cells": [
  {
   "cell_type": "markdown",
   "source": [
    "### 国家统计局爬虫测试文件"
   ],
   "metadata": {
    "collapsed": false,
    "pycharm": {
     "name": "#%% md\n"
    }
   }
  },
  {
   "cell_type": "code",
   "execution_count": 88,
   "outputs": [],
   "source": [
    "from pprint import pprint\n",
    "# import os\n",
    "import requests\n",
    "import pandas as pd\n",
    "import numpy as np\n",
    "# import certifi\n",
    "import time\n",
    "import warnings\n",
    "from tqdm import tqdm"
   ],
   "metadata": {
    "collapsed": false,
    "pycharm": {
     "name": "#%%\n"
    }
   }
  },
  {
   "cell_type": "markdown",
   "source": [
    "#### 高级查询 + 分省年度, 查询所有地区的地区代码"
   ],
   "metadata": {
    "collapsed": false,
    "pycharm": {
     "name": "#%% md\n"
    }
   }
  },
  {
   "cell_type": "code",
   "execution_count": 89,
   "outputs": [],
   "source": [
    "from urllib3.exceptions import InsecureRequestWarning # 针对ssl验证产生警告的错书\n",
    "warnings.filterwarnings(\"ignore\", category=InsecureRequestWarning)"
   ],
   "metadata": {
    "collapsed": false,
    "pycharm": {
     "name": "#%%\n"
    }
   }
  },
  {
   "cell_type": "code",
   "execution_count": 90,
   "outputs": [
    {
     "name": "stdout",
     "output_type": "stream",
     "text": [
      "200\n",
      "utf-8\n"
     ]
    }
   ],
   "source": [
    "base_url = 'https://data.stats.gov.cn/adv.htm?m=findZbXl&db=fsnd&wd=reg&treeId=00'\n",
    "# SSLError, 关闭证书验证\n",
    "r = requests.get(base_url, verify=False) # 产生警告\n",
    "print(r.status_code)\n",
    "print(r.encoding)"
   ],
   "metadata": {
    "collapsed": false,
    "pycharm": {
     "name": "#%%\n"
    }
   }
  },
  {
   "cell_type": "markdown",
   "source": [
    "[InsecureRequestWarning报错解决方案](https://blog.csdn.net/weixin_40773848/article/details/126719313?spm=1001.2101.3001.6650.3&utm_medium=distribute.pc_relevant.none-task-blog-2%7Edefault%7EYuanLiJiHua%7EPosition-3-126719313-blog-82011282.pc_relevant_recovery_v2&depth_1-utm_source=distribute.pc_relevant.none-task-blog-2%7Edefault%7EYuanLiJiHua%7EPosition-3-126719313-blog-82011282.pc_relevant_recovery_v2&utm_relevant_index=4)\n",
    "> 安装certifi包, pip install certifi\n",
    "> 通过 certifi.where查询证书路径\n",
    "> 在requests中通过verify参数指定证书路径"
   ],
   "metadata": {
    "collapsed": false,
    "pycharm": {
     "name": "#%% md\n"
    }
   }
  },
  {
   "cell_type": "code",
   "execution_count": 91,
   "outputs": [
    {
     "name": "stdout",
     "output_type": "stream",
     "text": [
      "<class 'list'>\n",
      "31\n",
      "<class 'dict'>\n"
     ]
    }
   ],
   "source": [
    "r = r.json()\n",
    "print(type(r))\n",
    "print(len(r))\n",
    "print(type(r[0]))"
   ],
   "metadata": {
    "collapsed": false,
    "pycharm": {
     "name": "#%%\n"
    }
   }
  },
  {
   "cell_type": "code",
   "execution_count": 92,
   "outputs": [
    {
     "data": {
      "text/plain": "  dbcode exp      id  isParent    name   open pid   wd\n0   fsnd      110000      True     北京市  False  00  reg\n1   fsnd      120000      True     天津市  False  00  reg\n2   fsnd      130000      True     河北省  False  00  reg\n3   fsnd      140000      True     山西省  False  00  reg\n4   fsnd      150000      True  内蒙古自治区  False  00  reg",
      "text/html": "<div>\n<style scoped>\n    .dataframe tbody tr th:only-of-type {\n        vertical-align: middle;\n    }\n\n    .dataframe tbody tr th {\n        vertical-align: top;\n    }\n\n    .dataframe thead th {\n        text-align: right;\n    }\n</style>\n<table border=\"1\" class=\"dataframe\">\n  <thead>\n    <tr style=\"text-align: right;\">\n      <th></th>\n      <th>dbcode</th>\n      <th>exp</th>\n      <th>id</th>\n      <th>isParent</th>\n      <th>name</th>\n      <th>open</th>\n      <th>pid</th>\n      <th>wd</th>\n    </tr>\n  </thead>\n  <tbody>\n    <tr>\n      <th>0</th>\n      <td>fsnd</td>\n      <td></td>\n      <td>110000</td>\n      <td>True</td>\n      <td>北京市</td>\n      <td>False</td>\n      <td>00</td>\n      <td>reg</td>\n    </tr>\n    <tr>\n      <th>1</th>\n      <td>fsnd</td>\n      <td></td>\n      <td>120000</td>\n      <td>True</td>\n      <td>天津市</td>\n      <td>False</td>\n      <td>00</td>\n      <td>reg</td>\n    </tr>\n    <tr>\n      <th>2</th>\n      <td>fsnd</td>\n      <td></td>\n      <td>130000</td>\n      <td>True</td>\n      <td>河北省</td>\n      <td>False</td>\n      <td>00</td>\n      <td>reg</td>\n    </tr>\n    <tr>\n      <th>3</th>\n      <td>fsnd</td>\n      <td></td>\n      <td>140000</td>\n      <td>True</td>\n      <td>山西省</td>\n      <td>False</td>\n      <td>00</td>\n      <td>reg</td>\n    </tr>\n    <tr>\n      <th>4</th>\n      <td>fsnd</td>\n      <td></td>\n      <td>150000</td>\n      <td>True</td>\n      <td>内蒙古自治区</td>\n      <td>False</td>\n      <td>00</td>\n      <td>reg</td>\n    </tr>\n  </tbody>\n</table>\n</div>"
     },
     "execution_count": 92,
     "metadata": {},
     "output_type": "execute_result"
    }
   ],
   "source": [
    "prov_id = pd.DataFrame(r)\n",
    "prov_id.head()"
   ],
   "metadata": {
    "collapsed": false,
    "pycharm": {
     "name": "#%%\n"
    }
   }
  },
  {
   "cell_type": "markdown",
   "source": [
    "### 通过不同参数构造访问url"
   ],
   "metadata": {
    "collapsed": false,
    "pycharm": {
     "name": "#%% md\n"
    }
   }
  },
  {
   "cell_type": "markdown",
   "source": [
    "### 常规分类方式"
   ],
   "metadata": {
    "collapsed": false,
    "pycharm": {
     "name": "#%% md\n"
    }
   }
  },
  {
   "cell_type": "code",
   "execution_count": 93,
   "outputs": [
    {
     "name": "stdout",
     "output_type": "stream",
     "text": [
      "{'100001': '华北',\n",
      " '100002': '东北',\n",
      " '100003': '华东',\n",
      " '100004': '中南',\n",
      " '100005': '西南',\n",
      " '100006': '西北'}\n"
     ]
    }
   ],
   "source": [
    "list_pid = [ str(pid) for pid in np.arange(100001, 100006+1) ]\n",
    "list_pid_cn = ['华北', '东北', '华东', '中南', '西南', '西北']\n",
    "pid_dict = dict(zip(list_pid, list_pid_cn))\n",
    "del list_pid_cn\n",
    "pprint(pid_dict)"
   ],
   "metadata": {
    "collapsed": false,
    "pycharm": {
     "name": "#%%\n"
    }
   }
  },
  {
   "cell_type": "code",
   "execution_count": 94,
   "outputs": [],
   "source": [
    "# 构造params 参数\n",
    "# treeId可选值为 100001 - 100006\n",
    "# treeId经过分析, 是一系列可选列表, 而df是dbcode, 目前有fsnd,fsyd不影响请求结果\n",
    "def set_params(tree_id:str, db='fsnd'):\n",
    "    return {\n",
    "        'm':'findZbXl',\n",
    "        'db':db,\n",
    "        'wd':'reg',\n",
    "        'treeId':tree_id\n",
    "    }"
   ],
   "metadata": {
    "collapsed": false,
    "pycharm": {
     "name": "#%%\n"
    }
   }
  },
  {
   "cell_type": "code",
   "execution_count": 95,
   "outputs": [
    {
     "name": "stdout",
     "output_type": "stream",
     "text": [
      "https://data.stats.gov.cn/adv.htm?m=findZbXl&db=fsnd&wd=reg&treeId=100001\n",
      "utf-8\n"
     ]
    },
    {
     "data": {
      "text/plain": "  dbcode exp      id  isParent    name   open     pid   wd pid_name\n0   fsnd      110000      True     北京市  False  100001  reg       华北\n1   fsnd      120000      True     天津市  False  100001  reg       华北\n2   fsnd      130000      True     河北省  False  100001  reg       华北\n3   fsnd      140000      True     山西省  False  100001  reg       华北\n4   fsnd      150000      True  内蒙古自治区  False  100001  reg       华北",
      "text/html": "<div>\n<style scoped>\n    .dataframe tbody tr th:only-of-type {\n        vertical-align: middle;\n    }\n\n    .dataframe tbody tr th {\n        vertical-align: top;\n    }\n\n    .dataframe thead th {\n        text-align: right;\n    }\n</style>\n<table border=\"1\" class=\"dataframe\">\n  <thead>\n    <tr style=\"text-align: right;\">\n      <th></th>\n      <th>dbcode</th>\n      <th>exp</th>\n      <th>id</th>\n      <th>isParent</th>\n      <th>name</th>\n      <th>open</th>\n      <th>pid</th>\n      <th>wd</th>\n      <th>pid_name</th>\n    </tr>\n  </thead>\n  <tbody>\n    <tr>\n      <th>0</th>\n      <td>fsnd</td>\n      <td></td>\n      <td>110000</td>\n      <td>True</td>\n      <td>北京市</td>\n      <td>False</td>\n      <td>100001</td>\n      <td>reg</td>\n      <td>华北</td>\n    </tr>\n    <tr>\n      <th>1</th>\n      <td>fsnd</td>\n      <td></td>\n      <td>120000</td>\n      <td>True</td>\n      <td>天津市</td>\n      <td>False</td>\n      <td>100001</td>\n      <td>reg</td>\n      <td>华北</td>\n    </tr>\n    <tr>\n      <th>2</th>\n      <td>fsnd</td>\n      <td></td>\n      <td>130000</td>\n      <td>True</td>\n      <td>河北省</td>\n      <td>False</td>\n      <td>100001</td>\n      <td>reg</td>\n      <td>华北</td>\n    </tr>\n    <tr>\n      <th>3</th>\n      <td>fsnd</td>\n      <td></td>\n      <td>140000</td>\n      <td>True</td>\n      <td>山西省</td>\n      <td>False</td>\n      <td>100001</td>\n      <td>reg</td>\n      <td>华北</td>\n    </tr>\n    <tr>\n      <th>4</th>\n      <td>fsnd</td>\n      <td></td>\n      <td>150000</td>\n      <td>True</td>\n      <td>内蒙古自治区</td>\n      <td>False</td>\n      <td>100001</td>\n      <td>reg</td>\n      <td>华北</td>\n    </tr>\n  </tbody>\n</table>\n</div>"
     },
     "execution_count": 95,
     "metadata": {},
     "output_type": "execute_result"
    }
   ],
   "source": [
    "# 单页\n",
    "base_url = 'https://data.stats.gov.cn/adv.htm?'\n",
    "params = set_params('100001')\n",
    "# verify = certifi.where() # 依旧产生ssl错误, 直接设置verify为false\n",
    "r = requests.get(base_url,params=params,verify=False)\n",
    "print(r.url)\n",
    "print(r.encoding)\n",
    "r = pd.DataFrame(r.json())\n",
    "r = r.assign(pid_name=pid_dict.get('100001')) # 添加地区类别信息\n",
    "r.head()"
   ],
   "metadata": {
    "collapsed": false,
    "pycharm": {
     "name": "#%%\n"
    }
   }
  },
  {
   "cell_type": "code",
   "execution_count": 96,
   "outputs": [
    {
     "name": "stderr",
     "output_type": "stream",
     "text": [
      "100%|██████████| 6/6 [00:02<00:00,  2.50it/s]\n"
     ]
    }
   ],
   "source": [
    "# 多页采集\n",
    "base_url = 'https://data.stats.gov.cn/adv.htm?'\n",
    "df = []\n",
    "for treeId in tqdm(list_pid):\n",
    "    params = set_params(treeId)\n",
    "    r = requests.get(base_url,params=params,verify=False).json()\n",
    "    r = pd.DataFrame(r).assign(pid_name = pid_dict.get(treeId))\n",
    "    df.append(r)\n",
    "    time.sleep(np.random.rand() * 0.1)\n",
    "pid = pd.concat(df)"
   ],
   "metadata": {
    "collapsed": false,
    "pycharm": {
     "name": "#%%\n"
    }
   }
  },
  {
   "cell_type": "code",
   "execution_count": 97,
   "outputs": [],
   "source": [
    "# type(np.random.rand()) # rand函数不提供形状返回float,但是IDE还是会警告array"
   ],
   "metadata": {
    "collapsed": false,
    "pycharm": {
     "name": "#%%\n"
    }
   }
  },
  {
   "cell_type": "code",
   "execution_count": 98,
   "outputs": [
    {
     "data": {
      "text/plain": "  dbcode exp      id  isParent name   open     pid   wd pid_name\n0   fsnd      110000      True  北京市  False  100001  reg       华北\n1   fsnd      120000      True  天津市  False  100001  reg       华北\n2   fsnd      130000      True  河北省  False  100001  reg       华北",
      "text/html": "<div>\n<style scoped>\n    .dataframe tbody tr th:only-of-type {\n        vertical-align: middle;\n    }\n\n    .dataframe tbody tr th {\n        vertical-align: top;\n    }\n\n    .dataframe thead th {\n        text-align: right;\n    }\n</style>\n<table border=\"1\" class=\"dataframe\">\n  <thead>\n    <tr style=\"text-align: right;\">\n      <th></th>\n      <th>dbcode</th>\n      <th>exp</th>\n      <th>id</th>\n      <th>isParent</th>\n      <th>name</th>\n      <th>open</th>\n      <th>pid</th>\n      <th>wd</th>\n      <th>pid_name</th>\n    </tr>\n  </thead>\n  <tbody>\n    <tr>\n      <th>0</th>\n      <td>fsnd</td>\n      <td></td>\n      <td>110000</td>\n      <td>True</td>\n      <td>北京市</td>\n      <td>False</td>\n      <td>100001</td>\n      <td>reg</td>\n      <td>华北</td>\n    </tr>\n    <tr>\n      <th>1</th>\n      <td>fsnd</td>\n      <td></td>\n      <td>120000</td>\n      <td>True</td>\n      <td>天津市</td>\n      <td>False</td>\n      <td>100001</td>\n      <td>reg</td>\n      <td>华北</td>\n    </tr>\n    <tr>\n      <th>2</th>\n      <td>fsnd</td>\n      <td></td>\n      <td>130000</td>\n      <td>True</td>\n      <td>河北省</td>\n      <td>False</td>\n      <td>100001</td>\n      <td>reg</td>\n      <td>华北</td>\n    </tr>\n  </tbody>\n</table>\n</div>"
     },
     "execution_count": 98,
     "metadata": {},
     "output_type": "execute_result"
    }
   ],
   "source": [
    "pid.head(3)"
   ],
   "metadata": {
    "collapsed": false,
    "pycharm": {
     "name": "#%%\n"
    }
   }
  },
  {
   "cell_type": "code",
   "execution_count": 99,
   "outputs": [
    {
     "data": {
      "text/plain": "   dbcode exp      id  isParent      name   open pid   wd\n28   fsnd      630000      True       青海省  False  00  reg\n29   fsnd      640000      True   宁夏回族自治区  False  00  reg\n30   fsnd      650000      True  新疆维吾尔自治区  False  00  reg",
      "text/html": "<div>\n<style scoped>\n    .dataframe tbody tr th:only-of-type {\n        vertical-align: middle;\n    }\n\n    .dataframe tbody tr th {\n        vertical-align: top;\n    }\n\n    .dataframe thead th {\n        text-align: right;\n    }\n</style>\n<table border=\"1\" class=\"dataframe\">\n  <thead>\n    <tr style=\"text-align: right;\">\n      <th></th>\n      <th>dbcode</th>\n      <th>exp</th>\n      <th>id</th>\n      <th>isParent</th>\n      <th>name</th>\n      <th>open</th>\n      <th>pid</th>\n      <th>wd</th>\n    </tr>\n  </thead>\n  <tbody>\n    <tr>\n      <th>28</th>\n      <td>fsnd</td>\n      <td></td>\n      <td>630000</td>\n      <td>True</td>\n      <td>青海省</td>\n      <td>False</td>\n      <td>00</td>\n      <td>reg</td>\n    </tr>\n    <tr>\n      <th>29</th>\n      <td>fsnd</td>\n      <td></td>\n      <td>640000</td>\n      <td>True</td>\n      <td>宁夏回族自治区</td>\n      <td>False</td>\n      <td>00</td>\n      <td>reg</td>\n    </tr>\n    <tr>\n      <th>30</th>\n      <td>fsnd</td>\n      <td></td>\n      <td>650000</td>\n      <td>True</td>\n      <td>新疆维吾尔自治区</td>\n      <td>False</td>\n      <td>00</td>\n      <td>reg</td>\n    </tr>\n  </tbody>\n</table>\n</div>"
     },
     "execution_count": 99,
     "metadata": {},
     "output_type": "execute_result"
    }
   ],
   "source": [
    "prov_id.tail(3)"
   ],
   "metadata": {
    "collapsed": false,
    "pycharm": {
     "name": "#%%\n"
    }
   }
  },
  {
   "cell_type": "markdown",
   "source": [
    "### 数据合并,去除不必要的列"
   ],
   "metadata": {
    "collapsed": false,
    "pycharm": {
     "name": "#%% md\n"
    }
   }
  },
  {
   "cell_type": "code",
   "execution_count": 100,
   "outputs": [
    {
     "data": {
      "text/plain": "  dbcode exp      id  isParent name   open   wd general_pid general_name\n0   fsnd      110000      True  北京市  False  reg      100001           华北\n1   fsnd      120000      True  天津市  False  reg      100001           华北\n2   fsnd      130000      True  河北省  False  reg      100001           华北",
      "text/html": "<div>\n<style scoped>\n    .dataframe tbody tr th:only-of-type {\n        vertical-align: middle;\n    }\n\n    .dataframe tbody tr th {\n        vertical-align: top;\n    }\n\n    .dataframe thead th {\n        text-align: right;\n    }\n</style>\n<table border=\"1\" class=\"dataframe\">\n  <thead>\n    <tr style=\"text-align: right;\">\n      <th></th>\n      <th>dbcode</th>\n      <th>exp</th>\n      <th>id</th>\n      <th>isParent</th>\n      <th>name</th>\n      <th>open</th>\n      <th>wd</th>\n      <th>general_pid</th>\n      <th>general_name</th>\n    </tr>\n  </thead>\n  <tbody>\n    <tr>\n      <th>0</th>\n      <td>fsnd</td>\n      <td></td>\n      <td>110000</td>\n      <td>True</td>\n      <td>北京市</td>\n      <td>False</td>\n      <td>reg</td>\n      <td>100001</td>\n      <td>华北</td>\n    </tr>\n    <tr>\n      <th>1</th>\n      <td>fsnd</td>\n      <td></td>\n      <td>120000</td>\n      <td>True</td>\n      <td>天津市</td>\n      <td>False</td>\n      <td>reg</td>\n      <td>100001</td>\n      <td>华北</td>\n    </tr>\n    <tr>\n      <th>2</th>\n      <td>fsnd</td>\n      <td></td>\n      <td>130000</td>\n      <td>True</td>\n      <td>河北省</td>\n      <td>False</td>\n      <td>reg</td>\n      <td>100001</td>\n      <td>华北</td>\n    </tr>\n  </tbody>\n</table>\n</div>"
     },
     "execution_count": 100,
     "metadata": {},
     "output_type": "execute_result"
    }
   ],
   "source": [
    "pid = pid.loc[:,['id', 'name','pid', 'pid_name']].rename(columns={'pid':'general_pid', 'pid_name':'general_name'})\n",
    "prov_id = prov_id.drop(columns=['pid']).merge(pid,how='inner', on=['id','name'])\n",
    "prov_id.head(3)"
   ],
   "metadata": {
    "collapsed": false,
    "pycharm": {
     "name": "#%%\n"
    }
   }
  },
  {
   "cell_type": "markdown",
   "source": [
    "### 热点地区分类方式"
   ],
   "metadata": {
    "collapsed": false,
    "pycharm": {
     "name": "#%% md\n"
    }
   }
  },
  {
   "cell_type": "code",
   "execution_count": 101,
   "outputs": [],
   "source": [
    "base_url = 'https://data.stats.gov.cn/adv.htm'\n",
    "pid_dict = {\n",
    "    '200001':'长江三角洲', '200002':'环渤海地区',\n",
    "    '200003':'泛珠三角', '200004':'东部地区', '200005':'西部地区'\n",
    "}"
   ],
   "metadata": {
    "collapsed": false,
    "pycharm": {
     "name": "#%%\n"
    }
   }
  },
  {
   "cell_type": "code",
   "execution_count": 102,
   "outputs": [],
   "source": [
    "def get_prov_info( pid_dict:dict, base_url:str, db='fsnd' ):\n",
    "    df = []\n",
    "    for tree_id in tqdm(list(pid_dict)):\n",
    "        params = set_params(tree_id, db=db)\n",
    "        r = requests.get(base_url, params=params,verify=False).json()\n",
    "        r = pd.DataFrame(r).assign(pid_name = pid_dict.get(tree_id))\n",
    "        df.append(r)\n",
    "        time.sleep(np.random.rand() * 0.1)\n",
    "    return pd.concat(df)"
   ],
   "metadata": {
    "collapsed": false,
    "pycharm": {
     "name": "#%%\n"
    }
   }
  },
  {
   "cell_type": "code",
   "execution_count": 103,
   "outputs": [
    {
     "name": "stderr",
     "output_type": "stream",
     "text": [
      "100%|██████████| 5/5 [00:02<00:00,  2.36it/s]\n"
     ]
    },
    {
     "data": {
      "text/plain": "   dbcode exp      id  isParent   name   open     pid   wd pid_name\n6    fsnd      540000      True  西藏自治区  False  200005  reg     西部地区\n10   fsnd      460000      True    海南省  False  200004  reg     东部地区\n7    fsnd      610000      True    陕西省  False  200005  reg     西部地区",
      "text/html": "<div>\n<style scoped>\n    .dataframe tbody tr th:only-of-type {\n        vertical-align: middle;\n    }\n\n    .dataframe tbody tr th {\n        vertical-align: top;\n    }\n\n    .dataframe thead th {\n        text-align: right;\n    }\n</style>\n<table border=\"1\" class=\"dataframe\">\n  <thead>\n    <tr style=\"text-align: right;\">\n      <th></th>\n      <th>dbcode</th>\n      <th>exp</th>\n      <th>id</th>\n      <th>isParent</th>\n      <th>name</th>\n      <th>open</th>\n      <th>pid</th>\n      <th>wd</th>\n      <th>pid_name</th>\n    </tr>\n  </thead>\n  <tbody>\n    <tr>\n      <th>6</th>\n      <td>fsnd</td>\n      <td></td>\n      <td>540000</td>\n      <td>True</td>\n      <td>西藏自治区</td>\n      <td>False</td>\n      <td>200005</td>\n      <td>reg</td>\n      <td>西部地区</td>\n    </tr>\n    <tr>\n      <th>10</th>\n      <td>fsnd</td>\n      <td></td>\n      <td>460000</td>\n      <td>True</td>\n      <td>海南省</td>\n      <td>False</td>\n      <td>200004</td>\n      <td>reg</td>\n      <td>东部地区</td>\n    </tr>\n    <tr>\n      <th>7</th>\n      <td>fsnd</td>\n      <td></td>\n      <td>610000</td>\n      <td>True</td>\n      <td>陕西省</td>\n      <td>False</td>\n      <td>200005</td>\n      <td>reg</td>\n      <td>西部地区</td>\n    </tr>\n  </tbody>\n</table>\n</div>"
     },
     "execution_count": 103,
     "metadata": {},
     "output_type": "execute_result"
    }
   ],
   "source": [
    "pid = get_prov_info(pid_dict, base_url)\n",
    "pid.sample(3)"
   ],
   "metadata": {
    "collapsed": false,
    "pycharm": {
     "name": "#%%\n"
    }
   }
  },
  {
   "cell_type": "code",
   "execution_count": 104,
   "outputs": [
    {
     "data": {
      "text/plain": "   dbcode exp      id  isParent name   open   wd general_pid general_name  \\\n8    fsnd      210000      True  辽宁省  False  reg      100002           东北   \n4    fsnd      130000      True  河北省  False  reg      100001           华北   \n30   fsnd      520000      True  贵州省  False  reg      100005           西南   \n\n   hot_spot_pid hot_spot_name  \n8        200004          东部地区  \n4        200002         环渤海地区  \n30       200003          泛珠三角  ",
      "text/html": "<div>\n<style scoped>\n    .dataframe tbody tr th:only-of-type {\n        vertical-align: middle;\n    }\n\n    .dataframe tbody tr th {\n        vertical-align: top;\n    }\n\n    .dataframe thead th {\n        text-align: right;\n    }\n</style>\n<table border=\"1\" class=\"dataframe\">\n  <thead>\n    <tr style=\"text-align: right;\">\n      <th></th>\n      <th>dbcode</th>\n      <th>exp</th>\n      <th>id</th>\n      <th>isParent</th>\n      <th>name</th>\n      <th>open</th>\n      <th>wd</th>\n      <th>general_pid</th>\n      <th>general_name</th>\n      <th>hot_spot_pid</th>\n      <th>hot_spot_name</th>\n    </tr>\n  </thead>\n  <tbody>\n    <tr>\n      <th>8</th>\n      <td>fsnd</td>\n      <td></td>\n      <td>210000</td>\n      <td>True</td>\n      <td>辽宁省</td>\n      <td>False</td>\n      <td>reg</td>\n      <td>100002</td>\n      <td>东北</td>\n      <td>200004</td>\n      <td>东部地区</td>\n    </tr>\n    <tr>\n      <th>4</th>\n      <td>fsnd</td>\n      <td></td>\n      <td>130000</td>\n      <td>True</td>\n      <td>河北省</td>\n      <td>False</td>\n      <td>reg</td>\n      <td>100001</td>\n      <td>华北</td>\n      <td>200002</td>\n      <td>环渤海地区</td>\n    </tr>\n    <tr>\n      <th>30</th>\n      <td>fsnd</td>\n      <td></td>\n      <td>520000</td>\n      <td>True</td>\n      <td>贵州省</td>\n      <td>False</td>\n      <td>reg</td>\n      <td>100005</td>\n      <td>西南</td>\n      <td>200003</td>\n      <td>泛珠三角</td>\n    </tr>\n  </tbody>\n</table>\n</div>"
     },
     "execution_count": 104,
     "metadata": {},
     "output_type": "execute_result"
    }
   ],
   "source": [
    "pid = pid.loc[:,['id', 'name','pid', 'pid_name']].rename(columns={'pid':'hot_spot_pid','pid_name':'hot_spot_name'})\n",
    "prov_id = prov_id.merge(pid, how='inner', on=['id','name'])\n",
    "prov_id.sample(3)"
   ],
   "metadata": {
    "collapsed": false,
    "pycharm": {
     "name": "#%%\n"
    }
   }
  },
  {
   "cell_type": "markdown",
   "source": [
    "### 八大经济地区-economic"
   ],
   "metadata": {
    "collapsed": false,
    "pycharm": {
     "name": "#%% md\n"
    }
   }
  },
  {
   "cell_type": "code",
   "execution_count": 105,
   "outputs": [],
   "source": [
    "base_url = 'https://data.stats.gov.cn/adv.htm'\n",
    "pid_dict = {\n",
    "    '800001':'东北地区', '800002':'北部沿海', '800003':'东部沿海', '800004':'南部沿海',\n",
    "    '800005':'黄河中游', '800006':'长江中游', '800007':'西南地区', '800008':'大西北地区'\n",
    "}"
   ],
   "metadata": {
    "collapsed": false,
    "pycharm": {
     "name": "#%%\n"
    }
   }
  },
  {
   "cell_type": "code",
   "execution_count": 106,
   "outputs": [
    {
     "name": "stderr",
     "output_type": "stream",
     "text": [
      "100%|██████████| 8/8 [00:03<00:00,  2.52it/s]\n"
     ]
    },
    {
     "data": {
      "text/plain": "  dbcode exp      id  isParent  name   open     pid   wd pid_name\n0   fsyd      210000      True   辽宁省  False  800001  reg     东北地区\n1   fsyd      220000      True   吉林省  False  800001  reg     东北地区\n2   fsyd      230000      True  黑龙江省  False  800001  reg     东北地区\n0   fsyd      110000      True   北京市  False  800002  reg     北部沿海\n1   fsyd      120000      True   天津市  False  800002  reg     北部沿海",
      "text/html": "<div>\n<style scoped>\n    .dataframe tbody tr th:only-of-type {\n        vertical-align: middle;\n    }\n\n    .dataframe tbody tr th {\n        vertical-align: top;\n    }\n\n    .dataframe thead th {\n        text-align: right;\n    }\n</style>\n<table border=\"1\" class=\"dataframe\">\n  <thead>\n    <tr style=\"text-align: right;\">\n      <th></th>\n      <th>dbcode</th>\n      <th>exp</th>\n      <th>id</th>\n      <th>isParent</th>\n      <th>name</th>\n      <th>open</th>\n      <th>pid</th>\n      <th>wd</th>\n      <th>pid_name</th>\n    </tr>\n  </thead>\n  <tbody>\n    <tr>\n      <th>0</th>\n      <td>fsyd</td>\n      <td></td>\n      <td>210000</td>\n      <td>True</td>\n      <td>辽宁省</td>\n      <td>False</td>\n      <td>800001</td>\n      <td>reg</td>\n      <td>东北地区</td>\n    </tr>\n    <tr>\n      <th>1</th>\n      <td>fsyd</td>\n      <td></td>\n      <td>220000</td>\n      <td>True</td>\n      <td>吉林省</td>\n      <td>False</td>\n      <td>800001</td>\n      <td>reg</td>\n      <td>东北地区</td>\n    </tr>\n    <tr>\n      <th>2</th>\n      <td>fsyd</td>\n      <td></td>\n      <td>230000</td>\n      <td>True</td>\n      <td>黑龙江省</td>\n      <td>False</td>\n      <td>800001</td>\n      <td>reg</td>\n      <td>东北地区</td>\n    </tr>\n    <tr>\n      <th>0</th>\n      <td>fsyd</td>\n      <td></td>\n      <td>110000</td>\n      <td>True</td>\n      <td>北京市</td>\n      <td>False</td>\n      <td>800002</td>\n      <td>reg</td>\n      <td>北部沿海</td>\n    </tr>\n    <tr>\n      <th>1</th>\n      <td>fsyd</td>\n      <td></td>\n      <td>120000</td>\n      <td>True</td>\n      <td>天津市</td>\n      <td>False</td>\n      <td>800002</td>\n      <td>reg</td>\n      <td>北部沿海</td>\n    </tr>\n  </tbody>\n</table>\n</div>"
     },
     "execution_count": 106,
     "metadata": {},
     "output_type": "execute_result"
    }
   ],
   "source": [
    "pid = get_prov_info(pid_dict, base_url,db='fsyd')\n",
    "pid.head()"
   ],
   "metadata": {
    "collapsed": false,
    "pycharm": {
     "name": "#%%\n"
    }
   }
  },
  {
   "cell_type": "code",
   "execution_count": 107,
   "outputs": [
    {
     "data": {
      "text/plain": "   dbcode exp      id  isParent name   open   wd general_pid general_name  \\\n2    fsnd      120000      True  天津市  False  reg      100001           华北   \n11   fsnd      320000      True  江苏省  False  reg      100003           华东   \n0    fsnd      110000      True  北京市  False  reg      100001           华北   \n\n   hot_spot_pid hot_spot_name economic_pid economic_name  \n2        200002         环渤海地区       800002          北部沿海  \n11       200001         长江三角洲       800003          东部沿海  \n0        200002         环渤海地区       800002          北部沿海  ",
      "text/html": "<div>\n<style scoped>\n    .dataframe tbody tr th:only-of-type {\n        vertical-align: middle;\n    }\n\n    .dataframe tbody tr th {\n        vertical-align: top;\n    }\n\n    .dataframe thead th {\n        text-align: right;\n    }\n</style>\n<table border=\"1\" class=\"dataframe\">\n  <thead>\n    <tr style=\"text-align: right;\">\n      <th></th>\n      <th>dbcode</th>\n      <th>exp</th>\n      <th>id</th>\n      <th>isParent</th>\n      <th>name</th>\n      <th>open</th>\n      <th>wd</th>\n      <th>general_pid</th>\n      <th>general_name</th>\n      <th>hot_spot_pid</th>\n      <th>hot_spot_name</th>\n      <th>economic_pid</th>\n      <th>economic_name</th>\n    </tr>\n  </thead>\n  <tbody>\n    <tr>\n      <th>2</th>\n      <td>fsnd</td>\n      <td></td>\n      <td>120000</td>\n      <td>True</td>\n      <td>天津市</td>\n      <td>False</td>\n      <td>reg</td>\n      <td>100001</td>\n      <td>华北</td>\n      <td>200002</td>\n      <td>环渤海地区</td>\n      <td>800002</td>\n      <td>北部沿海</td>\n    </tr>\n    <tr>\n      <th>11</th>\n      <td>fsnd</td>\n      <td></td>\n      <td>320000</td>\n      <td>True</td>\n      <td>江苏省</td>\n      <td>False</td>\n      <td>reg</td>\n      <td>100003</td>\n      <td>华东</td>\n      <td>200001</td>\n      <td>长江三角洲</td>\n      <td>800003</td>\n      <td>东部沿海</td>\n    </tr>\n    <tr>\n      <th>0</th>\n      <td>fsnd</td>\n      <td></td>\n      <td>110000</td>\n      <td>True</td>\n      <td>北京市</td>\n      <td>False</td>\n      <td>reg</td>\n      <td>100001</td>\n      <td>华北</td>\n      <td>200002</td>\n      <td>环渤海地区</td>\n      <td>800002</td>\n      <td>北部沿海</td>\n    </tr>\n  </tbody>\n</table>\n</div>"
     },
     "execution_count": 107,
     "metadata": {},
     "output_type": "execute_result"
    }
   ],
   "source": [
    "pid = pid.loc[:,['id', 'name', 'pid', 'pid_name']].rename(columns={'pid':'economic_pid','pid_name':'economic_name'})\n",
    "prov_id = prov_id.merge(pid, how='inner', on=['id','name'])\n",
    "prov_id.sample(3)"
   ],
   "metadata": {
    "collapsed": false,
    "pycharm": {
     "name": "#%%\n"
    }
   }
  },
  {
   "cell_type": "markdown",
   "source": [
    "### 三大地带——region3"
   ],
   "metadata": {
    "collapsed": false,
    "pycharm": {
     "name": "#%% md\n"
    }
   }
  },
  {
   "cell_type": "code",
   "execution_count": 108,
   "outputs": [],
   "source": [
    "base_url = 'https://data.stats.gov.cn/adv.htm'\n",
    "pid_dict = {\n",
    "    '900001':'东部地带', '900002':'中部地带', '900003':'西部地带'\n",
    "}"
   ],
   "metadata": {
    "collapsed": false,
    "pycharm": {
     "name": "#%%\n"
    }
   }
  },
  {
   "cell_type": "code",
   "execution_count": 109,
   "outputs": [
    {
     "name": "stderr",
     "output_type": "stream",
     "text": [
      "100%|██████████| 3/3 [00:01<00:00,  2.54it/s]\n"
     ]
    },
    {
     "data": {
      "text/plain": "  dbcode exp      id  isParent name   open     pid   wd pid_name\n0   fsyd      110000      True  北京市  False  900001  reg     东部地带\n1   fsyd      120000      True  天津市  False  900001  reg     东部地带\n2   fsyd      130000      True  河北省  False  900001  reg     东部地带\n3   fsyd      210000      True  辽宁省  False  900001  reg     东部地带\n4   fsyd      310000      True  上海市  False  900001  reg     东部地带",
      "text/html": "<div>\n<style scoped>\n    .dataframe tbody tr th:only-of-type {\n        vertical-align: middle;\n    }\n\n    .dataframe tbody tr th {\n        vertical-align: top;\n    }\n\n    .dataframe thead th {\n        text-align: right;\n    }\n</style>\n<table border=\"1\" class=\"dataframe\">\n  <thead>\n    <tr style=\"text-align: right;\">\n      <th></th>\n      <th>dbcode</th>\n      <th>exp</th>\n      <th>id</th>\n      <th>isParent</th>\n      <th>name</th>\n      <th>open</th>\n      <th>pid</th>\n      <th>wd</th>\n      <th>pid_name</th>\n    </tr>\n  </thead>\n  <tbody>\n    <tr>\n      <th>0</th>\n      <td>fsyd</td>\n      <td></td>\n      <td>110000</td>\n      <td>True</td>\n      <td>北京市</td>\n      <td>False</td>\n      <td>900001</td>\n      <td>reg</td>\n      <td>东部地带</td>\n    </tr>\n    <tr>\n      <th>1</th>\n      <td>fsyd</td>\n      <td></td>\n      <td>120000</td>\n      <td>True</td>\n      <td>天津市</td>\n      <td>False</td>\n      <td>900001</td>\n      <td>reg</td>\n      <td>东部地带</td>\n    </tr>\n    <tr>\n      <th>2</th>\n      <td>fsyd</td>\n      <td></td>\n      <td>130000</td>\n      <td>True</td>\n      <td>河北省</td>\n      <td>False</td>\n      <td>900001</td>\n      <td>reg</td>\n      <td>东部地带</td>\n    </tr>\n    <tr>\n      <th>3</th>\n      <td>fsyd</td>\n      <td></td>\n      <td>210000</td>\n      <td>True</td>\n      <td>辽宁省</td>\n      <td>False</td>\n      <td>900001</td>\n      <td>reg</td>\n      <td>东部地带</td>\n    </tr>\n    <tr>\n      <th>4</th>\n      <td>fsyd</td>\n      <td></td>\n      <td>310000</td>\n      <td>True</td>\n      <td>上海市</td>\n      <td>False</td>\n      <td>900001</td>\n      <td>reg</td>\n      <td>东部地带</td>\n    </tr>\n  </tbody>\n</table>\n</div>"
     },
     "execution_count": 109,
     "metadata": {},
     "output_type": "execute_result"
    }
   ],
   "source": [
    "pid = get_prov_info(pid_dict, base_url,db='fsyd')\n",
    "pid.head()"
   ],
   "metadata": {
    "collapsed": false,
    "pycharm": {
     "name": "#%%\n"
    }
   }
  },
  {
   "cell_type": "code",
   "execution_count": 110,
   "outputs": [
    {
     "data": {
      "text/plain": "   dbcode exp      id  isParent name   open   wd general_pid general_name  \\\n30   fsnd      520000      True  贵州省  False  reg      100005           西南   \n36   fsnd      620000      True  甘肃省  False  reg      100006           西北   \n17   fsnd      360000      True  江西省  False  reg      100003           华东   \n\n   hot_spot_pid hot_spot_name economic_pid economic_name region3_pid  \\\n30       200003          泛珠三角       800007          西南地区      900003   \n36       200005          西部地区       800008         大西北地区      900003   \n17       200003          泛珠三角       800006          长江中游      900002   \n\n   region3_name  \n30         西部地带  \n36         西部地带  \n17         中部地带  ",
      "text/html": "<div>\n<style scoped>\n    .dataframe tbody tr th:only-of-type {\n        vertical-align: middle;\n    }\n\n    .dataframe tbody tr th {\n        vertical-align: top;\n    }\n\n    .dataframe thead th {\n        text-align: right;\n    }\n</style>\n<table border=\"1\" class=\"dataframe\">\n  <thead>\n    <tr style=\"text-align: right;\">\n      <th></th>\n      <th>dbcode</th>\n      <th>exp</th>\n      <th>id</th>\n      <th>isParent</th>\n      <th>name</th>\n      <th>open</th>\n      <th>wd</th>\n      <th>general_pid</th>\n      <th>general_name</th>\n      <th>hot_spot_pid</th>\n      <th>hot_spot_name</th>\n      <th>economic_pid</th>\n      <th>economic_name</th>\n      <th>region3_pid</th>\n      <th>region3_name</th>\n    </tr>\n  </thead>\n  <tbody>\n    <tr>\n      <th>30</th>\n      <td>fsnd</td>\n      <td></td>\n      <td>520000</td>\n      <td>True</td>\n      <td>贵州省</td>\n      <td>False</td>\n      <td>reg</td>\n      <td>100005</td>\n      <td>西南</td>\n      <td>200003</td>\n      <td>泛珠三角</td>\n      <td>800007</td>\n      <td>西南地区</td>\n      <td>900003</td>\n      <td>西部地带</td>\n    </tr>\n    <tr>\n      <th>36</th>\n      <td>fsnd</td>\n      <td></td>\n      <td>620000</td>\n      <td>True</td>\n      <td>甘肃省</td>\n      <td>False</td>\n      <td>reg</td>\n      <td>100006</td>\n      <td>西北</td>\n      <td>200005</td>\n      <td>西部地区</td>\n      <td>800008</td>\n      <td>大西北地区</td>\n      <td>900003</td>\n      <td>西部地带</td>\n    </tr>\n    <tr>\n      <th>17</th>\n      <td>fsnd</td>\n      <td></td>\n      <td>360000</td>\n      <td>True</td>\n      <td>江西省</td>\n      <td>False</td>\n      <td>reg</td>\n      <td>100003</td>\n      <td>华东</td>\n      <td>200003</td>\n      <td>泛珠三角</td>\n      <td>800006</td>\n      <td>长江中游</td>\n      <td>900002</td>\n      <td>中部地带</td>\n    </tr>\n  </tbody>\n</table>\n</div>"
     },
     "execution_count": 110,
     "metadata": {},
     "output_type": "execute_result"
    }
   ],
   "source": [
    "pid = pid.loc[:,['id', 'name', 'pid', 'pid_name']].rename(columns={'pid':'region3_pid','pid_name':'region3_name'})\n",
    "prov_id = prov_id.merge(pid, how='inner', on=['id','name'])\n",
    "prov_id.sample(3)"
   ],
   "metadata": {
    "collapsed": false,
    "pycharm": {
     "name": "#%%\n"
    }
   }
  },
  {
   "cell_type": "code",
   "execution_count": 111,
   "outputs": [
    {
     "data": {
      "text/plain": "       id name general_pid general_name hot_spot_pid hot_spot_name  \\\n0  110000  北京市      100001           华北       200002         环渤海地区   \n1  110000  北京市      100001           华北       200004          东部地区   \n2  120000  天津市      100001           华北       200002         环渤海地区   \n3  120000  天津市      100001           华北       200004          东部地区   \n4  130000  河北省      100001           华北       200002         环渤海地区   \n\n  economic_pid economic_name region3_pid region3_name  \n0       800002          北部沿海      900001         东部地带  \n1       800002          北部沿海      900001         东部地带  \n2       800002          北部沿海      900001         东部地带  \n3       800002          北部沿海      900001         东部地带  \n4       800002          北部沿海      900001         东部地带  ",
      "text/html": "<div>\n<style scoped>\n    .dataframe tbody tr th:only-of-type {\n        vertical-align: middle;\n    }\n\n    .dataframe tbody tr th {\n        vertical-align: top;\n    }\n\n    .dataframe thead th {\n        text-align: right;\n    }\n</style>\n<table border=\"1\" class=\"dataframe\">\n  <thead>\n    <tr style=\"text-align: right;\">\n      <th></th>\n      <th>id</th>\n      <th>name</th>\n      <th>general_pid</th>\n      <th>general_name</th>\n      <th>hot_spot_pid</th>\n      <th>hot_spot_name</th>\n      <th>economic_pid</th>\n      <th>economic_name</th>\n      <th>region3_pid</th>\n      <th>region3_name</th>\n    </tr>\n  </thead>\n  <tbody>\n    <tr>\n      <th>0</th>\n      <td>110000</td>\n      <td>北京市</td>\n      <td>100001</td>\n      <td>华北</td>\n      <td>200002</td>\n      <td>环渤海地区</td>\n      <td>800002</td>\n      <td>北部沿海</td>\n      <td>900001</td>\n      <td>东部地带</td>\n    </tr>\n    <tr>\n      <th>1</th>\n      <td>110000</td>\n      <td>北京市</td>\n      <td>100001</td>\n      <td>华北</td>\n      <td>200004</td>\n      <td>东部地区</td>\n      <td>800002</td>\n      <td>北部沿海</td>\n      <td>900001</td>\n      <td>东部地带</td>\n    </tr>\n    <tr>\n      <th>2</th>\n      <td>120000</td>\n      <td>天津市</td>\n      <td>100001</td>\n      <td>华北</td>\n      <td>200002</td>\n      <td>环渤海地区</td>\n      <td>800002</td>\n      <td>北部沿海</td>\n      <td>900001</td>\n      <td>东部地带</td>\n    </tr>\n    <tr>\n      <th>3</th>\n      <td>120000</td>\n      <td>天津市</td>\n      <td>100001</td>\n      <td>华北</td>\n      <td>200004</td>\n      <td>东部地区</td>\n      <td>800002</td>\n      <td>北部沿海</td>\n      <td>900001</td>\n      <td>东部地带</td>\n    </tr>\n    <tr>\n      <th>4</th>\n      <td>130000</td>\n      <td>河北省</td>\n      <td>100001</td>\n      <td>华北</td>\n      <td>200002</td>\n      <td>环渤海地区</td>\n      <td>800002</td>\n      <td>北部沿海</td>\n      <td>900001</td>\n      <td>东部地带</td>\n    </tr>\n  </tbody>\n</table>\n</div>"
     },
     "execution_count": 111,
     "metadata": {},
     "output_type": "execute_result"
    }
   ],
   "source": [
    "prov_id = prov_id.drop(columns=['dbcode', 'exp','isParent', 'open', 'wd']).reset_index(drop=True)\n",
    "prov_id.head()"
   ],
   "metadata": {
    "collapsed": false,
    "pycharm": {
     "name": "#%%\n"
    }
   }
  },
  {
   "cell_type": "code",
   "execution_count": 120,
   "outputs": [],
   "source": [
    "prov_id.to_csv('../data/prov_id.csv', index=False, encoding='utf-8')"
   ],
   "metadata": {
    "collapsed": false,
    "pycharm": {
     "name": "#%%\n"
    }
   }
  },
  {
   "cell_type": "code",
   "execution_count": 112,
   "outputs": [],
   "source": [],
   "metadata": {
    "collapsed": false,
    "pycharm": {
     "name": "#%%\n"
    }
   }
  }
 ],
 "metadata": {
  "kernelspec": {
   "display_name": "Python 3",
   "language": "python",
   "name": "python3"
  },
  "language_info": {
   "codemirror_mode": {
    "name": "ipython",
    "version": 2
   },
   "file_extension": ".py",
   "mimetype": "text/x-python",
   "name": "python",
   "nbconvert_exporter": "python",
   "pygments_lexer": "ipython2",
   "version": "2.7.6"
  }
 },
 "nbformat": 4,
 "nbformat_minor": 0
}
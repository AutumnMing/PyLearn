{
 "cells": [
  {
   "cell_type": "code",
   "execution_count": 1,
   "metadata": {
    "collapsed": true,
    "pycharm": {
     "name": "#%%\n"
    }
   },
   "outputs": [],
   "source": [
    "from selenium import webdriver\n",
    "from time import sleep\n",
    "from selenium.webdriver.common.by import By\n",
    "from selenium.webdriver.support.select import Select"
   ]
  },
  {
   "cell_type": "markdown",
   "source": [
    "### 获取省级地区列表"
   ],
   "metadata": {
    "collapsed": false,
    "pycharm": {
     "name": "#%% md\n"
    }
   }
  },
  {
   "cell_type": "code",
   "execution_count": 18,
   "outputs": [],
   "source": [
    "browser = webdriver.Edge()\n",
    "browser.get('http://xzqh.mca.gov.cn/map')\n",
    "sleep(10)\n",
    "select_prov_element = browser.find_element(By.NAME, 'shengji')\n",
    "sleep(10)\n",
    "select_prov = Select(select_prov_element)\n",
    "shengji_list = select_prov.options"
   ],
   "metadata": {
    "collapsed": false,
    "pycharm": {
     "name": "#%%\n"
    }
   }
  },
  {
   "cell_type": "code",
   "execution_count": 19,
   "outputs": [
    {
     "name": "stdout",
     "output_type": "stream",
     "text": [
      "['北京市（京）', '天津市（津）', '河北省（冀）', '山西省（晋）', '内蒙古自治区（内蒙古）', '辽宁省（辽）', '吉林省（吉）', '黑龙江省（黑）', '上海市（沪）', '江苏省（苏）', '浙江省（浙）', '安徽省（皖）', '福建省（闽）', '江西省（赣）', '山东省（鲁）', '河南省（豫）', '湖北省（鄂）', '湖南省（湘）', '广东省（粤）', '广西壮族自治区（桂）', '海南省（琼）', '重庆市（渝）', '四川省（川、蜀）', '贵州省（黔、贵）', '云南省（滇、云）', '西藏自治区（藏）', '陕西省（陕、秦）', '甘肃省（甘、陇）', '青海省（青）', '宁夏回族自治区（宁）', '新疆维吾尔自治区（新）', '香港特别行政区（港）', '澳门特别行政区（澳）', '台湾省（台）']\n",
      "34\n"
     ]
    }
   ],
   "source": [
    "prov_list = [each.text for each in shengji_list[1:]]\n",
    "print(prov_list)\n",
    "print(len(prov_list))"
   ],
   "metadata": {
    "collapsed": false,
    "pycharm": {
     "name": "#%%\n"
    }
   }
  },
  {
   "cell_type": "markdown",
   "source": [
    "#### 将省级的名称传入下拉框, 获取地级市的列表"
   ],
   "metadata": {
    "collapsed": false,
    "pycharm": {
     "name": "#%% md\n"
    }
   }
  },
  {
   "cell_type": "code",
   "execution_count": 20,
   "outputs": [
    {
     "data": {
      "text/plain": "'河北省（冀）'"
     },
     "execution_count": 20,
     "metadata": {},
     "output_type": "execute_result"
    }
   ],
   "source": [
    "prov_list[2]"
   ],
   "metadata": {
    "collapsed": false,
    "pycharm": {
     "name": "#%%\n"
    }
   }
  },
  {
   "cell_type": "code",
   "execution_count": 21,
   "outputs": [],
   "source": [
    "select_prov.select_by_value(prov_list[2]) # 此时下拉框表示为河北省"
   ],
   "metadata": {
    "collapsed": false,
    "pycharm": {
     "name": "#%%\n"
    }
   }
  },
  {
   "cell_type": "code",
   "execution_count": 22,
   "outputs": [
    {
     "name": "stdout",
     "output_type": "stream",
     "text": [
      "['石家庄市', '唐山市', '秦皇岛市', '邯郸市', '邢台市', '保定市', '张家口市', '承德市', '沧州市', '廊坊市', '衡水市']\n"
     ]
    }
   ],
   "source": [
    "select_city_element = browser.find_element(By.NAME, 'diji')\n",
    "select_city = Select(select_city_element)\n",
    "diji_list = select_city.options\n",
    "city_list = [each.text for each in diji_list[1:]]\n",
    "print(city_list)"
   ],
   "metadata": {
    "collapsed": false,
    "pycharm": {
     "name": "#%%\n"
    }
   }
  },
  {
   "cell_type": "markdown",
   "source": [
    "#### 将市级的名称传入下拉框, 获取县级市的列表"
   ],
   "metadata": {
    "collapsed": false,
    "pycharm": {
     "name": "#%% md\n"
    }
   }
  },
  {
   "cell_type": "code",
   "execution_count": 23,
   "outputs": [
    {
     "name": "stdout",
     "output_type": "stream",
     "text": [
      "['长安区', '桥西区', '新华区', '井陉矿区', '裕华区', '藁城区', '鹿泉区', '栾城区', '辛集市', '晋州市', '新乐市', '井陉县', '正定县', '行唐县', '灵寿县', '高邑县', '深泽县', '赞皇县', '无极县', '平山县', '元氏县', '赵县']\n",
      "====================================================================================================\n",
      "['路北区', '路南区', '古冶区', '开平区', '丰南区', '丰润区', '曹妃甸区', '遵化市', '迁安市', '滦州市', '滦南县', '乐亭县', '迁西县', '玉田县']\n",
      "====================================================================================================\n",
      "['海港区', '山海关区', '北戴河区', '抚宁区', '昌黎县', '卢龙县', '青龙满族自治县']\n",
      "====================================================================================================\n",
      "['丛台区', '邯山区', '复兴区', '峰峰矿区', '肥乡区', '永年区', '武安市', '临漳县', '成安县', '大名县', '涉县', '磁县', '邱县', '鸡泽县', '广平县', '馆陶县', '魏县', '曲周县']\n",
      "====================================================================================================\n",
      "['襄都区', '信都区', '任泽区', '南和区', '南宫市', '沙河市', '临城县', '内丘县', '柏乡县', '隆尧县', '宁晋县', '巨鹿县', '新河县', '广宗县', '平乡县', '威县', '清河县', '临西县']\n",
      "====================================================================================================\n",
      "['竞秀区', '莲池区', '满城区', '清苑区', '徐水区', '涿州市', '定州市', '安国市', '高碑店市', '涞水县', '阜平县', '定兴县', '唐县', '高阳县', '容城县', '涞源县', '望都县', '安新县', '易县', '曲阳县', '蠡县', '顺平县', '博野县', '雄县']\n",
      "====================================================================================================\n",
      "['桥西区', '桥东区', '宣化区', '下花园区', '万全区', '崇礼区', '张北县', '康保县', '沽源县', '尚义县', '蔚县', '阳原县', '怀安县', '怀来县', '涿鹿县', '赤城县']\n",
      "====================================================================================================\n",
      "['双桥区', '双滦区', '鹰手营子矿区', '平泉市', '承德县', '兴隆县', '滦平县', '隆化县', '丰宁满族自治县', '宽城满族自治县', '围场满族蒙古族自治县']\n",
      "====================================================================================================\n",
      "['运河区', '新华区', '泊头市', '任丘市', '黄骅市', '河间市', '沧县', '青县', '东光县', '海兴县', '盐山县', '肃宁县', '南皮县', '吴桥县', '献县', '孟村回族自治县']\n",
      "====================================================================================================\n",
      "['广阳区', '安次区', '霸州市', '三河市', '固安县', '永清县', '香河县', '大城县', '文安县', '大厂回族自治县']\n",
      "====================================================================================================\n",
      "['桃城区', '冀州区', '深州市', '枣强县', '武邑县', '武强县', '饶阳县', '安平县', '故城县', '景县', '阜城县']\n",
      "====================================================================================================\n"
     ]
    }
   ],
   "source": [
    "for city in city_list:\n",
    "    # 传入值\n",
    "    select_city.select_by_value(city)\n",
    "    sleep(2)\n",
    "    # 找元素, 返回列表\n",
    "    select_element = browser.find_element(By.NAME, 'xianji')\n",
    "    select = Select(select_element)\n",
    "    xianji_list = select.options\n",
    "    district_list = [each.text for each in xianji_list[1:]]\n",
    "    print(district_list)\n",
    "    print('='*100)\n"
   ],
   "metadata": {
    "collapsed": false,
    "pycharm": {
     "name": "#%%\n"
    }
   }
  },
  {
   "cell_type": "code",
   "execution_count": 24,
   "outputs": [
    {
     "name": "stdout",
     "output_type": "stream",
     "text": [
      "关闭浏览器\n"
     ]
    }
   ],
   "source": [
    "browser.close()\n",
    "print('关闭浏览器')"
   ],
   "metadata": {
    "collapsed": false,
    "pycharm": {
     "name": "#%%\n"
    }
   }
  },
  {
   "cell_type": "code",
   "execution_count": null,
   "outputs": [],
   "source": [],
   "metadata": {
    "collapsed": false,
    "pycharm": {
     "name": "#%%\n"
    }
   }
  }
 ],
 "metadata": {
  "kernelspec": {
   "display_name": "Python 3",
   "language": "python",
   "name": "python3"
  },
  "language_info": {
   "codemirror_mode": {
    "name": "ipython",
    "version": 2
   },
   "file_extension": ".py",
   "mimetype": "text/x-python",
   "name": "python",
   "nbconvert_exporter": "python",
   "pygments_lexer": "ipython2",
   "version": "2.7.6"
  }
 },
 "nbformat": 4,
 "nbformat_minor": 0
}